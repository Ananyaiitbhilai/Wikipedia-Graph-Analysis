{
  "cells": [
    {
      "cell_type": "code",
      "execution_count": null,
      "metadata": {
        "id": "kYotRPZRRLgJ"
      },
      "outputs": [],
      "source": [
        "import requests as r\n",
        "from bs4 import BeautifulSoup\n",
        "import re\n",
        "import pandas as pd\n",
        "import networkx as nx\n",
        "import matplotlib.pyplot as plt\n",
        "import sys\n",
        "import pickle"
      ]
    },
    {
      "cell_type": "code",
      "execution_count": null,
      "metadata": {
        "id": "K_i0JUk4RLgL"
      },
      "outputs": [],
      "source": [
        "# List of links to ignore\n",
        "ignore = [\"%\",\"File\",\"User\",\"Special\",\"Category\",\"identifier\",\"Identifier\",\"Commons,\",\"Help\",\"Template\",\"Protection\",\"Wikipedia:\",\"Portal\",\"disambiguation\"]\n",
        "\n",
        "# Starting topics for JEE Advance Math topics\n",
        "topics = ['https://en.wikipedia.org/wiki/Statistics',\"https://en.wikipedia.org/wiki/Geometry\",\"https://en.wikipedia.org/wiki/Trigonometry\",'https://en.wikipedia.org/wiki/Algebra',\"https://en.wikipedia.org/wiki/Calculus\"]\n"
      ]
    },
    {
      "cell_type": "code",
      "execution_count": null,
      "metadata": {
        "id": "yGOfG3UXRLgM"
      },
      "outputs": [],
      "source": [
        "# Used to extract the links from the url with some filters\n",
        "\n",
        "def extract_links(url):\n",
        "    global ignore\n",
        "    \"\"\"\n",
        "    Extracts all links from a given url\n",
        "    \"\"\"\n",
        "    ignore = [\"%\",\"File\",\"User\",\"Special\",\"Category\",\"identifier\",\"Identifier\",\"Commons,\",\"Help\",\"Template\",\"Protection\",\"Wikipedia:\",\"Portal\",\"disambiguation\",\"Glossary\",\"List\"]\n",
        "    page = r.get(url)\n",
        "    soup = BeautifulSoup(page.content, 'html.parser')\n",
        "    links = soup.find_all('a',href=re.compile(\"^/wiki/\"))\n",
        "    links = [str(i.get('href')) for i in links]\n",
        "    res = []\n",
        "    for i in links:\n",
        "        flag = 0\n",
        "        for f in ignore:\n",
        "            if (f in i or i in url):\n",
        "                flag = 1\n",
        "                break\n",
        "        if (flag == 0):\n",
        "            \n",
        "            res.append(('https://en.wikipedia.org' + i).split('#')[0]) # Remove the hash from the link as it does not add anything\n",
        "\n",
        "    return res"
      ]
    },
    {
      "cell_type": "code",
      "execution_count": null,
      "metadata": {
        "id": "mlGvGwDWRLgM"
      },
      "outputs": [],
      "source": [
        "# This is used for extracting keywords for a particular page\n",
        "\n",
        "from collections import Counter\n",
        "from nltk.stem import WordNetLemmatizer\n",
        "from nltk.corpus import stopwords\n",
        "import requests\n",
        "from bs4 import BeautifulSoup\n",
        "\n",
        "def keywords(url):\n",
        "    final_text = []\n",
        "    res = requests.get(url)\n",
        "    soup = BeautifulSoup(res.text, \"html.parser\")\n",
        "\n",
        "    paragraph_tags = soup.find_all(\"p\")\n",
        "\n",
        "    for tag in paragraph_tags:\n",
        "        try:\n",
        "            list_words = tag.get_text().strip().split()\n",
        "            for word in list_words:\n",
        "                if \"(\" not in word and \"[\" not in word and \"{\" not in word:\n",
        "                    final_text = final_text + [word]\n",
        "        except:\n",
        "            pass\n",
        "\n",
        "    # removing stop words and finding root words\n",
        "    stop = set(stopwords.words('english'))\n",
        "    lemmatizer = WordNetLemmatizer()\n",
        "    stop_text = [lemmatizer.lemmatize(word) for word in final_text if word.lower() not in stop]\n",
        "\n",
        "    count = Counter(stop_text).most_common(12)\n",
        "    final_list = [word for word, value in count]\n",
        "\n",
        "    return list(set(final_list))"
      ]
    },
    {
      "cell_type": "code",
      "execution_count": null,
      "metadata": {
        "id": "0QToxUkiPhbD",
        "outputId": "e533928c-eb64-4a14-bba1-b97767064878"
      },
      "outputs": [
        {
          "name": "stdout",
          "output_type": "stream",
          "text": [
            "['study', 'sample', 'statistic', 'probability', 'method', 'use', 'hypothesis', 'population', 'value', 'used', 'data', 'statistical']\n"
          ]
        }
      ],
      "source": [
        "# For example to extract the keywords for the statistics page\n",
        "print(keywords(\"https://en.wikipedia.org/wiki/Statistics\"))"
      ]
    },
    {
      "cell_type": "code",
      "execution_count": null,
      "metadata": {
        "id": "bp2Q69v_RLgN"
      },
      "outputs": [],
      "source": [
        "# This is the main algorithm for scraping pages, it takes in the starting topics and the number of pages to be scraped\n",
        "def bfs(url,limit,d,debug = False):\n",
        "    \"\"\"\n",
        "    Breadth-first search\n",
        "    \"\"\"\n",
        "    to_visit = [url]\n",
        "    visited = []\n",
        "    G = nx.Graph()\n",
        "    while len(visited) < limit:\n",
        "        # Progress Percentage\n",
        "        sys.stdout.write(f\"\\rNodes: {G.number_of_nodes()}, Visited: {len(visited) + 1} |\")\n",
        "        sys.stdout.flush()\n",
        "\n",
        "        current = to_visit.pop(0)\n",
        "        if current not in visited:\n",
        "            content = get_content(current)\n",
        "            d[current] = content\n",
        "            links = extract_links(current)\n",
        "            to_visit.extend(links[0:int(len(links)*0.2)])\n",
        "            visited.append(current)\n",
        "            G.add_node(current)\n",
        "            for i in links:\n",
        "                G.add_edge(current,i)\n",
        "        if (debug):\n",
        "            print(current)\n",
        "            print('===========================================================================')\n",
        "            print(content)\n",
        "            print(\"\\n************************************************************************\\n\")\n",
        "    print()\n",
        "    file_name = url.split('/')[-1]\n",
        "    with open(f'{file_name}_dict.pkl','wb') as f:\n",
        "        pickle.dump(d,f)\n",
        "    with open(f'{file_name}_graph.pkl','wb') as f:\n",
        "        pickle.dump(G,f)\n",
        "    return G\n"
      ]
    },
    {
      "cell_type": "code",
      "execution_count": null,
      "metadata": {
        "id": "i12M_WHwRLgN"
      },
      "outputs": [],
      "source": [
        "# Import packages\n",
        "from urllib.request import urlopen\n",
        "from bs4 import BeautifulSoup\n",
        "import re\n",
        "import nltk\n",
        "words = set(nltk.corpus.words.words())\n",
        "\n",
        "\n",
        "# this function basically gets the contents of the page and cleans them by removing unnecessary stuff like html tags, etc and escapes the special characters\n",
        "# It also removes all the characters from non english languages\n",
        "def get_content(url):\n",
        "\n",
        "    # Specify url of the web page\n",
        "    source = urlopen(url).read()\n",
        "\n",
        "    # Make a soup \n",
        "    soup = BeautifulSoup(source,'lxml')\n",
        "\n",
        "    # Extract the plain text content from paragraphs\n",
        "    paras = []\n",
        "    for paragraph in soup.find_all('p'):\n",
        "        paras.append(str(paragraph.text))\n",
        "    text = ''\n",
        "    for i in paras:\n",
        "        text += i.lower()\n",
        "\n",
        "    text = re.sub(r\"\\[.*?\\]+\", ' ', text)\n",
        "    text = re.sub(r\"\\{.*?\\}+\", ' ', text)\n",
        "    text = re.sub(r\"\\(.*?\\)+\", ' ', text)\n",
        "    text = re.sub(r\"[0-9]+\", ' ', text)\n",
        "    text = re.sub(r\"[Α-Ωα-ω]\",' ',text)\n",
        "    text = re.sub(r\"\\[A-Za-z0-9]+\",' ',text)\n",
        "    text = re.sub(r\"[^\\u0000-\\u05C0\\u2100-\\u214F]+\", ' ', text)\n",
        "    text = re.sub(r\"\\\\[a-zA-Z]+\", ' ', text)\n",
        "    text = re.sub(\"[^a-zA-Z'\\n ]+\", ' ', text)\n",
        "    text = re.sub(r\"\\n\", ' ', text)\n",
        "    text = \" \".join(w for w in nltk.wordpunct_tokenize(text) if w.lower() in words or not w.isalpha())\n",
        "\n",
        "    return text"
      ]
    },
    {
      "cell_type": "code",
      "execution_count": null,
      "metadata": {
        "colab": {
          "base_uri": "https://localhost:8080/"
        },
        "id": "h5Osb0lORLgO",
        "outputId": "4e7199e4-aa75-44aa-e400-2cbab3b1b30c"
      },
      "outputs": [
        {
          "name": "stdout",
          "output_type": "stream",
          "text": [
            "Nodes: 86056, Visited: 1000\n"
          ]
        }
      ],
      "source": [
        "# Running BFS on the starting topics\n",
        "d = {}\n",
        "f = bfs('https://en.wikipedia.org/wiki/Statistics',1000,d)\n"
      ]
    },
    {
      "cell_type": "code",
      "execution_count": null,
      "metadata": {
        "id": "rQtaz02LRLgP"
      },
      "outputs": [],
      "source": [
        "f = bfs('https://en.wikipedia.org/wiki/Trigonometry',1000,d)\n"
      ]
    },
    {
      "cell_type": "code",
      "execution_count": null,
      "metadata": {
        "colab": {
          "base_uri": "https://localhost:8080/"
        },
        "id": "zOUGcAm2RLgP",
        "outputId": "74a500e1-bf89-4e37-eed7-f73a4ac9632f"
      },
      "outputs": [
        {
          "name": "stdout",
          "output_type": "stream",
          "text": [
            "Nodes: 147137, Visited: 1000\n"
          ]
        }
      ],
      "source": [
        "d = {}\n",
        "f = bfs('https://en.wikipedia.org/wiki/Algebra',1000,d)\n"
      ]
    },
    {
      "cell_type": "code",
      "execution_count": null,
      "metadata": {
        "colab": {
          "base_uri": "https://localhost:8080/"
        },
        "id": "6BNPYvzk9oKn",
        "outputId": "9293f561-84fc-4f9e-9eeb-39e091d2b0a7"
      },
      "outputs": [
        {
          "name": "stdout",
          "output_type": "stream",
          "text": [
            "Nodes: 109783, Visited: 1000\n"
          ]
        }
      ],
      "source": [
        "d = {}\n",
        "f = bfs('https://en.wikipedia.org/wiki/Trigonometry',1000,d)\n"
      ]
    },
    {
      "cell_type": "code",
      "execution_count": null,
      "metadata": {
        "colab": {
          "base_uri": "https://localhost:8080/"
        },
        "id": "1QnV0gn3FxS3",
        "outputId": "522bd164-e1f5-421b-823e-1f60088066ef"
      },
      "outputs": [
        {
          "name": "stdout",
          "output_type": "stream",
          "text": [
            "Nodes: 72497, Visited: 1000\n"
          ]
        }
      ],
      "source": [
        "d = {}\n",
        "f = bfs('https://en.wikipedia.org/wiki/Geometry',1000,d)\n"
      ]
    },
    {
      "cell_type": "markdown",
      "metadata": {
        "id": "l1B-jggHPhbJ"
      },
      "source": [
        "# NLP Feature Extraction on the scraped pages"
      ]
    },
    {
      "cell_type": "code",
      "execution_count": null,
      "metadata": {
        "id": "OUdJCednbc8n"
      },
      "outputs": [],
      "source": [
        "import numpy as np\n",
        "import pandas as pd\n",
        "import re\n",
        "from nltk.corpus import stopwords\n",
        "from nltk.stem.porter import PorterStemmer\n",
        "from sklearn.feature_extraction.text import TfidfVectorizer"
      ]
    },
    {
      "cell_type": "code",
      "execution_count": null,
      "metadata": {
        "colab": {
          "base_uri": "https://localhost:8080/"
        },
        "id": "BqdwlX9YobO1",
        "outputId": "948b9e7f-34f0-432a-a847-5a80a40c5dcd"
      },
      "outputs": [
        {
          "name": "stderr",
          "output_type": "stream",
          "text": [
            "[nltk_data] Downloading package stopwords to\n",
            "[nltk_data]     /home/chaitanya/nltk_data...\n",
            "[nltk_data]   Package stopwords is already up-to-date!\n"
          ]
        },
        {
          "data": {
            "text/plain": [
              "True"
            ]
          },
          "execution_count": 77,
          "metadata": {},
          "output_type": "execute_result"
        }
      ],
      "source": [
        "import nltk\n",
        "nltk.download('stopwords')"
      ]
    },
    {
      "cell_type": "code",
      "execution_count": null,
      "metadata": {
        "id": "C84BmbwXohoR"
      },
      "outputs": [],
      "source": [
        "all_dict = {} # Contains all the url and their corresponding content"
      ]
    },
    {
      "cell_type": "code",
      "execution_count": null,
      "metadata": {
        "id": "Q1xgIQn2o4A4"
      },
      "outputs": [],
      "source": [
        "with open('Statistics_dict.pkl','rb') as f:\n",
        "  stats = pickle.load(f)\n",
        "  all_dict.update(stats)\n",
        "with open('Algebra_dict.pkl','rb') as f:\n",
        "  algebra = pickle.load(f)\n",
        "  all_dict.update(algebra)\n",
        "with open('Calculus_dict.pkl','rb') as f:\n",
        "  stats = pickle.load(f)\n",
        "  all_dict.update(stats)\n",
        "with open('Geometry_dict.pkl','rb') as f:\n",
        "  stats = pickle.load(f)\n",
        "  all_dict.update(stats)\n",
        "with open('Trigonometry_dict.pkl','rb') as f:\n",
        "  stats = pickle.load(f)\n",
        "  all_dict.update(stats)"
      ]
    },
    {
      "cell_type": "code",
      "execution_count": null,
      "metadata": {
        "id": "_aVvrji2paK-"
      },
      "outputs": [],
      "source": [
        "topics_dataset = pd.DataFrame(all_dict.items(),columns=['Link','Content'])"
      ]
    },
    {
      "cell_type": "code",
      "execution_count": null,
      "metadata": {
        "id": "V8J1r4Z-pcWk"
      },
      "outputs": [],
      "source": [
        "# Applying stemming operation on all the content in the dictionary\n",
        "\n",
        "port_stem = PorterStemmer()\n",
        "\n",
        "def stemming(Content):\n",
        "    # stemmed_content = re.sub('[^a-zA-Z]',' ',Content)\n",
        "    # stemmed_content = stemmed_content.lower()\n",
        "    stemmed_content = Content.split()\n",
        "    stemmed_content = [port_stem.stem(word) for word in stemmed_content \n",
        "                       if not word in stopwords.words('english')]\n",
        "    stemmed_content = ' '.join(stemmed_content)\n",
        "    return stemmed_content"
      ]
    },
    {
      "cell_type": "code",
      "execution_count": null,
      "metadata": {
        "colab": {
          "base_uri": "https://localhost:8080/"
        },
        "id": "imSWHKZjuBgu",
        "outputId": "e4466257-48a9-43a9-dcf3-b5f6ef98cd3f"
      },
      "outputs": [
        {
          "name": "stdout",
          "output_type": "stream",
          "text": [
            "Number of Articles completed: 3984"
          ]
        }
      ],
      "source": [
        "# Running the stem function on all content in the dictionary\n",
        "for i in range(3984):\n",
        "  topics_dataset['Content'][i] = stemming(topics_dataset['Content'][i])\n",
        "  sys.stdout.write(f\"\\rNumber of Articles completed: {i + 1}\")\n",
        "  sys.stdout.flush()\n"
      ]
    },
    {
      "cell_type": "code",
      "execution_count": null,
      "metadata": {
        "id": "SPdvtMnbypEd"
      },
      "outputs": [],
      "source": [
        "# Pickling the stemmed content for later use\n",
        "with open('dataframe.pkl','wb') as f:\n",
        "  pickle.dump(topics_dataset,f)"
      ]
    },
    {
      "cell_type": "code",
      "execution_count": null,
      "metadata": {
        "id": "d-9Rg7xs7Byx"
      },
      "outputs": [],
      "source": [
        "# Open dataframe\n",
        "with open('dataframe.pkl','rb') as f:\n",
        "  topics_dataset = pickle.load(f)"
      ]
    },
    {
      "cell_type": "code",
      "execution_count": null,
      "metadata": {
        "colab": {
          "base_uri": "https://localhost:8080/",
          "height": 206
        },
        "id": "ktNamfgfhrMJ",
        "outputId": "eb835c29-6f89-4c94-bad4-9ed05458dbc2"
      },
      "outputs": [
        {
          "data": {
            "text/html": [
              "<div>\n",
              "<style scoped>\n",
              "    .dataframe tbody tr th:only-of-type {\n",
              "        vertical-align: middle;\n",
              "    }\n",
              "\n",
              "    .dataframe tbody tr th {\n",
              "        vertical-align: top;\n",
              "    }\n",
              "\n",
              "    .dataframe thead th {\n",
              "        text-align: right;\n",
              "    }\n",
              "</style>\n",
              "<table border=\"1\" class=\"dataframe\">\n",
              "  <thead>\n",
              "    <tr style=\"text-align: right;\">\n",
              "      <th></th>\n",
              "      <th>Link</th>\n",
              "      <th>Content</th>\n",
              "    </tr>\n",
              "  </thead>\n",
              "  <tbody>\n",
              "    <tr>\n",
              "      <th>0</th>\n",
              "      <td>https://en.wikipedia.org/wiki/Statistics</td>\n",
              "      <td>statist disciplin collect organ analysi interp...</td>\n",
              "    </tr>\n",
              "    <tr>\n",
              "      <th>1</th>\n",
              "      <td>https://en.wikipedia.org/wiki/Outline_of_stati...</td>\n",
              "      <td>statist field inquiri collect analysi interpre...</td>\n",
              "    </tr>\n",
              "    <tr>\n",
              "      <th>2</th>\n",
              "      <td>https://en.wikipedia.org/wiki/Notation_in_prob...</td>\n",
              "      <td>probabl theori statist commonli use addit stan...</td>\n",
              "    </tr>\n",
              "    <tr>\n",
              "      <th>3</th>\n",
              "      <td>https://en.wikipedia.org/wiki/Normal_distribution</td>\n",
              "      <td>normal distribut probabl distribut use model p...</td>\n",
              "    </tr>\n",
              "    <tr>\n",
              "      <th>4</th>\n",
              "      <td>https://en.wikipedia.org/wiki/Probability_dens...</td>\n",
              "      <td>probabl theori probabl densiti function densit...</td>\n",
              "    </tr>\n",
              "  </tbody>\n",
              "</table>\n",
              "</div>"
            ],
            "text/plain": [
              "                                                Link  \\\n",
              "0           https://en.wikipedia.org/wiki/Statistics   \n",
              "1  https://en.wikipedia.org/wiki/Outline_of_stati...   \n",
              "2  https://en.wikipedia.org/wiki/Notation_in_prob...   \n",
              "3  https://en.wikipedia.org/wiki/Normal_distribution   \n",
              "4  https://en.wikipedia.org/wiki/Probability_dens...   \n",
              "\n",
              "                                             Content  \n",
              "0  statist disciplin collect organ analysi interp...  \n",
              "1  statist field inquiri collect analysi interpre...  \n",
              "2  probabl theori statist commonli use addit stan...  \n",
              "3  normal distribut probabl distribut use model p...  \n",
              "4  probabl theori probabl densiti function densit...  "
            ]
          },
          "execution_count": 121,
          "metadata": {},
          "output_type": "execute_result"
        }
      ],
      "source": [
        "topics_dataset.head()"
      ]
    },
    {
      "cell_type": "code",
      "execution_count": null,
      "metadata": {
        "id": "4huSnChwrkKy"
      },
      "outputs": [],
      "source": [
        "# print(topics_dataset['Content'])\n",
        "X = topics_dataset['Content'].values"
      ]
    },
    {
      "cell_type": "code",
      "execution_count": null,
      "metadata": {
        "id": "dbVMQsYGrptW"
      },
      "outputs": [],
      "source": [
        "# Initializing the TFIDF vectorizer\n",
        "\n",
        "vectorizer = TfidfVectorizer()"
      ]
    },
    {
      "cell_type": "code",
      "execution_count": null,
      "metadata": {
        "id": "rZHuDkymrsq5"
      },
      "outputs": [],
      "source": [
        "# Fitting the vectorizer on the content\n",
        "vectorizer.fit(X)\n",
        "X = vectorizer.transform(X)"
      ]
    },
    {
      "cell_type": "code",
      "execution_count": null,
      "metadata": {
        "colab": {
          "base_uri": "https://localhost:8080/"
        },
        "id": "nfVDfY6HruVJ",
        "outputId": "290adfd7-1baf-4523-974b-0ffc6df7b94a"
      },
      "outputs": [
        {
          "name": "stdout",
          "output_type": "stream",
          "text": [
            "(3984, 33526)\n"
          ]
        }
      ],
      "source": [
        "print(X.shape)"
      ]
    },
    {
      "cell_type": "markdown",
      "source": [
        "# Reducing the dimension of the feature vector"
      ],
      "metadata": {
        "id": "dP6vlbRtP4Y_"
      }
    },
    {
      "cell_type": "code",
      "execution_count": null,
      "metadata": {
        "colab": {
          "base_uri": "https://localhost:8080/"
        },
        "id": "W6mhSNMyroI1",
        "outputId": "02dd14bd-cd1e-4872-a8c7-8610cf3ebf1d"
      },
      "outputs": [
        {
          "output_type": "stream",
          "name": "stdout",
          "text": [
            "Sparse Matrix form of test data : \n",
            "\n",
            "[[0. 0. 0. ... 0. 0. 0.]\n",
            " [0. 0. 0. ... 0. 0. 0.]\n",
            " [0. 0. 0. ... 0. 0. 0.]\n",
            " ...\n",
            " [0. 0. 0. ... 0. 0. 0.]\n",
            " [0. 0. 0. ... 0. 0. 0.]\n",
            " [0. 0. 0. ... 0. 0. 0.]]\n"
          ]
        }
      ],
      "source": [
        "from sklearn.feature_extraction.text import TfidfVectorizer\n",
        "\n",
        "# instantiate the vectorizer object\n",
        "# use analyzer is word and stop_words is english which are responsible for remove stop words and create word vocabulary\n",
        "tfidfvectorizer = TfidfVectorizer(analyzer='word' , stop_words='english',)\n",
        "tfidfvectorizer.fit(X)\n",
        "tfidf_term_vectors  = tfidfvectorizer.transform(X)\n",
        "print(\"Sparse Matrix form of test data : \\n\")\n",
        "H = tfidf_term_vectors.todense()\n",
        "print(H)"
      ]
    },
    {
      "cell_type": "code",
      "execution_count": null,
      "metadata": {
        "colab": {
          "base_uri": "https://localhost:8080/"
        },
        "id": "-ofBk-YHEh_w",
        "outputId": "99dd3f6b-e99e-4c65-8cbb-ae729f4f3f8e"
      },
      "outputs": [
        {
          "output_type": "stream",
          "name": "stdout",
          "text": [
            "0.528824942805929\n"
          ]
        }
      ],
      "source": [
        "from scipy import spatial\n",
        "\n",
        "result = 1 - spatial.distance.cosine(H[0], H[1])\n",
        "print(result)"
      ]
    },
    {
      "cell_type": "code",
      "execution_count": null,
      "metadata": {
        "id": "M6FxMtZyxBGu"
      },
      "outputs": [],
      "source": [
        "\n",
        "from sklearn.decomposition import TruncatedSVD\n",
        "from sklearn.feature_extraction.text import TfidfVectorizer\n",
        "from sklearn.pipeline import make_pipeline\n",
        "from sklearn.preprocessing import Normalizer\n",
        "\n",
        "\n",
        "import sys\n",
        "from time import time\n",
        "\n",
        "import numpy as np"
      ]
    },
    {
      "cell_type": "code",
      "execution_count": null,
      "metadata": {
        "colab": {
          "base_uri": "https://localhost:8080/"
        },
        "id": "lnnrId1iEh_w",
        "outputId": "d58532c0-32a8-47c6-eacf-0a1d34083258"
      },
      "outputs": [
        {
          "output_type": "stream",
          "name": "stderr",
          "text": [
            "/home/chaitanya/.local/lib/python3.9/site-packages/sklearn/utils/validation.py:593: FutureWarning: np.matrix usage is deprecated in 1.0 and will raise a TypeError in 1.2. Please convert to a numpy array with np.asarray. For more information see: https://numpy.org/doc/stable/reference/generated/numpy.matrix.html\n",
            "  warnings.warn(\n"
          ]
        },
        {
          "output_type": "stream",
          "name": "stdout",
          "text": [
            "done in 124.872466s\n"
          ]
        }
      ],
      "source": [
        "true_k= 1000\n",
        "\n",
        "r = true_k\n",
        "t0 = time()\n",
        "svd = TruncatedSVD(r)\n",
        "normalizer = Normalizer(copy=False)\n",
        "lsa = make_pipeline(svd, normalizer)\n",
        "SVD_Y = lsa.fit_transform(H)\n",
        "print(\"done in %fs\" % (time() - t0))"
      ]
    },
    {
      "cell_type": "code",
      "execution_count": null,
      "metadata": {
        "colab": {
          "base_uri": "https://localhost:8080/"
        },
        "id": "zraC8XBAEh_w",
        "outputId": "a0b020b7-ec45-49d3-ee49-8c1f67a24a11"
      },
      "outputs": [
        {
          "output_type": "stream",
          "name": "stdout",
          "text": [
            "[[ 3.79153645e-01 -1.54965102e-01  6.40043413e-01 ... -2.17995942e-03\n",
            "  -2.69175213e-03  2.22546940e-03]\n",
            " [ 2.07989094e-01 -4.10318776e-02  3.45999297e-01 ... -2.09904371e-02\n",
            "  -5.86431279e-03 -1.16527462e-02]\n",
            " [ 2.40369735e-01 -1.74622356e-01  3.00602041e-01 ... -1.88630309e-02\n",
            "  -2.90126714e-03  1.06300153e-04]\n",
            " ...\n",
            " [ 5.81045198e-01  4.65712212e-01 -9.05462094e-02 ...  2.24885241e-03\n",
            "   1.91776991e-02  7.43007054e-03]\n",
            " [ 1.83982341e-01  1.48879790e-01 -5.33076716e-02 ... -5.14645717e-03\n",
            "   1.16747696e-02  9.37588025e-03]\n",
            " [ 1.83982341e-01  1.48879790e-01 -5.33076716e-02 ... -5.14645717e-03\n",
            "   1.16747696e-02  9.37588025e-03]]\n"
          ]
        }
      ],
      "source": [
        "print(SVD_Y)"
      ]
    },
    {
      "cell_type": "code",
      "execution_count": null,
      "metadata": {
        "id": "QtQBW4n7Eh_w"
      },
      "outputs": [],
      "source": [
        "# Building a new graph on the basis of how similar two feature vectors are\n",
        "\n",
        "# If the cosine similarity between two feature vectors > 0.5 then we draw an edge between them\n",
        "\n",
        "from scipy import spatial\n",
        "import networkx as nx\n",
        "g = nx.Graph()\n",
        "for t in range(0,3984):\n",
        "    g.add_node(t)\n",
        "\n",
        "\n",
        "k = 0\n",
        "for i in range(0,3984):\n",
        "    for j in range(0,3984): # put i != j logic\n",
        "        k += 1\n",
        "        result = 1 - spatial.distance.cosine(SVD_Y[i], SVD_Y[j])\n",
        "        #print(result)\n",
        "        if (result>0.5):\n",
        "            g.add_edge(i, j)\n",
        "            print('###')\n",
        "        if (k%3000 == 0):\n",
        "          sys.stdout.flush()\n",
        "          sys.stdout.write(f\"\\rNumber of Articles completed: {k}, {(k/(3984*3984))*100:.2f}%\")\n",
        "          sys.stdout.flush()\n",
        "        \n",
        "            \n",
        "# nx.draw(g, with_labels = True)\n",
        "# nx.draw(g)\n",
        "\n",
        " \n",
        "\n",
        "\n"
      ]
    },
    {
      "cell_type": "code",
      "source": [
        "import pickle\n",
        "import networkx as nx\n",
        "with open('graph.pkl','rb') as f:\n",
        "  g = pickle.load(f)"
      ],
      "metadata": {
        "id": "udxV72CWQdcG"
      },
      "execution_count": null,
      "outputs": []
    },
    {
      "cell_type": "markdown",
      "source": [
        "# Centrality Metrics"
      ],
      "metadata": {
        "id": "G3rnSn-XP_u8"
      }
    },
    {
      "cell_type": "code",
      "source": [
        "g.number_of_edges()"
      ],
      "metadata": {
        "colab": {
          "base_uri": "https://localhost:8080/"
        },
        "id": "j3yeZECqQiBa",
        "outputId": "2cb9aa41-94d0-479f-a691-d5fecaf36549"
      },
      "execution_count": null,
      "outputs": [
        {
          "output_type": "execute_result",
          "data": {
            "text/plain": [
              "24895"
            ]
          },
          "metadata": {},
          "execution_count": 6
        }
      ]
    },
    {
      "cell_type": "code",
      "source": [
        "print(nx.clustering(g))"
      ],
      "metadata": {
        "colab": {
          "base_uri": "https://localhost:8080/"
        },
        "id": "dF1LOoviQlnA",
        "outputId": "22b3823b-7ef3-4a13-b3bf-f7e7f3bdd55f"
      },
      "execution_count": null,
      "outputs": [
        {
          "output_type": "stream",
          "name": "stdout",
          "text": [
            "{0: 0.3023255813953488, 1: 0.8666666666666667, 2: 1.0, 3: 0.5380952380952381, 4: 0.6267806267806267, 5: 0.6041666666666666, 6: 1.0, 7: 1.0, 8: 0.6856330014224751, 9: 0.7777777777777778, 10: 0.3306878306878307, 11: 0.25, 12: 0.5555555555555556, 13: 0.5256410256410257, 14: 1.0, 15: 0.8181818181818182, 16: 0.45454545454545453, 17: 0.26666666666666666, 18: 0.6572199730094467, 19: 0.6029411764705882, 20: 0, 21: 0.5606060606060606, 22: 0.2, 23: 0.675, 24: 0, 25: 0, 26: 0.40942028985507245, 27: 0.4672268907563025, 28: 0.45789473684210524, 29: 0.6666666666666666, 30: 0.5934065934065934, 31: 0.9285714285714286, 32: 0.9285714285714286, 33: 0.43636363636363634, 34: 0.9565217391304348, 35: 0, 36: 0.44126984126984126, 37: 0.5, 38: 0, 39: 0.7492063492063492, 40: 0.45454545454545453, 41: 0.675, 42: 0.45789473684210524, 43: 0.43333333333333335, 44: 0.8214285714285714, 45: 0.8214285714285714, 46: 0.4065934065934066, 47: 0.3333333333333333, 48: 0.3333333333333333, 49: 0, 50: 0, 51: 1.0, 52: 1.0, 53: 0.5559246954595792, 54: 0, 55: 0.39920948616600793, 56: 0.6944444444444444, 57: 0.5494505494505495, 58: 0.4672268907563025, 59: 0, 60: 0.36470588235294116, 61: 0.6797385620915033, 62: 0.873144399460189, 63: 0, 64: 0.6932624113475178, 65: 0.6457912457912458, 66: 0.48013468013468014, 67: 0, 68: 1.0, 69: 1.0, 70: 0.9099099099099099, 71: 0.6888888888888889, 72: 1.0, 73: 1.0, 74: 0, 75: 0, 76: 0, 77: 0, 78: 0, 79: 0.6, 80: 0, 81: 0, 82: 0, 83: 0.8214285714285714, 84: 0.9523809523809523, 85: 0.3333333333333333, 86: 0.6919540229885057, 87: 0.38095238095238093, 88: 0.44761904761904764, 89: 0, 90: 0.47619047619047616, 91: 0.4, 92: 1.0, 93: 1.0, 94: 0.19696969696969696, 95: 0.6483516483516484, 96: 0.8333333333333334, 97: 0.5555555555555556, 98: 0.6, 99: 0, 100: 0, 101: 1.0, 102: 0.8, 103: 0, 104: 0.5, 105: 0.5, 106: 0, 107: 0, 108: 0, 109: 1.0, 110: 0, 111: 0.9285714285714286, 112: 0.6043956043956044, 113: 1.0, 114: 0.42857142857142855, 115: 0.8810483870967742, 116: 0.6856330014224751, 117: 0.6891891891891891, 118: 0.34285714285714286, 119: 0.3643097643097643, 120: 0.38974358974358975, 121: 0, 122: 0.16666666666666666, 123: 0, 124: 0, 125: 0.6388888888888888, 126: 0.3333333333333333, 127: 0.3333333333333333, 128: 1.0, 129: 0.7, 130: 0, 131: 0.4264705882352941, 132: 0.7, 133: 1.0, 134: 0, 135: 1.0, 136: 0.37777777777777777, 137: 0.5555555555555556, 138: 0.5, 139: 0.14285714285714285, 140: 0, 141: 0, 142: 0, 143: 0.3684210526315789, 144: 0.1, 145: 0.5428571428571428, 146: 0, 147: 0.16666666666666666, 148: 0, 149: 0.41818181818181815, 150: 0.8222222222222222, 151: 0, 152: 0.8571428571428571, 153: 0.4666666666666667, 154: 0.7142857142857143, 155: 0.6, 156: 0.2, 157: 0.5, 158: 0.25, 159: 0.32727272727272727, 160: 0, 161: 0.16666666666666666, 162: 0.22727272727272727, 163: 0.8461538461538461, 164: 0, 165: 0.4666666666666667, 166: 0.3333333333333333, 167: 0.7142857142857143, 168: 0, 169: 0, 170: 0, 171: 0.8598484848484849, 172: 0.9195402298850575, 173: 0.8466666666666667, 174: 0.7548387096774194, 175: 1.0, 176: 0.75, 177: 1.0, 178: 0.7222222222222222, 179: 0.4444444444444444, 180: 0.4666666666666667, 181: 0.5, 182: 0.5, 183: 1.0, 184: 0.16666666666666666, 185: 0.3333333333333333, 186: 1.0, 187: 0.5357142857142857, 188: 0, 189: 0.6666666666666666, 190: 0.2878787878787879, 191: 0, 192: 0, 193: 0, 194: 1.0, 195: 0.6666666666666666, 196: 0.5256410256410257, 197: 0.35555555555555557, 198: 0.4444444444444444, 199: 0.47619047619047616, 200: 0.6666666666666666, 201: 0.3611111111111111, 202: 0.6916666666666667, 203: 0.5497076023391813, 204: 1.0, 205: 0.75, 206: 0.8181818181818182, 207: 0.3333333333333333, 208: 0.5846702317290553, 209: 0.6666666666666666, 210: 0.6666666666666666, 211: 0.8181818181818182, 212: 0.5378048780487805, 213: 0, 214: 0.6231884057971014, 215: 0.3333333333333333, 216: 0.7507692307692307, 217: 0.5380549682875264, 218: 0.477124183006536, 219: 0.3, 220: 0.6666666666666666, 221: 1.0, 222: 0.42917547568710357, 223: 0.6798418972332015, 224: 0.5, 225: 1.0, 226: 0.6666666666666666, 227: 1.0, 228: 0, 229: 0.5751633986928104, 230: 0.5, 231: 0.6153846153846154, 232: 0, 233: 0, 234: 0, 235: 0.5473684210526316, 236: 0.5157894736842106, 237: 0.6473118279569893, 238: 0.38095238095238093, 239: 0, 240: 1.0, 241: 0, 242: 0.75, 243: 1.0, 244: 0.4888888888888889, 245: 0, 246: 0.5, 247: 0.5484848484848485, 248: 0.7962962962962963, 249: 0.7222222222222222, 250: 0.4, 251: 1.0, 252: 0, 253: 0.6363636363636364, 254: 0.75, 255: 1.0, 256: 0.7, 257: 0.7328042328042328, 258: 0.3915343915343915, 259: 0.7, 260: 0.4666666666666667, 261: 0.7912087912087912, 262: 0.5497835497835498, 263: 1.0, 264: 0.3333333333333333, 265: 0, 266: 0, 267: 0.5606060606060606, 268: 0.32727272727272727, 269: 0.5641025641025641, 270: 0.3142857142857143, 271: 0.6785714285714286, 272: 1.0, 273: 1.0, 274: 0.6, 275: 0.44343434343434346, 276: 0.7204301075268817, 277: 0.6017316017316018, 278: 0.4485294117647059, 279: 0, 280: 0, 281: 0.6666666666666666, 282: 0.5512820512820513, 283: 0, 284: 0.8222222222222222, 285: 0.4, 286: 0.5256410256410257, 287: 0.8611111111111112, 288: 0.44761904761904764, 289: 0.47435897435897434, 290: 0.6060606060606061, 291: 0.4057971014492754, 292: 0.7712418300653595, 293: 1.0, 294: 1.0, 295: 0.4, 296: 1.0, 297: 1.0, 298: 1.0, 299: 0.48484848484848486, 300: 1.0, 301: 0.6666666666666666, 302: 0.632051282051282, 303: 0.41818181818181815, 304: 1.0, 305: 0.8666666666666667, 306: 1.0, 307: 0.3333333333333333, 308: 0.6666666666666666, 309: 0.6, 310: 0.5606060606060606, 311: 0.4873469387755102, 312: 0.3352272727272727, 313: 0.6894736842105263, 314: 0, 315: 0.7157258064516129, 316: 0.9166666666666666, 317: 1.0, 318: 0.6666666666666666, 319: 0.7, 320: 1.0, 321: 0.8541666666666666, 322: 0.632051282051282, 323: 0.5740740740740741, 324: 0.5818181818181818, 325: 0, 326: 0, 327: 0.4666666666666667, 328: 0.6092307692307692, 329: 0.6785714285714286, 330: 0.6785714285714286, 331: 0, 332: 0, 333: 0, 334: 0, 335: 0.52046783625731, 336: 0.44871794871794873, 337: 0.5909090909090909, 338: 0.7159090909090909, 339: 0, 340: 0, 341: 0.6504201680672269, 342: 0, 343: 0, 344: 0.3333333333333333, 345: 0, 346: 0.5497835497835498, 347: 0.6798418972332015, 348: 0, 349: 0.2857142857142857, 350: 0.5797101449275363, 351: 0.4888888888888889, 352: 0, 353: 0.5846702317290553, 354: 1.0, 355: 1.0, 356: 0.6190476190476191, 357: 0, 358: 0.6092307692307692, 359: 0.32142857142857145, 360: 0.3333333333333333, 361: 0.6947368421052632, 362: 0.5473684210526316, 363: 0, 364: 1.0, 365: 0.6153846153846154, 366: 1.0, 367: 0, 368: 0, 369: 0, 370: 0.3333333333333333, 371: 1.0, 372: 0.6, 373: 0.6666666666666666, 374: 0.4444444444444444, 375: 0.6666666666666666, 376: 0.6111111111111112, 377: 0.6388888888888888, 378: 0.6388888888888888, 379: 0, 380: 0.47435897435897434, 381: 0.5, 382: 1.0, 383: 1.0, 384: 1.0, 385: 0.8, 386: 1.0, 387: 0, 388: 1.0, 389: 0, 390: 1.0, 391: 0.9533333333333334, 392: 1.0, 393: 1.0, 394: 0, 395: 0, 396: 0, 397: 0.3333333333333333, 398: 1.0, 399: 0.7777777777777778, 400: 0.45454545454545453, 401: 1.0, 402: 1.0, 403: 0.3333333333333333, 404: 0, 405: 0.5920634920634921, 406: 0.3333333333333333, 407: 0.8589743589743589, 408: 1.0, 409: 1.0, 410: 0.6024390243902439, 411: 0.8333333333333334, 412: 0, 413: 0, 414: 1.0, 415: 1.0, 416: 1.0, 417: 1.0, 418: 0, 419: 0, 420: 0, 421: 1.0, 422: 0, 423: 0.6666666666666666, 424: 1.0, 425: 0.8810483870967742, 426: 0.16666666666666666, 427: 0.4, 428: 0.42857142857142855, 429: 0, 430: 0.3333333333333333, 431: 1.0, 432: 1.0, 433: 0, 434: 0.5636363636363636, 435: 0, 436: 0.3, 437: 0, 438: 0, 439: 0, 440: 0, 441: 0.38095238095238093, 442: 0.8110516934046346, 443: 0.7034482758620689, 444: 0, 445: 0.4, 446: 1.0, 447: 0.7053763440860215, 448: 0.8579545454545454, 449: 0.27472527472527475, 450: 1.0, 451: 0.5606060606060606, 452: 0, 453: 0.7777777777777778, 454: 0, 455: 0.5, 456: 0.3333333333333333, 457: 0, 458: 0, 459: 0, 460: 0.4805194805194805, 461: 0, 462: 0, 463: 0, 464: 0.3888888888888889, 465: 0, 466: 1.0, 467: 0, 468: 0, 469: 0, 470: 1.0, 471: 0.4, 472: 1.0, 473: 1.0, 474: 0.6544117647058824, 475: 0.3055555555555556, 476: 0, 477: 0.8021505376344086, 478: 0, 479: 0.8465909090909091, 480: 0.6190476190476191, 481: 0.7476190476190476, 482: 0.8236559139784946, 483: 0.7476190476190476, 484: 1.0, 485: 0, 486: 0, 487: 0.7350427350427351, 488: 0, 489: 0, 490: 0, 491: 0.9560439560439561, 492: 0.8409090909090909, 493: 0.2, 494: 0.3333333333333333, 495: 0, 496: 0, 497: 0.6, 498: 0, 499: 0, 500: 0.4909090909090909, 501: 0, 502: 0.9264367816091954, 503: 0.477124183006536, 504: 0.38974358974358975, 505: 0.4873469387755102, 506: 0.6666666666666666, 507: 0.6666666666666666, 508: 0.5571428571428572, 509: 0.4327485380116959, 510: 0.773109243697479, 511: 0.8598484848484849, 512: 0, 513: 0, 514: 0, 515: 0.1, 516: 0.5, 517: 0.8333333333333334, 518: 0.5142857142857142, 519: 0.5641025641025641, 520: 0.5846702317290553, 521: 0, 522: 0.5641025641025641, 523: 0, 524: 0.4873469387755102, 525: 0, 526: 0.5751633986928104, 527: 0.5897435897435898, 528: 0.5357142857142857, 529: 1.0, 530: 0.6092307692307692, 531: 0, 532: 1.0, 533: 0, 534: 0, 535: 1.0, 536: 0.32727272727272727, 537: 0.5380952380952381, 538: 0.2777777777777778, 539: 0.5, 540: 1.0, 541: 0.3055555555555556, 542: 0.6373626373626373, 543: 0.35, 544: 0.6666666666666666, 545: 0.2964426877470356, 546: 0.4444444444444444, 547: 0.9, 548: 0, 549: 0.6666666666666666, 550: 0, 551: 0, 552: 1.0, 553: 1.0, 554: 0.7333333333333333, 555: 0.5909090909090909, 556: 0.6666666666666666, 557: 0.8, 558: 0.5333333333333333, 559: 0.4, 560: 0.4, 561: 1.0, 562: 0, 563: 0, 564: 0, 565: 0, 566: 0.2797979797979798, 567: 0.4666666666666667, 568: 0.8611111111111112, 569: 1.0, 570: 1.0, 571: 1.0, 572: 0.6, 573: 0.5277777777777778, 574: 1.0, 575: 0.4666666666666667, 576: 0, 577: 0.9333333333333333, 578: 0.4666666666666667, 579: 0, 580: 0.75, 581: 0.8598484848484849, 582: 0, 583: 1.0, 584: 0.7666666666666667, 585: 0, 586: 1.0, 587: 0, 588: 1.0, 589: 0, 590: 0.6666666666666666, 591: 0.44664031620553357, 592: 0, 593: 0.5714285714285714, 594: 0.5526315789473685, 595: 0.4835164835164835, 596: 0.4642857142857143, 597: 0, 598: 0.16666666666666666, 599: 0, 600: 0.8, 601: 0.2, 602: 0, 603: 1.0, 604: 0.4, 605: 0, 606: 0.8057040998217468, 607: 1.0, 608: 0.6666666666666666, 609: 1.0, 610: 1.0, 611: 1.0, 612: 0.8669950738916257, 613: 0.8602150537634409, 614: 0.773109243697479, 615: 0.6888888888888889, 616: 0.48333333333333334, 617: 0, 618: 1.0, 619: 1.0, 620: 0, 621: 0.6612685560053981, 622: 0.5686274509803921, 623: 0.7548387096774194, 624: 1.0, 625: 0.803921568627451, 626: 1.0, 627: 0, 628: 0.2727272727272727, 629: 0.3333333333333333, 630: 0, 631: 0.19047619047619047, 632: 0.16666666666666666, 633: 0.3333333333333333, 634: 0, 635: 0.5904761904761905, 636: 0.16666666666666666, 637: 0.43636363636363634, 638: 0.6916666666666667, 639: 0.45454545454545453, 640: 0.19047619047619047, 641: 0.8, 642: 0.5238095238095238, 643: 1.0, 644: 0, 645: 0.5777777777777777, 646: 0, 647: 0, 648: 0, 649: 1.0, 650: 1.0, 651: 0, 652: 0.3333333333333333, 653: 0, 654: 1.0, 655: 1.0, 656: 0.6888888888888889, 657: 0, 658: 1.0, 659: 0, 660: 0.6, 661: 0.3333333333333333, 662: 0.6285714285714286, 663: 0.6, 664: 0.3333333333333333, 665: 1.0, 666: 0.4, 667: 1.0, 668: 0.3216374269005848, 669: 1.0, 670: 0.7, 671: 0, 672: 1.0, 673: 0.48663101604278075, 674: 0.5964912280701754, 675: 1.0, 676: 0.3333333333333333, 677: 0.75, 678: 1.0, 679: 1.0, 680: 0.43956043956043955, 681: 0.4696969696969697, 682: 0.8888888888888888, 683: 0, 684: 0, 685: 0.42857142857142855, 686: 0.6666666666666666, 687: 0.4666666666666667, 688: 0.8333333333333334, 689: 0.3333333333333333, 690: 0.5777777777777777, 691: 0.47619047619047616, 692: 1.0, 693: 1.0, 694: 1.0, 695: 1.0, 696: 0.6666666666666666, 697: 0.5, 698: 1.0, 699: 0.38095238095238093, 700: 0.3111111111111111, 701: 1.0, 702: 0.3333333333333333, 703: 1.0, 704: 0.5714285714285714, 705: 0.75, 706: 0.3333333333333333, 707: 0, 708: 0, 709: 0, 710: 0.16666666666666666, 711: 0.46153846153846156, 712: 0.7857142857142857, 713: 0.3333333333333333, 714: 0, 715: 0.7857142857142857, 716: 0.7037037037037037, 717: 0.5095238095238095, 718: 1.0, 719: 0.7162162162162162, 720: 1.0, 721: 1.0, 722: 0.6880570409982175, 723: 0.46153846153846156, 724: 0, 725: 1.0, 726: 1.0, 727: 0, 728: 0, 729: 0.6944444444444444, 730: 0.47619047619047616, 731: 1.0, 732: 0.2857142857142857, 733: 0.8148148148148148, 734: 0.5, 735: 0.2845849802371542, 736: 0, 737: 0.5714285714285714, 738: 0.7692307692307693, 739: 0.6733870967741935, 740: 0.5833333333333334, 741: 0, 742: 0, 743: 0.8928571428571429, 744: 0.6444444444444445, 745: 0.75, 746: 0.6666666666666666, 747: 0, 748: 0, 749: 0.8333333333333334, 750: 0.6060606060606061, 751: 0, 752: 0, 753: 0, 754: 1.0, 755: 0, 756: 0.37142857142857144, 757: 0.6666666666666666, 758: 0, 759: 0.4, 760: 0, 761: 0.4, 762: 0.6181818181818182, 763: 0.6111111111111112, 764: 1.0, 765: 0.8, 766: 1.0, 767: 0, 768: 0.7037037037037037, 769: 1.0, 770: 0, 771: 0, 772: 0.6083333333333333, 773: 0.6798418972332015, 774: 0.6, 775: 0.4364540931705111, 776: 0.8571428571428571, 777: 0.7948717948717948, 778: 0.8571428571428571, 779: 0.6952380952380952, 780: 0, 781: 0.5824175824175825, 782: 0.5, 783: 0.5, 784: 0.719758064516129, 785: 0.5254946727549468, 786: 0.43590398365679267, 787: 0.8104575163398693, 788: 0, 789: 0, 790: 0, 791: 0.5333333333333333, 792: 0.6566666666666666, 793: 0, 794: 0.2222222222222222, 795: 1.0, 796: 0.3333333333333333, 797: 0, 798: 0, 799: 1.0, 800: 0.5566502463054187, 801: 0.5, 802: 0.5, 803: 0.3333333333333333, 804: 0.9333333333333333, 805: 1.0, 806: 0.4666666666666667, 807: 0, 808: 0.7205387205387206, 809: 0.7142857142857143, 810: 0.9444444444444444, 811: 0.6639676113360324, 812: 0.9, 813: 0, 814: 0.7142857142857143, 815: 1.0, 816: 0, 817: 0.6666666666666666, 818: 0, 819: 0.8911290322580645, 820: 1.0, 821: 0.463768115942029, 822: 0.3333333333333333, 823: 1.0, 824: 0.38974358974358975, 825: 0.3611111111111111, 826: 0.9788359788359788, 827: 0.7548387096774194, 828: 0.773109243697479, 829: 0.7670454545454546, 830: 1.0, 831: 0, 832: 1.0, 833: 0.8, 834: 1.0, 835: 0.4093567251461988, 836: 0, 837: 0.6666666666666666, 838: 1.0, 839: 0, 840: 0.13333333333333333, 841: 0.6190476190476191, 842: 0.6071428571428571, 843: 0, 844: 0.3333333333333333, 845: 1.0, 846: 0.23809523809523808, 847: 0.6515151515151515, 848: 0.32727272727272727, 849: 0, 850: 1.0, 851: 0.6, 852: 0, 853: 0, 854: 0, 855: 0, 856: 0.6, 857: 0, 858: 0, 859: 1.0, 860: 0.5636363636363636, 861: 0.4, 862: 0, 863: 0, 864: 0.3333333333333333, 865: 0.3333333333333333, 866: 0.6666666666666666, 867: 0.5606060606060606, 868: 0, 869: 1.0, 870: 0, 871: 0, 872: 0, 873: 0.5384615384615384, 874: 1.0, 875: 0.3333333333333333, 876: 0, 877: 0.6666666666666666, 878: 0.6666666666666666, 879: 0.7333333333333333, 880: 1.0, 881: 0, 882: 0.6666666666666666, 883: 0, 884: 0.16666666666666666, 885: 0.7333333333333333, 886: 0.6888888888888889, 887: 0.75, 888: 0.36257309941520466, 889: 0, 890: 0, 891: 0.5238095238095238, 892: 1.0, 893: 0.7333333333333333, 894: 0.45454545454545453, 895: 0.3142857142857143, 896: 0.2, 897: 0.43333333333333335, 898: 0.23976608187134502, 899: 0.1, 900: 0.3333333333333333, 901: 0, 902: 0.5947368421052631, 903: 0.5714285714285714, 904: 0.8, 905: 0, 906: 0.7, 907: 0.6, 908: 0.3333333333333333, 909: 0, 910: 1.0, 911: 0.3, 912: 0, 913: 1.0, 914: 0, 915: 0, 916: 1.0, 917: 0, 918: 0, 919: 0.5833333333333334, 920: 0, 921: 1.0, 922: 1.0, 923: 0.4666666666666667, 924: 0.7, 925: 0, 926: 0.6, 927: 0, 928: 0.38859180035650626, 929: 0.5, 930: 0.7034482758620689, 931: 0.48717948717948717, 932: 0, 933: 0, 934: 1.0, 935: 0.8, 936: 0.8380952380952381, 937: 0, 938: 0, 939: 0, 940: 0, 941: 0.39869281045751637, 942: 0.4, 943: 0.9, 944: 0, 945: 0.92, 946: 0.6666666666666666, 947: 0, 948: 0, 949: 0, 950: 0, 951: 0, 952: 0, 953: 0, 954: 0, 955: 0, 956: 0, 957: 0.8, 958: 0.6666666666666666, 959: 0, 960: 0.65, 961: 0.9090909090909091, 962: 0, 963: 0, 964: 0.4666666666666667, 965: 1.0, 966: 1.0, 967: 1.0, 968: 0, 969: 0, 970: 0, 971: 0.3333333333333333, 972: 0, 973: 0, 974: 0.3333333333333333, 975: 1.0, 976: 0.8611111111111112, 977: 0.27635327635327633, 978: 0.7142857142857143, 979: 0.3611111111111111, 980: 0, 981: 1.0, 982: 0.5357142857142857, 983: 1.0, 984: 0.496551724137931, 985: 0.44871794871794873, 986: 0.7126436781609196, 987: 0.47878787878787876, 988: 0, 989: 0, 990: 1.0, 991: 1.0, 992: 1.0, 993: 1.0, 994: 0.46153846153846156, 995: 0, 996: 0.34545454545454546, 997: 1.0, 998: 0.6666666666666666, 999: 0.42857142857142855, 1000: 0.41700404858299595, 1001: 0.4799154334038055, 1002: 0.6, 1003: 1.0, 1004: 0.49572649572649574, 1005: 1.0, 1006: 0, 1007: 0.5272727272727272, 1008: 0.5221774193548387, 1009: 0.49743589743589745, 1010: 0.625, 1011: 0.30526315789473685, 1012: 0.6324786324786325, 1013: 0.4835164835164835, 1014: 0.3626373626373626, 1015: 0.696969696969697, 1016: 1.0, 1017: 0.5806451612903226, 1018: 0.38181818181818183, 1019: 0.8128654970760234, 1020: 0.6439393939393939, 1021: 0.6748911465892597, 1022: 0.75, 1023: 0, 1024: 1.0, 1025: 0.8850574712643678, 1026: 0.5268817204301075, 1027: 1.0, 1028: 1.0, 1029: 0, 1030: 1.0, 1031: 1.0, 1032: 0.4799154334038055, 1033: 0.5492424242424242, 1034: 0.4727272727272727, 1035: 0.6440422322775264, 1036: 0.5844155844155844, 1037: 1.0, 1038: 0.5398110661268556, 1039: 1.0, 1040: 0.5862068965517241, 1041: 0.4799154334038055, 1042: 0.42857142857142855, 1043: 0.42857142857142855, 1044: 1.0, 1045: 0.5161290322580645, 1046: 0.4269005847953216, 1047: 0.2833333333333333, 1048: 0.33088235294117646, 1049: 1.0, 1050: 0.4835164835164835, 1051: 0.7818181818181819, 1052: 0.4269005847953216, 1053: 0.6559139784946236, 1054: 0.6559139784946236, 1055: 0.7, 1056: 0, 1057: 0.2490118577075099, 1058: 0.39285714285714285, 1059: 0.4025641025641026, 1060: 0.37037037037037035, 1061: 1.0, 1062: 0.3333333333333333, 1063: 0, 1064: 0, 1065: 1.0, 1066: 0, 1067: 0.5606060606060606, 1068: 0, 1069: 0.8, 1070: 0.6428571428571429, 1071: 0, 1072: 0.9743589743589743, 1073: 0.7692307692307693, 1074: 0.8, 1075: 0.5505376344086022, 1076: 0.3333333333333333, 1077: 0, 1078: 1.0, 1079: 0, 1080: 0.8614718614718615, 1081: 1.0, 1082: 0.8823529411764706, 1083: 0.75, 1084: 0.35658914728682173, 1085: 1.0, 1086: 0.42857142857142855, 1087: 0.4444444444444444, 1088: 0.3333333333333333, 1089: 0, 1090: 1.0, 1091: 1.0, 1092: 0.35555555555555557, 1093: 0.6666666666666666, 1094: 1.0, 1095: 0.3788410886742757, 1096: 0.5559183673469388, 1097: 0.6426426426426426, 1098: 0.7359307359307359, 1099: 0.803921568627451, 1100: 0.7293447293447294, 1101: 0.7132352941176471, 1102: 0.7012195121951219, 1103: 0.5, 1104: 0, 1105: 0.8333333333333334, 1106: 1.0, 1107: 0.16666666666666666, 1108: 1.0, 1109: 1.0, 1110: 0.9166666666666666, 1111: 0.7472527472527473, 1112: 0, 1113: 0.49615653389238296, 1114: 0, 1115: 0, 1116: 0.6071428571428571, 1117: 0, 1118: 0.16666666666666666, 1119: 0.6923076923076923, 1120: 0.6666666666666666, 1121: 1.0, 1122: 0, 1123: 0, 1124: 0.5579029733959311, 1125: 0.604355716878403, 1126: 0, 1127: 0.8292682926829268, 1128: 0.6993506493506494, 1129: 0.44346431435445066, 1130: 0.6666666666666666, 1131: 0.4694708276797829, 1132: 0.7253068381063705, 1133: 0.6443452380952381, 1134: 0.8340080971659919, 1135: 0.3333333333333333, 1136: 0.7692307692307693, 1137: 0, 1138: 0.7113783533765032, 1139: 0.5816692268305171, 1140: 0.6626123744050767, 1141: 0.7289795918367347, 1142: 0.5099099099099099, 1143: 0.6569380440348183, 1144: 0.6856060606060606, 1145: 0.40978348035284684, 1146: 0.6209150326797386, 1147: 0.8901515151515151, 1148: 0.3333333333333333, 1149: 0.26666666666666666, 1150: 0.6666666666666666, 1151: 0.81313598519889, 1152: 0.9142857142857143, 1153: 0.7914634146341464, 1154: 0.5292307692307693, 1155: 0.7106954997077732, 1156: 0.7510204081632653, 1157: 0.6076923076923076, 1158: 0.662083553675304, 1159: 0.7568940493468795, 1160: 0.7653276955602537, 1161: 0, 1162: 0.7519217330538085, 1163: 0.6145833333333334, 1164: 0.7526205450733753, 1165: 0.8731501057082452, 1166: 0.5111111111111111, 1167: 0.5555555555555556, 1168: 0.6666666666666666, 1169: 0.5849802371541502, 1170: 0.4945054945054945, 1171: 0.6166666666666667, 1172: 0.5770750988142292, 1173: 0.4642857142857143, 1174: 0.6764705882352942, 1175: 0.8, 1176: 0.9, 1177: 0.9, 1178: 0.9, 1179: 0.16666666666666666, 1180: 0.5731225296442688, 1181: 0.3333333333333333, 1182: 0.6, 1183: 0.047619047619047616, 1184: 0, 1185: 1.0, 1186: 1.0, 1187: 0, 1188: 0, 1189: 0.6071428571428571, 1190: 0.7857142857142857, 1191: 0.7878787878787878, 1192: 1.0, 1193: 0.5033333333333333, 1194: 0.7205882352941176, 1195: 0, 1196: 0, 1197: 0.45584045584045585, 1198: 0.5, 1199: 1.0, 1200: 0.803921568627451, 1201: 0, 1202: 0, 1203: 0.3333333333333333, 1204: 1.0, 1205: 0, 1206: 0, 1207: 0.4, 1208: 1.0, 1209: 0.77, 1210: 0.595137420718816, 1211: 1.0, 1212: 0.6481481481481481, 1213: 0.4444444444444444, 1214: 0.9333333333333333, 1215: 0, 1216: 0, 1217: 0.9, 1218: 1.0, 1219: 0.6428571428571429, 1220: 0.7770582793709528, 1221: 0.4888888888888889, 1222: 0.7229437229437229, 1223: 0.47619047619047616, 1224: 0.7354497354497355, 1225: 0.6666666666666666, 1226: 0.5282738095238095, 1227: 0.5434782608695652, 1228: 0.7142857142857143, 1229: 0.47953216374269003, 1230: 0.4882154882154882, 1231: 0.5511363636363636, 1232: 0.7867647058823529, 1233: 0.5005649717514125, 1234: 0.5865853658536585, 1235: 0.5805515239477503, 1236: 0.6454106280193237, 1237: 0.5454545454545454, 1238: 0.8333333333333334, 1239: 0.6731707317073171, 1240: 0.578743961352657, 1241: 0.6794871794871795, 1242: 0.426775956284153, 1243: 0.6101960784313726, 1244: 0.5803921568627451, 1245: 0.7966666666666666, 1246: 0.5346907993966817, 1247: 0.871264367816092, 1248: 0.6258503401360545, 1249: 0.47428917120387176, 1250: 0.6317460317460317, 1251: 0.592687074829932, 1252: 0.7773279352226721, 1253: 0.5433333333333333, 1254: 0.8431372549019608, 1255: 0.42844600526777876, 1256: 0.9083333333333333, 1257: 0.663768115942029, 1258: 0.6609756097560976, 1259: 0.44742063492063494, 1260: 0.8523809523809524, 1261: 1.0, 1262: 0.9583333333333334, 1263: 0, 1264: 1.0, 1265: 0.40307692307692305, 1266: 1.0, 1267: 0, 1268: 0.6923076923076923, 1269: 0.3333333333333333, 1270: 0, 1271: 0, 1272: 0, 1273: 0.6666666666666666, 1274: 0.37777777777777777, 1275: 0, 1276: 0.35714285714285715, 1277: 0.47619047619047616, 1278: 0.6666666666666666, 1279: 0.5799319727891157, 1280: 0, 1281: 0, 1282: 0.6619047619047619, 1283: 0.6363636363636364, 1284: 0, 1285: 0, 1286: 0.1, 1287: 1.0, 1288: 0.6666666666666666, 1289: 0.6979591836734694, 1290: 0, 1291: 0, 1292: 1.0, 1293: 0, 1294: 1.0, 1295: 0.38095238095238093, 1296: 0.42857142857142855, 1297: 0.6796536796536796, 1298: 1.0, 1299: 0.7409805735430157, 1300: 0.4, 1301: 0, 1302: 0.475, 1303: 0.3, 1304: 0, 1305: 0, 1306: 0.6645702306079665, 1307: 0.7914634146341464, 1308: 0.7297959183673469, 1309: 0.38448979591836735, 1310: 0.9166666666666666, 1311: 0.6094117647058823, 1312: 0.5636363636363636, 1313: 0.45714285714285713, 1314: 0.8983957219251337, 1315: 0.2909090909090909, 1316: 0, 1317: 0.4155844155844156, 1318: 0.6666666666666666, 1319: 0.5849802371541502, 1320: 0.3582089552238806, 1321: 0, 1322: 0.7297959183673469, 1323: 0, 1324: 0, 1325: 0, 1326: 0.39878048780487807, 1327: 0, 1328: 0, 1329: 0.8463726884779517, 1330: 0.7189716312056738, 1331: 0, 1332: 0, 1333: 0.6578014184397163, 1334: 0, 1335: 1.0, 1336: 0, 1337: 1.0, 1338: 0.6397058823529411, 1339: 0.7098039215686275, 1340: 0, 1341: 0, 1342: 0, 1343: 0.7037037037037037, 1344: 0, 1345: 0, 1346: 1.0, 1347: 0, 1348: 0, 1349: 0, 1350: 1.0, 1351: 0.34067796610169493, 1352: 0, 1353: 0, 1354: 0, 1355: 0.4, 1356: 0.47619047619047616, 1357: 0, 1358: 0.4, 1359: 1.0, 1360: 0, 1361: 0, 1362: 0, 1363: 0.7111111111111111, 1364: 0, 1365: 0.6222222222222222, 1366: 0.6222222222222222, 1367: 0.6222222222222222, 1368: 0.8, 1369: 0.8666666666666667, 1370: 0.42424242424242425, 1371: 0.6794871794871795, 1372: 0.8181818181818182, 1373: 1.0, 1374: 1.0, 1375: 1.0, 1376: 0.6666666666666666, 1377: 0.6666666666666666, 1378: 0, 1379: 0.5333333333333333, 1380: 0, 1381: 0, 1382: 0, 1383: 0, 1384: 1.0, 1385: 1.0, 1386: 0, 1387: 0, 1388: 0, 1389: 0, 1390: 0, 1391: 0, 1392: 0, 1393: 1.0, 1394: 1.0, 1395: 1.0, 1396: 0, 1397: 0.8333333333333334, 1398: 0, 1399: 0, 1400: 0.4, 1401: 0.7137681159420289, 1402: 0.45075757575757575, 1403: 0.23809523809523808, 1404: 0.2916666666666667, 1405: 0.5047619047619047, 1406: 0.2, 1407: 1.0, 1408: 1.0, 1409: 0.4166666666666667, 1410: 1.0, 1411: 0, 1412: 0.4810606060606061, 1413: 0.5, 1414: 0.5138339920948617, 1415: 0.5, 1416: 0.46153846153846156, 1417: 0.3333333333333333, 1418: 0.8333333333333334, 1419: 0, 1420: 0.3333333333333333, 1421: 0, 1422: 1.0, 1423: 0.5105263157894737, 1424: 1.0, 1425: 1.0, 1426: 0.9, 1427: 0, 1428: 0, 1429: 1.0, 1430: 1.0, 1431: 0, 1432: 0.4, 1433: 0.8333333333333334, 1434: 0.3333333333333333, 1435: 0, 1436: 0.6666666666666666, 1437: 0, 1438: 0.35172413793103446, 1439: 0.5934065934065934, 1440: 0.3333333333333333, 1441: 0.4057971014492754, 1442: 0, 1443: 1.0, 1444: 0.4666666666666667, 1445: 0.6666666666666666, 1446: 0.6263736263736264, 1447: 0.8484848484848485, 1448: 0.8484848484848485, 1449: 0.8351648351648352, 1450: 0.8214285714285714, 1451: 0.8846153846153846, 1452: 1.0, 1453: 0.5473684210526316, 1454: 0.39705882352941174, 1455: 0.32967032967032966, 1456: 0.39705882352941174, 1457: 0.49047619047619045, 1458: 0.3333333333333333, 1459: 0.7777777777777778, 1460: 0.7454545454545455, 1461: 0.7777777777777778, 1462: 0.2545454545454545, 1463: 0.32051282051282054, 1464: 0.7, 1465: 0.3333333333333333, 1466: 0.5357142857142857, 1467: 0.3352272727272727, 1468: 0.4722222222222222, 1469: 0.367816091954023, 1470: 0, 1471: 1.0, 1472: 0, 1473: 0.9, 1474: 0.2545454545454545, 1475: 0.3333333333333333, 1476: 0, 1477: 0.35714285714285715, 1478: 0.23529411764705882, 1479: 0.2, 1480: 0.3333333333333333, 1481: 0.75, 1482: 0.584045584045584, 1483: 0.717948717948718, 1484: 0.6666666666666666, 1485: 0.34057971014492755, 1486: 0, 1487: 0, 1488: 0.3333333333333333, 1489: 0.3333333333333333, 1490: 0.5636363636363636, 1491: 0.33088235294117646, 1492: 0.3, 1493: 0.5591133004926109, 1494: 0, 1495: 1.0, 1496: 0.7142857142857143, 1497: 0.4166666666666667, 1498: 0.6666666666666666, 1499: 0.45454545454545453, 1500: 0, 1501: 0.6666666666666666, 1502: 0.16666666666666666, 1503: 0.5641025641025641, 1504: 0, 1505: 0.4909090909090909, 1506: 1.0, 1507: 0.3333333333333333, 1508: 0.4810606060606061, 1509: 0, 1510: 0.8235294117647058, 1511: 0.8333333333333334, 1512: 0, 1513: 0.45075757575757575, 1514: 0.7636363636363637, 1515: 0, 1516: 1.0, 1517: 0.717948717948718, 1518: 0, 1519: 0, 1520: 0.45075757575757575, 1521: 0.39285714285714285, 1522: 0.5512820512820513, 1523: 0.4166666666666667, 1524: 1.0, 1525: 0.7279411764705882, 1526: 0.42857142857142855, 1527: 0.3333333333333333, 1528: 0.6375661375661376, 1529: 0, 1530: 0.18095238095238095, 1531: 1.0, 1532: 0.8333333333333334, 1533: 0.5, 1534: 0.7142857142857143, 1535: 0.7582417582417582, 1536: 0.3142857142857143, 1537: 1.0, 1538: 0.6666666666666666, 1539: 0.4166666666666667, 1540: 0.49047619047619045, 1541: 0.17857142857142858, 1542: 0.38095238095238093, 1543: 0.5735294117647058, 1544: 0.5, 1545: 0.6666666666666666, 1546: 0.6666666666666666, 1547: 0.8, 1548: 0.3333333333333333, 1549: 0, 1550: 0, 1551: 0.5333333333333333, 1552: 1.0, 1553: 0, 1554: 0, 1555: 0, 1556: 0, 1557: 1.0, 1558: 0.8, 1559: 0, 1560: 1.0, 1561: 1.0, 1562: 0.4, 1563: 0, 1564: 0, 1565: 0.8333333333333334, 1566: 0.3333333333333333, 1567: 0.509090909090909, 1568: 0.5, 1569: 0.16666666666666666, 1570: 0, 1571: 0.4888888888888889, 1572: 0.5, 1573: 0, 1574: 0, 1575: 0, 1576: 0, 1577: 0.5, 1578: 0, 1579: 0.3333333333333333, 1580: 0.8055555555555556, 1581: 0, 1582: 0.8571428571428571, 1583: 0.8571428571428571, 1584: 1.0, 1585: 0.3626373626373626, 1586: 0.2, 1587: 0, 1588: 0.5, 1589: 0, 1590: 0.45588235294117646, 1591: 0, 1592: 0.8, 1593: 0.5, 1594: 0, 1595: 1.0, 1596: 0.8, 1597: 1.0, 1598: 0.8, 1599: 0, 1600: 0, 1601: 0, 1602: 1.0, 1603: 0.6, 1604: 0.3333333333333333, 1605: 0.3333333333333333, 1606: 0.5380952380952381, 1607: 0, 1608: 0, 1609: 0.6111111111111112, 1610: 0, 1611: 0, 1612: 0, 1613: 1.0, 1614: 1.0, 1615: 1.0, 1616: 1.0, 1617: 1.0, 1618: 0.7, 1619: 1.0, 1620: 1.0, 1621: 0, 1622: 0.9, 1623: 0.7, 1624: 1.0, 1625: 0.38461538461538464, 1626: 0, 1627: 0.4805194805194805, 1628: 0.6666666666666666, 1629: 0.7922077922077922, 1630: 0, 1631: 0.6, 1632: 0, 1633: 0, 1634: 0.7777777777777778, 1635: 0, 1636: 0.45454545454545453, 1637: 0.3333333333333333, 1638: 0, 1639: 0.6894736842105263, 1640: 0.8368421052631579, 1641: 0.35555555555555557, 1642: 0.44761904761904764, 1643: 0.5, 1644: 0, 1645: 0.8, 1646: 0, 1647: 0.6, 1648: 0.42857142857142855, 1649: 0, 1650: 0, 1651: 1.0, 1652: 1.0, 1653: 1.0, 1654: 0, 1655: 0, 1656: 0.3333333333333333, 1657: 1.0, 1658: 0.8888888888888888, 1659: 0.5714285714285714, 1660: 1.0, 1661: 0, 1662: 0, 1663: 0.8333333333333334, 1664: 0, 1665: 0.26666666666666666, 1666: 0.2857142857142857, 1667: 0.3523809523809524, 1668: 0.6785714285714286, 1669: 0.46153846153846156, 1670: 0.9285714285714286, 1671: 0.5333333333333333, 1672: 0.6666666666666666, 1673: 0.5606060606060606, 1674: 0.6222222222222222, 1675: 0.5238095238095238, 1676: 0.3611111111111111, 1677: 0, 1678: 0.8571428571428571, 1679: 1.0, 1680: 0.1, 1681: 0.6666666666666666, 1682: 0, 1683: 0, 1684: 1.0, 1685: 0.8142857142857143, 1686: 0.653781512605042, 1687: 0.9375, 1688: 0.9523809523809523, 1689: 0, 1690: 0, 1691: 0, 1692: 0, 1693: 0.8055555555555556, 1694: 0, 1695: 0, 1696: 0, 1697: 0, 1698: 0, 1699: 0, 1700: 0.5309779825908858, 1701: 0.6, 1702: 0.575686732904734, 1703: 0, 1704: 0.766798418972332, 1705: 0, 1706: 0.7272727272727273, 1707: 0.6666666666666666, 1708: 0.598780487804878, 1709: 0.7446153846153846, 1710: 0.70578231292517, 1711: 0.5849056603773585, 1712: 0.8055555555555556, 1713: 0.6538908246225319, 1714: 0.7904761904761904, 1715: 0.7692307692307693, 1716: 0.5555555555555556, 1717: 0.9150326797385621, 1718: 0.5276836158192091, 1719: 0, 1720: 0, 1721: 0, 1722: 0.593939393939394, 1723: 0.9047619047619048, 1724: 0.43951612903225806, 1725: 0.559016393442623, 1726: 0, 1727: 0.8104838709677419, 1728: 0.6775510204081633, 1729: 0.6419981498612396, 1730: 0, 1731: 0, 1732: 0.7118279569892473, 1733: 0, 1734: 0.3333333333333333, 1735: 0.3333333333333333, 1736: 0.6666666666666666, 1737: 0.9883040935672515, 1738: 0.6666666666666666, 1739: 0, 1740: 0.6, 1741: 0.4038961038961039, 1742: 0.44642857142857145, 1743: 0.8442028985507246, 1744: 0.3725266362252664, 1745: 0, 1746: 0.42857142857142855, 1747: 0, 1748: 0, 1749: 0, 1750: 0, 1751: 0.6825396825396826, 1752: 0.6733615221987315, 1753: 0.39974937343358397, 1754: 0, 1755: 1.0, 1756: 0.8, 1757: 1.0, 1758: 1.0, 1759: 0.19047619047619047, 1760: 0.8083333333333333, 1761: 0, 1762: 0.6307692307692307, 1763: 0, 1764: 0.5541125541125541, 1765: 0.6828737300435413, 1766: 0.8095238095238095, 1767: 0, 1768: 0.6625544267053701, 1769: 0, 1770: 0.8333333333333334, 1771: 0.6025641025641025, 1772: 0, 1773: 0.26666666666666666, 1774: 1.0, 1775: 1.0, 1776: 0.6946938775510204, 1777: 0.7142857142857143, 1778: 0.58, 1779: 0.5570570570570571, 1780: 0, 1781: 0.558983666061706, 1782: 0.8, 1783: 0.7692307692307693, 1784: 1.0, 1785: 1.0, 1786: 0.8538011695906432, 1787: 0.8376068376068376, 1788: 0.6906122448979591, 1789: 0.8138528138528138, 1790: 0.9818181818181818, 1791: 0.7916666666666666, 1792: 1.0, 1793: 0.7120708748615725, 1794: 0, 1795: 0.6688311688311688, 1796: 0.6, 1797: 0.6204644412191582, 1798: 0, 1799: 1.0, 1800: 0, 1801: 0, 1802: 0.5731523378582202, 1803: 0.7445887445887446, 1804: 0.6219607843137255, 1805: 0.7712418300653595, 1806: 0.6615646258503401, 1807: 0.8076923076923077, 1808: 0, 1809: 0.8368421052631579, 1810: 0.7282608695652174, 1811: 0.9047619047619048, 1812: 0.42424242424242425, 1813: 0.5029239766081871, 1814: 0.5, 1815: 0.6927453769559033, 1816: 0, 1817: 0, 1818: 0.7470355731225297, 1819: 0.7494252873563219, 1820: 0.2948717948717949, 1821: 1.0, 1822: 0.7272727272727273, 1823: 1.0, 1824: 0.8333333333333334, 1825: 0.4444444444444444, 1826: 1.0, 1827: 0.16666666666666666, 1828: 1.0, 1829: 0.6666666666666666, 1830: 1.0, 1831: 0.6, 1832: 0.6794871794871795, 1833: 0, 1834: 0.16666666666666666, 1835: 0, 1836: 0, 1837: 0.6, 1838: 0.7142857142857143, 1839: 0, 1840: 0, 1841: 0, 1842: 0.9963768115942029, 1843: 0.5683615819209039, 1844: 0.7961538461538461, 1845: 0.6919518963922294, 1846: 0.571969696969697, 1847: 0.7878048780487805, 1848: 0.4789687924016282, 1849: 0, 1850: 0.7835497835497836, 1851: 0.7233201581027668, 1852: 0.9120879120879121, 1853: 0.9238095238095239, 1854: 0, 1855: 0, 1856: 0, 1857: 0, 1858: 0, 1859: 0.8252100840336134, 1860: 1.0, 1861: 0.16666666666666666, 1862: 1.0, 1863: 1.0, 1864: 0.576271186440678, 1865: 0.7908045977011494, 1866: 1.0, 1867: 0.8931451612903226, 1868: 1.0, 1869: 0, 1870: 0, 1871: 0, 1872: 1.0, 1873: 0.5, 1874: 0, 1875: 0.38095238095238093, 1876: 0, 1877: 0, 1878: 0, 1879: 0.7416666666666667, 1880: 0, 1881: 1.0, 1882: 0.7617051013277428, 1883: 0, 1884: 0.8714285714285714, 1885: 0, 1886: 0.7555555555555555, 1887: 0, 1888: 0, 1889: 0, 1890: 0, 1891: 1.0, 1892: 0, 1893: 0.38095238095238093, 1894: 0.3333333333333333, 1895: 0.8104838709677419, 1896: 0, 1897: 1.0, 1898: 0.650472334682861, 1899: 0.6235294117647059, 1900: 0.8676470588235294, 1901: 0.683982683982684, 1902: 0.9064327485380117, 1903: 0, 1904: 0.9064327485380117, 1905: 0.8473684210526315, 1906: 0, 1907: 0.8311688311688312, 1908: 0.8051948051948052, 1909: 0.7426470588235294, 1910: 0.8714285714285714, 1911: 0.69, 1912: 0.9, 1913: 0.782608695652174, 1914: 0.8222222222222222, 1915: 0.5966666666666667, 1916: 0.9657258064516129, 1917: 0.819047619047619, 1918: 0.7317298797409806, 1919: 0, 1920: 0, 1921: 0.9735449735449735, 1922: 0.92, 1923: 0.3333333333333333, 1924: 0.3333333333333333, 1925: 0.6577243293246994, 1926: 0.3333333333333333, 1927: 0, 1928: 0, 1929: 0, 1930: 0.9233333333333333, 1931: 0.6577243293246994, 1932: 0, 1933: 0, 1934: 0, 1935: 0.9333333333333333, 1936: 0.7473572938689218, 1937: 0.8324829931972789, 1938: 0.9666666666666667, 1939: 0.6515151515151515, 1940: 0, 1941: 0.7555555555555555, 1942: 0, 1943: 0.7333333333333333, 1944: 0.6580645161290323, 1945: 0, 1946: 0, 1947: 0.5766666666666667, 1948: 0.5161290322580645, 1949: 0, 1950: 1.0, 1951: 0.9285714285714286, 1952: 0.5190476190476191, 1953: 0.5238095238095238, 1954: 0.8333333333333334, 1955: 0.3333333333333333, 1956: 0.39766081871345027, 1957: 0.3504273504273504, 1958: 0.43333333333333335, 1959: 0.43333333333333335, 1960: 0.4901185770750988, 1961: 0.6666666666666666, 1962: 0.9285714285714286, 1963: 1.0, 1964: 0.3333333333333333, 1965: 0, 1966: 0.48947368421052634, 1967: 0.48947368421052634, 1968: 0.5, 1969: 0.5818181818181818, 1970: 0.4666666666666667, 1971: 0.8666666666666667, 1972: 0.6, 1973: 0.9333333333333333, 1974: 1.0, 1975: 0.4, 1976: 0.945054945054945, 1977: 0.9333333333333333, 1978: 0.9560439560439561, 1979: 0.3, 1980: 0.3, 1981: 0, 1982: 0.7238095238095238, 1983: 0.3333333333333333, 1984: 0.16666666666666666, 1985: 1.0, 1986: 0.4666666666666667, 1987: 0.9166666666666666, 1988: 0.7252747252747253, 1989: 0.8214285714285714, 1990: 0.8241758241758241, 1991: 0.6666666666666666, 1992: 0.6992753623188406, 1993: 0.7857142857142857, 1994: 0, 1995: 0.5185185185185185, 1996: 0.6205533596837944, 1997: 0.7916666666666666, 1998: 0.9010989010989011, 1999: 0.8362573099415205, 2000: 0.9044117647058824, 2001: 0.869281045751634, 2002: 1.0, 2003: 0.9117647058823529, 2004: 0.7894736842105263, 2005: 0.4838709677419355, 2006: 0.5277777777777778, 2007: 0.5714285714285714, 2008: 0.8285714285714286, 2009: 0.7121212121212122, 2010: 0.4329004329004329, 2011: 0.4458128078817734, 2012: 0.3333333333333333, 2013: 0.3333333333333333, 2014: 0.4857142857142857, 2015: 0.5087719298245614, 2016: 0.6071428571428571, 2017: 0.5833333333333334, 2018: 0.4, 2019: 0.6, 2020: 0.7450980392156863, 2021: 0.5882352941176471, 2022: 0.38461538461538464, 2023: 0.4, 2024: 0.42857142857142855, 2025: 1.0, 2026: 1.0, 2027: 0.41025641025641024, 2028: 0.6944444444444444, 2029: 0, 2030: 0, 2031: 0.3611111111111111, 2032: 1.0, 2033: 0.4222222222222222, 2034: 0.7748917748917749, 2035: 0.75, 2036: 0.3333333333333333, 2037: 0.7, 2038: 0.5, 2039: 0.4743083003952569, 2040: 0, 2041: 0, 2042: 0, 2043: 0.5151515151515151, 2044: 0.6071428571428571, 2045: 0, 2046: 0, 2047: 0.5714285714285714, 2048: 0.3333333333333333, 2049: 1.0, 2050: 0.6, 2051: 0, 2052: 0.36779026217228467, 2053: 0, 2054: 0.6666666666666666, 2055: 0, 2056: 0.3333333333333333, 2057: 0, 2058: 1.0, 2059: 0.5454545454545454, 2060: 0, 2061: 0.6282051282051282, 2062: 0, 2063: 0.5947368421052631, 2064: 0, 2065: 0.717948717948718, 2066: 0.7, 2067: 0.5454545454545454, 2068: 1.0, 2069: 0.4722222222222222, 2070: 1.0, 2071: 0, 2072: 0.8, 2073: 0.42857142857142855, 2074: 0.5333333333333333, 2075: 0, 2076: 0.696969696969697, 2077: 0.65, 2078: 0, 2079: 0.6428571428571429, 2080: 1.0, 2081: 0, 2082: 0.5333333333333333, 2083: 0.4666666666666667, 2084: 1.0, 2085: 0.42857142857142855, 2086: 0.4901185770750988, 2087: 0.42857142857142855, 2088: 0.34545454545454546, 2089: 0.30434782608695654, 2090: 0.6666666666666666, 2091: 0.6, 2092: 0.8602941176470589, 2093: 0.47619047619047616, 2094: 0, 2095: 1.0, 2096: 0.367816091954023, 2097: 0.5333333333333333, 2098: 0.6666666666666666, 2099: 1.0, 2100: 0.5357142857142857, 2101: 0.8333333333333334, 2102: 0, 2103: 0.3, 2104: 1.0, 2105: 0, 2106: 0, 2107: 0, 2108: 0, 2109: 1.0, 2110: 0.6666666666666666, 2111: 1.0, 2112: 0.6052631578947368, 2113: 0.9, 2114: 0.580952380952381, 2115: 0.9, 2116: 0.7142857142857143, 2117: 0.8583333333333333, 2118: 1.0, 2119: 0.8105263157894737, 2120: 0.9714285714285714, 2121: 0.36363636363636365, 2122: 0.5454545454545454, 2123: 0.38095238095238093, 2124: 0.3, 2125: 0.6, 2126: 0.5904761904761905, 2127: 0.6405228758169934, 2128: 0.5, 2129: 0.8666666666666667, 2130: 0.8214285714285714, 2131: 0.7, 2132: 0.5, 2133: 0.4666666666666667, 2134: 0, 2135: 0.8666666666666667, 2136: 0.5, 2137: 0.8666666666666667, 2138: 0.8666666666666667, 2139: 0.5, 2140: 0.8666666666666667, 2141: 0.25, 2142: 0.5714285714285714, 2143: 0.9523809523809523, 2144: 0.8, 2145: 0.584045584045584, 2146: 0.45849802371541504, 2147: 0, 2148: 1.0, 2149: 0, 2150: 0, 2151: 0.6111111111111112, 2152: 0.5, 2153: 0, 2154: 0.8, 2155: 0.5, 2156: 0, 2157: 0, 2158: 0, 2159: 0.44126984126984126, 2160: 0.5, 2161: 0.3333333333333333, 2162: 0.8, 2163: 0, 2164: 1.0, 2165: 0.6, 2166: 0.47619047619047616, 2167: 0.7333333333333333, 2168: 0.7748917748917749, 2169: 0, 2170: 0.9285714285714286, 2171: 0, 2172: 0.3333333333333333, 2173: 1.0, 2174: 0.6894736842105263, 2175: 0, 2176: 1.0, 2177: 1.0, 2178: 1.0, 2179: 1.0, 2180: 0, 2181: 0.6666666666666666, 2182: 0.5185185185185185, 2183: 1.0, 2184: 0.8, 2185: 0.47619047619047616, 2186: 0.683982683982684, 2187: 0.673202614379085, 2188: 0.638095238095238, 2189: 1.0, 2190: 1.0, 2191: 0.3763440860215054, 2192: 0.3352272727272727, 2193: 0.42613636363636365, 2194: 0.5905797101449275, 2195: 0, 2196: 0.4939516129032258, 2197: 0.4, 2198: 0, 2199: 1.0, 2200: 1.0, 2201: 0.5238095238095238, 2202: 0.6071428571428571, 2203: 0.7777777777777778, 2204: 1.0, 2205: 1.0, 2206: 0.8833333333333333, 2207: 0.7666666666666667, 2208: 0.7333333333333333, 2209: 0.45, 2210: 1.0, 2211: 0, 2212: 0.8, 2213: 0, 2214: 1.0, 2215: 0, 2216: 0, 2217: 1.0, 2218: 1.0, 2219: 1.0, 2220: 1.0, 2221: 0.5606060606060606, 2222: 0.5606060606060606, 2223: 0.4327485380116959, 2224: 0.4642857142857143, 2225: 0.3790849673202614, 2226: 0, 2227: 0.6623376623376623, 2228: 0, 2229: 0.5, 2230: 0.3333333333333333, 2231: 0.75, 2232: 0.8333333333333334, 2233: 0.3763440860215054, 2234: 0.5714285714285714, 2235: 0, 2236: 1.0, 2237: 0.3055555555555556, 2238: 1.0, 2239: 0, 2240: 0.43137254901960786, 2241: 0.696969696969697, 2242: 0.7121212121212122, 2243: 0.7, 2244: 1.0, 2245: 0.6111111111111112, 2246: 0.696969696969697, 2247: 0, 2248: 0.3790849673202614, 2249: 0.42857142857142855, 2250: 0.5, 2251: 0.6190476190476191, 2252: 0.6190476190476191, 2253: 0.30434782608695654, 2254: 1.0, 2255: 0.44126984126984126, 2256: 0.5769230769230769, 2257: 0.4939516129032258, 2258: 0, 2259: 0, 2260: 0.4, 2261: 0.6666666666666666, 2262: 0, 2263: 0.5, 2264: 1.0, 2265: 0.6666666666666666, 2266: 1.0, 2267: 1.0, 2268: 0, 2269: 1.0, 2270: 1.0, 2271: 0.6666666666666666, 2272: 0, 2273: 0, 2274: 0.43386243386243384, 2275: 0, 2276: 1.0, 2277: 0.8666666666666667, 2278: 0.25, 2279: 0.7333333333333333, 2280: 0.7619047619047619, 2281: 0.3333333333333333, 2282: 1.0, 2283: 0.43386243386243384, 2284: 0.7121212121212122, 2285: 0.5559246954595792, 2286: 0.5384615384615384, 2287: 0.7142857142857143, 2288: 0.5636363636363636, 2289: 0.780952380952381, 2290: 0, 2291: 0.9, 2292: 0, 2293: 0.6666666666666666, 2294: 1.0, 2295: 1.0, 2296: 1.0, 2297: 0.6, 2298: 0, 2299: 0, 2300: 0.2991118077324974, 2301: 0.391156462585034, 2302: 1.0, 2303: 1.0, 2304: 0.6666666666666666, 2305: 0, 2306: 1.0, 2307: 0.7, 2308: 0, 2309: 0.2222222222222222, 2310: 0, 2311: 1.0, 2312: 1.0, 2313: 0.44761904761904764, 2314: 0.43636363636363634, 2315: 0.8095238095238095, 2316: 0, 2317: 0, 2318: 0, 2319: 0, 2320: 0, 2321: 0.6666666666666666, 2322: 0, 2323: 0.3790849673202614, 2324: 0.6071428571428571, 2325: 1.0, 2326: 0, 2327: 0, 2328: 0.9, 2329: 1.0, 2330: 0.9, 2331: 1.0, 2332: 0.6, 2333: 0, 2334: 1.0, 2335: 0.5, 2336: 1.0, 2337: 0.5619047619047619, 2338: 1.0, 2339: 0, 2340: 0, 2341: 0, 2342: 0, 2343: 0, 2344: 0, 2345: 0, 2346: 0.7333333333333333, 2347: 1.0, 2348: 0.3333333333333333, 2349: 0, 2350: 0.8, 2351: 1.0, 2352: 0.6373626373626373, 2353: 0.3333333333333333, 2354: 0, 2355: 0.5, 2356: 0.3333333333333333, 2357: 0, 2358: 0, 2359: 0.3333333333333333, 2360: 0, 2361: 0, 2362: 1.0, 2363: 0.9545454545454546, 2364: 0.5504032258064516, 2365: 0.7157894736842105, 2366: 0.5238095238095238, 2367: 0, 2368: 1.0, 2369: 0.47368421052631576, 2370: 0.8235294117647058, 2371: 1.0, 2372: 0, 2373: 0, 2374: 0, 2375: 0.3333333333333333, 2376: 0.5504032258064516, 2377: 0, 2378: 0.7428571428571429, 2379: 0, 2380: 0.9333333333333333, 2381: 1.0, 2382: 0, 2383: 0, 2384: 1.0, 2385: 1.0, 2386: 0.3333333333333333, 2387: 1.0, 2388: 0.5333333333333333, 2389: 0, 2390: 0, 2391: 0, 2392: 0, 2393: 0, 2394: 0.5142857142857142, 2395: 0.4444444444444444, 2396: 1.0, 2397: 0, 2398: 0.6190476190476191, 2399: 1.0, 2400: 0.35658914728682173, 2401: 0, 2402: 0.6373626373626373, 2403: 1.0, 2404: 0.3111111111111111, 2405: 0, 2406: 0.5, 2407: 0.46153846153846156, 2408: 0.6794871794871795, 2409: 0, 2410: 0.1, 2411: 0.5777777777777777, 2412: 0.4666666666666667, 2413: 0.6666666666666666, 2414: 0.6944444444444444, 2415: 0, 2416: 0.3047619047619048, 2417: 0, 2418: 0, 2419: 0, 2420: 0.5714285714285714, 2421: 0, 2422: 0, 2423: 0, 2424: 0, 2425: 0, 2426: 0.5494505494505495, 2427: 0.6666666666666666, 2428: 0.75, 2429: 0, 2430: 0.2554112554112554, 2431: 0.358974358974359, 2432: 0.4642857142857143, 2433: 0.23076923076923078, 2434: 0.6025641025641025, 2435: 0.4222222222222222, 2436: 1.0, 2437: 0, 2438: 0.8095238095238095, 2439: 0, 2440: 0.26373626373626374, 2441: 0.20915032679738563, 2442: 0.475, 2443: 0.5, 2444: 0.3333333333333333, 2445: 1.0, 2446: 0.509090909090909, 2447: 0.2222222222222222, 2448: 0, 2449: 0, 2450: 0.5238095238095238, 2451: 0, 2452: 0.30303030303030304, 2453: 1.0, 2454: 0.8, 2455: 0, 2456: 0.4666666666666667, 2457: 0.5625, 2458: 0.7333333333333333, 2459: 0.5277777777777778, 2460: 0.3090909090909091, 2461: 0.39285714285714285, 2462: 0, 2463: 0, 2464: 0.42857142857142855, 2465: 1.0, 2466: 1.0, 2467: 0.5411255411255411, 2468: 0.6111111111111112, 2469: 0.5, 2470: 0.6190476190476191, 2471: 0.32142857142857145, 2472: 1.0, 2473: 0, 2474: 0.3333333333333333, 2475: 1.0, 2476: 0.48717948717948717, 2477: 1.0, 2478: 1.0, 2479: 0, 2480: 0, 2481: 0, 2482: 0, 2483: 0, 2484: 0, 2485: 0.6164021164021164, 2486: 0, 2487: 0.5, 2488: 0, 2489: 0, 2490: 0.27472527472527475, 2491: 0, 2492: 0.75, 2493: 0.7333333333333333, 2494: 0, 2495: 0, 2496: 0, 2497: 1.0, 2498: 1.0, 2499: 0.4857142857142857, 2500: 0.38181818181818183, 2501: 0.7, 2502: 0.6666666666666666, 2503: 0.5277777777777778, 2504: 0, 2505: 0.3333333333333333, 2506: 0, 2507: 0.5947368421052631, 2508: 0, 2509: 0, 2510: 0, 2511: 1.0, 2512: 0.7484848484848485, 2513: 0, 2514: 0, 2515: 0, 2516: 1.0, 2517: 0, 2518: 0.8571428571428571, 2519: 0.4642857142857143, 2520: 1.0, 2521: 1.0, 2522: 1.0, 2523: 0, 2524: 1.0, 2525: 0.5384615384615384, 2526: 0.6111111111111112, 2527: 0.6926406926406926, 2528: 0, 2529: 0, 2530: 0, 2531: 0.7142857142857143, 2532: 0.3333333333333333, 2533: 0, 2534: 0.6, 2535: 0.16666666666666666, 2536: 1.0, 2537: 0.4666666666666667, 2538: 0, 2539: 0.7333333333333333, 2540: 0.21818181818181817, 2541: 0.5282677521483492, 2542: 1.0, 2543: 0.7, 2544: 0.5, 2545: 0, 2546: 0.06666666666666667, 2547: 0.3333333333333333, 2548: 0, 2549: 0.6322751322751323, 2550: 0, 2551: 0.8666666666666667, 2552: 0.47435897435897434, 2553: 0, 2554: 0, 2555: 0, 2556: 0.6666666666666666, 2557: 0.19047619047619047, 2558: 0.8333333333333334, 2559: 0.6060606060606061, 2560: 0, 2561: 0.37362637362637363, 2562: 1.0, 2563: 0.8333333333333334, 2564: 0.6111111111111112, 2565: 0, 2566: 1.0, 2567: 1.0, 2568: 0.3333333333333333, 2569: 1.0, 2570: 0.5714285714285714, 2571: 1.0, 2572: 1.0, 2573: 0.6666666666666666, 2574: 0.6666666666666666, 2575: 0.3333333333333333, 2576: 0.6285714285714286, 2577: 0.525, 2578: 0.7090909090909091, 2579: 0.475, 2580: 0.7777777777777778, 2581: 0.3076923076923077, 2582: 0.8888888888888888, 2583: 0.26666666666666666, 2584: 0.45614035087719296, 2585: 0.41818181818181815, 2586: 0.6666666666666666, 2587: 0.6666666666666666, 2588: 0.6428571428571429, 2589: 0.39285714285714285, 2590: 0.19047619047619047, 2591: 0.3333333333333333, 2592: 1.0, 2593: 0.39285714285714285, 2594: 0.7307692307692307, 2595: 0.6666666666666666, 2596: 0.3333333333333333, 2597: 0.4444444444444444, 2598: 0.5103448275862069, 2599: 0.8, 2600: 0.6666666666666666, 2601: 0, 2602: 0.7, 2603: 0.24444444444444444, 2604: 0.6666666666666666, 2605: 1.0, 2606: 0.6, 2607: 0, 2608: 0.49523809523809526, 2609: 0.42105263157894735, 2610: 0.3738738738738739, 2611: 0.8333333333333334, 2612: 0, 2613: 0.47435897435897434, 2614: 0, 2615: 0, 2616: 1.0, 2617: 0.9523809523809523, 2618: 1.0, 2619: 1.0, 2620: 0, 2621: 0.4, 2622: 0.38596491228070173, 2623: 0.3055555555555556, 2624: 0.6666666666666666, 2625: 0.3333333333333333, 2626: 0.6666666666666666, 2627: 0.6666666666666666, 2628: 1.0, 2629: 0.7142857142857143, 2630: 0, 2631: 0, 2632: 0, 2633: 0, 2634: 0, 2635: 0.5, 2636: 0.43636363636363634, 2637: 1.0, 2638: 0, 2639: 0, 2640: 0, 2641: 0.8945868945868946, 2642: 0.7252543940795559, 2643: 0.8181818181818182, 2644: 0, 2645: 0.9444444444444444, 2646: 0, 2647: 1.0, 2648: 0, 2649: 0, 2650: 0, 2651: 0, 2652: 0, 2653: 0.7, 2654: 0, 2655: 0.4666666666666667, 2656: 1.0, 2657: 0.4393939393939394, 2658: 0.6666666666666666, 2659: 0, 2660: 0, 2661: 0.6666666666666666, 2662: 0.6666666666666666, 2663: 0.9316239316239316, 2664: 0.4642857142857143, 2665: 0, 2666: 0, 2667: 0, 2668: 0.6952380952380952, 2669: 0.3333333333333333, 2670: 0, 2671: 0.5111111111111111, 2672: 0, 2673: 0, 2674: 0.8, 2675: 0.3157894736842105, 2676: 1.0, 2677: 0, 2678: 0.5, 2679: 0.8, 2680: 0.7619047619047619, 2681: 1.0, 2682: 0, 2683: 0, 2684: 0.37142857142857144, 2685: 0, 2686: 0, 2687: 0, 2688: 0, 2689: 1.0, 2690: 0, 2691: 1.0, 2692: 0.8181818181818182, 2693: 0.5333333333333333, 2694: 0.3333333333333333, 2695: 0.509090909090909, 2696: 0, 2697: 0.5333333333333333, 2698: 0.5333333333333333, 2699: 0.6666666666666666, 2700: 1.0, 2701: 1.0, 2702: 0.5047619047619047, 2703: 0.6888888888888889, 2704: 1.0, 2705: 0.5142857142857142, 2706: 1.0, 2707: 0.5111111111111111, 2708: 0, 2709: 0, 2710: 0.5238095238095238, 2711: 0.39285714285714285, 2712: 0.3333333333333333, 2713: 0.6263736263736264, 2714: 0.4722222222222222, 2715: 1.0, 2716: 0, 2717: 0.6363636363636364, 2718: 1.0, 2719: 1.0, 2720: 0, 2721: 0, 2722: 0.5, 2723: 0.19047619047619047, 2724: 0, 2725: 0, 2726: 0, 2727: 0, 2728: 1.0, 2729: 0, 2730: 0, 2731: 0.5714285714285714, 2732: 0, 2733: 0.09523809523809523, 2734: 0, 2735: 0, 2736: 0, 2737: 0.19047619047619047, 2738: 0, 2739: 0.7142857142857143, 2740: 0, 2741: 0.6666666666666666, 2742: 0.7777777777777778, 2743: 0, 2744: 0, 2745: 0.8333333333333334, 2746: 0.6666666666666666, 2747: 0.7142857142857143, 2748: 0.7878787878787878, 2749: 0, 2750: 0, 2751: 0.9333333333333333, 2752: 0, 2753: 0, 2754: 1.0, 2755: 0.25, 2756: 0.5777777777777777, 2757: 0.7, 2758: 0.3241106719367589, 2759: 0, 2760: 0, 2761: 0, 2762: 0, 2763: 0, 2764: 0.3626373626373626, 2765: 0.6666666666666666, 2766: 0.47619047619047616, 2767: 0, 2768: 0.3333333333333333, 2769: 0.6, 2770: 0.5, 2771: 0, 2772: 0, 2773: 0.5, 2774: 0.23809523809523808, 2775: 0.5, 2776: 0.7454545454545455, 2777: 0, 2778: 1.0, 2779: 0.3157894736842105, 2780: 0.6666666666666666, 2781: 0.30303030303030304, 2782: 1.0, 2783: 0.631578947368421, 2784: 0, 2785: 0, 2786: 0.8333333333333334, 2787: 0, 2788: 0.7134502923976608, 2789: 0.6421052631578947, 2790: 1.0, 2791: 0.8088235294117647, 2792: 0.7647058823529411, 2793: 1.0, 2794: 1.0, 2795: 0, 2796: 0.8333333333333334, 2797: 0.6666666666666666, 2798: 0, 2799: 0.6, 2800: 1.0, 2801: 0.3333333333333333, 2802: 1.0, 2803: 1.0, 2804: 0, 2805: 0, 2806: 0, 2807: 0.8148148148148148, 2808: 0, 2809: 0.5238095238095238, 2810: 0.3333333333333333, 2811: 0, 2812: 0, 2813: 0, 2814: 1.0, 2815: 1.0, 2816: 0.8276515151515151, 2817: 1.0, 2818: 0, 2819: 0, 2820: 1.0, 2821: 0.6, 2822: 1.0, 2823: 0, 2824: 1.0, 2825: 0.3333333333333333, 2826: 1.0, 2827: 0, 2828: 0, 2829: 0.7362637362637363, 2830: 0, 2831: 0, 2832: 1.0, 2833: 0.8146167557932263, 2834: 1.0, 2835: 0, 2836: 1.0, 2837: 0, 2838: 0, 2839: 0, 2840: 0.6666666666666666, 2841: 0.47619047619047616, 2842: 0.5, 2843: 0.6666666666666666, 2844: 1.0, 2845: 0, 2846: 0, 2847: 1.0, 2848: 1.0, 2849: 0, 2850: 0, 2851: 1.0, 2852: 1.0, 2853: 0, 2854: 0, 2855: 0.6, 2856: 1.0, 2857: 0, 2858: 1.0, 2859: 1.0, 2860: 0, 2861: 0.5, 2862: 0, 2863: 0.3333333333333333, 2864: 0, 2865: 0.7142857142857143, 2866: 0, 2867: 0.3763440860215054, 2868: 0.6666666666666666, 2869: 0.4, 2870: 0.8187134502923976, 2871: 0, 2872: 0.8187134502923976, 2873: 0, 2874: 0, 2875: 0, 2876: 0.5, 2877: 0, 2878: 0, 2879: 0, 2880: 1.0, 2881: 0, 2882: 1.0, 2883: 1.0, 2884: 1.0, 2885: 0.8333333333333334, 2886: 0, 2887: 0, 2888: 0, 2889: 0, 2890: 0, 2891: 0, 2892: 1.0, 2893: 0.8333333333333334, 2894: 0, 2895: 1.0, 2896: 0, 2897: 0, 2898: 0, 2899: 1.0, 2900: 0, 2901: 0, 2902: 1.0, 2903: 1.0, 2904: 0, 2905: 0, 2906: 0, 2907: 0.3333333333333333, 2908: 1.0, 2909: 1.0, 2910: 0, 2911: 0.3333333333333333, 2912: 0.7719298245614035, 2913: 1.0, 2914: 0, 2915: 0.7366666666666667, 2916: 1.0, 2917: 0.3105263157894737, 2918: 0, 2919: 0.5151515151515151, 2920: 0.5, 2921: 0.3333333333333333, 2922: 0.2948717948717949, 2923: 0.7391304347826086, 2924: 0.6666666666666666, 2925: 0.4642857142857143, 2926: 0.7466666666666667, 2927: 0.6, 2928: 0.6003787878787878, 2929: 0.7142857142857143, 2930: 0.8245614035087719, 2931: 0, 2932: 1.0, 2933: 0.75, 2934: 0.6752688172043011, 2935: 0.7046153846153846, 2936: 0.4696969696969697, 2937: 0.6559139784946236, 2938: 1.0, 2939: 0.6666666666666666, 2940: 0.6174242424242424, 2941: 0, 2942: 0.47435897435897434, 2943: 0.6212121212121212, 2944: 0, 2945: 1.0, 2946: 0.5238095238095238, 2947: 0.7142857142857143, 2948: 1.0, 2949: 0.42857142857142855, 2950: 0.26666666666666666, 2951: 0.4857142857142857, 2952: 1.0, 2953: 1.0, 2954: 0.5612244897959183, 2955: 0, 2956: 0.5, 2957: 0, 2958: 0, 2959: 0, 2960: 0.5735294117647058, 2961: 1.0, 2962: 0, 2963: 0.638095238095238, 2964: 0.8333333333333334, 2965: 0, 2966: 1.0, 2967: 1.0, 2968: 0, 2969: 0, 2970: 1.0, 2971: 0.7142857142857143, 2972: 0.7142857142857143, 2973: 0, 2974: 0, 2975: 0.3333333333333333, 2976: 0.9642857142857143, 2977: 0.6666666666666666, 2978: 0.4230769230769231, 2979: 0, 2980: 0, 2981: 0.5606060606060606, 2982: 0.4444444444444444, 2983: 1.0, 2984: 0.5606060606060606, 2985: 1.0, 2986: 0.6785714285714286, 2987: 0.3333333333333333, 2988: 0.6920289855072463, 2989: 0.9, 2990: 0, 2991: 0.8, 2992: 0, 2993: 0, 2994: 0, 2995: 0, 2996: 1.0, 2997: 0, 2998: 0.3333333333333333, 2999: 0.47435897435897434, 3000: 0, 3001: 0.7142857142857143, 3002: 0, 3003: 0, 3004: 1.0, 3005: 0, 3006: 0, 3007: 0.3508771929824561, 3008: 0.7032967032967034, 3009: 0.4093567251461988, 3010: 0.5151515151515151, 3011: 0.2753623188405797, 3012: 0.5, 3013: 0, 3014: 0.4, 3015: 0.38562091503267976, 3016: 0.43636363636363634, 3017: 0.5303030303030303, 3018: 0.5824175824175825, 3019: 0.7, 3020: 0, 3021: 1.0, 3022: 0, 3023: 0.8333333333333334, 3024: 0.7142857142857143, 3025: 0, 3026: 1.0, 3027: 1.0, 3028: 1.0, 3029: 0.5, 3030: 1.0, 3031: 0, 3032: 1.0, 3033: 0.3333333333333333, 3034: 0, 3035: 0.2, 3036: 0, 3037: 0.8104575163398693, 3038: 0, 3039: 0.7238095238095238, 3040: 1.0, 3041: 0, 3042: 0, 3043: 0.8, 3044: 0, 3045: 1.0, 3046: 1.0, 3047: 0.4857142857142857, 3048: 0, 3049: 1.0, 3050: 0, 3051: 0.6190476190476191, 3052: 0, 3053: 0.6666666666666666, 3054: 0, 3055: 0.4, 3056: 0.3333333333333333, 3057: 0.6666666666666666, 3058: 0, 3059: 1.0, 3060: 0.6666666666666666, 3061: 0.42857142857142855, 3062: 0.23809523809523808, 3063: 0.4, 3064: 0, 3065: 0.6666666666666666, 3066: 0, 3067: 0.4, 3068: 0.8333333333333334, 3069: 0, 3070: 0.49523809523809526, 3071: 1.0, 3072: 0, 3073: 0.7142857142857143, 3074: 0, 3075: 0.4696969696969697, 3076: 1.0, 3077: 0.6190476190476191, 3078: 0.6666666666666666, 3079: 0.4, 3080: 0.6666666666666666, 3081: 1.0, 3082: 0, 3083: 0, 3084: 0.5, 3085: 0.6181818181818182, 3086: 0.8333333333333334, 3087: 0, 3088: 0, 3089: 0, 3090: 0, 3091: 0, 3092: 0, 3093: 0, 3094: 0, 3095: 0.8666666666666667, 3096: 1.0, 3097: 0.525, 3098: 0.6, 3099: 0.6666666666666666, 3100: 0.3333333333333333, 3101: 0.38095238095238093, 3102: 0.717948717948718, 3103: 0.8363636363636363, 3104: 0.47619047619047616, 3105: 0.3333333333333333, 3106: 0.5, 3107: 0.7878787878787878, 3108: 0.7878787878787878, 3109: 0.38095238095238093, 3110: 0.49507389162561577, 3111: 0.6666666666666666, 3112: 1.0, 3113: 0.6363636363636364, 3114: 0.9090909090909091, 3115: 0.7142857142857143, 3116: 0.6285714285714286, 3117: 0.7692307692307693, 3118: 0.7692307692307693, 3119: 0.7582417582417582, 3120: 0, 3121: 0, 3122: 0.4, 3123: 1.0, 3124: 0, 3125: 0.4166666666666667, 3126: 0.5714285714285714, 3127: 0.4, 3128: 0, 3129: 0.6666666666666666, 3130: 0.7878787878787878, 3131: 0.4642857142857143, 3132: 0, 3133: 0.375, 3134: 0, 3135: 0.5357142857142857, 3136: 0.16666666666666666, 3137: 0.5111111111111111, 3138: 0.7692307692307693, 3139: 0.6666666666666666, 3140: 0.6363636363636364, 3141: 0, 3142: 0.525, 3143: 1.0, 3144: 1.0, 3145: 0.39285714285714285, 3146: 0.8, 3147: 0, 3148: 1.0, 3149: 0.8455882352941176, 3150: 0.8455882352941176, 3151: 0.8455882352941176, 3152: 0, 3153: 1.0, 3154: 0, 3155: 0.6535947712418301, 3156: 0.34502923976608185, 3157: 1.0, 3158: 0, 3159: 0.6666666666666666, 3160: 0.6212121212121212, 3161: 0.6483516483516484, 3162: 1.0, 3163: 1.0, 3164: 0, 3165: 0.7, 3166: 0, 3167: 0.9285714285714286, 3168: 0.7582417582417582, 3169: 0.7582417582417582, 3170: 0.638095238095238, 3171: 0.7692307692307693, 3172: 0.45, 3173: 0.6666666666666666, 3174: 1.0, 3175: 0, 3176: 0.7843137254901961, 3177: 1.0, 3178: 0, 3179: 0.4666666666666667, 3180: 0, 3181: 0.6531531531531531, 3182: 0.7878787878787878, 3183: 0.49507389162561577, 3184: 0.9, 3185: 0, 3186: 1.0, 3187: 0, 3188: 0, 3189: 1.0, 3190: 0, 3191: 0, 3192: 0, 3193: 0.7555555555555555, 3194: 1.0, 3195: 0, 3196: 0, 3197: 1.0, 3198: 0.9523809523809523, 3199: 0.49507389162561577, 3200: 1.0, 3201: 1.0, 3202: 0, 3203: 1.0, 3204: 0, 3205: 0, 3206: 1.0, 3207: 1.0, 3208: 1.0, 3209: 1.0, 3210: 1.0, 3211: 1.0, 3212: 0.7142857142857143, 3213: 1.0, 3214: 0.9523809523809523, 3215: 1.0, 3216: 0.4, 3217: 0.9523809523809523, 3218: 0.9523809523809523, 3219: 0.6666666666666666, 3220: 0, 3221: 0.7555555555555555, 3222: 1.0, 3223: 0, 3224: 0.6, 3225: 0.6666666666666666, 3226: 0.3333333333333333, 3227: 1.0, 3228: 1.0, 3229: 0.6904761904761905, 3230: 0.7142857142857143, 3231: 0, 3232: 1.0, 3233: 0.3333333333333333, 3234: 0, 3235: 0.3333333333333333, 3236: 0, 3237: 0, 3238: 0, 3239: 0, 3240: 0, 3241: 0, 3242: 1.0, 3243: 1.0, 3244: 0.4722222222222222, 3245: 1.0, 3246: 0, 3247: 1.0, 3248: 0.42857142857142855, 3249: 0, 3250: 0, 3251: 0.5, 3252: 0.8, 3253: 0.2857142857142857, 3254: 0.8, 3255: 0.5, 3256: 1.0, 3257: 0.6666666666666666, 3258: 0, 3259: 0, 3260: 0.5, 3261: 0, 3262: 0, 3263: 0.7802197802197802, 3264: 1.0, 3265: 0, 3266: 0, 3267: 1.0, 3268: 0.16666666666666666, 3269: 0.38596491228070173, 3270: 0, 3271: 0.36666666666666664, 3272: 1.0, 3273: 0.5, 3274: 1.0, 3275: 0.6666666666666666, 3276: 0.48717948717948717, 3277: 0.4358974358974359, 3278: 0.5357142857142857, 3279: 0.44761904761904764, 3280: 0.9166666666666666, 3281: 0.3333333333333333, 3282: 0.5238095238095238, 3283: 0.8, 3284: 0.8, 3285: 1.0, 3286: 0, 3287: 0, 3288: 1.0, 3289: 0, 3290: 1.0, 3291: 0, 3292: 0, 3293: 0.3076923076923077, 3294: 0, 3295: 0.5238095238095238, 3296: 0, 3297: 0.5714285714285714, 3298: 0.5714285714285714, 3299: 0.5, 3300: 1.0, 3301: 1.0, 3302: 0.7333333333333333, 3303: 0.6, 3304: 0.6181818181818182, 3305: 0.6666666666666666, 3306: 0, 3307: 0.6666666666666666, 3308: 0.8666666666666667, 3309: 0.8602941176470589, 3310: 0.6666666666666666, 3311: 0.5, 3312: 1.0, 3313: 0.27635327635327633, 3314: 0.7, 3315: 0.5238095238095238, 3316: 0.7, 3317: 0.3142857142857143, 3318: 0.6263736263736264, 3319: 0.8, 3320: 0, 3321: 0.8666666666666667, 3322: 1.0, 3323: 1.0, 3324: 0.8455882352941176, 3325: 0, 3326: 0, 3327: 0, 3328: 0, 3329: 1.0, 3330: 0.5098039215686274, 3331: 0.8602941176470589, 3332: 0.8602941176470589, 3333: 0, 3334: 0.44871794871794873, 3335: 0.8, 3336: 0.2, 3337: 0.9166666666666666, 3338: 0.4666666666666667, 3339: 0.1, 3340: 1.0, 3341: 0, 3342: 0.8602941176470589, 3343: 0, 3344: 0, 3345: 0, 3346: 0.5751633986928104, 3347: 0.4380952380952381, 3348: 1.0, 3349: 0, 3350: 0.6666666666666666, 3351: 1.0, 3352: 0.3333333333333333, 3353: 0.6666666666666666, 3354: 0.5, 3355: 0.7, 3356: 0.6388888888888888, 3357: 0.30434782608695654, 3358: 0.4444444444444444, 3359: 0, 3360: 1.0, 3361: 0, 3362: 0.3333333333333333, 3363: 0.38461538461538464, 3364: 0.38461538461538464, 3365: 0, 3366: 0, 3367: 0, 3368: 0, 3369: 0.8620689655172413, 3370: 0.8571428571428571, 3371: 0.7470355731225297, 3372: 0.8367816091954023, 3373: 0.9, 3374: 0.7470355731225297, 3375: 0, 3376: 0.6666666666666666, 3377: 1.0, 3378: 1.0, 3379: 0, 3380: 1.0, 3381: 0, 3382: 1.0, 3383: 0.5748299319727891, 3384: 0.49853886616014026, 3385: 1.0, 3386: 1.0, 3387: 0.5555555555555556, 3388: 1.0, 3389: 0, 3390: 1.0, 3391: 0, 3392: 1.0, 3393: 0, 3394: 0.5, 3395: 0, 3396: 1.0, 3397: 0.8251231527093597, 3398: 0.46825396825396826, 3399: 0, 3400: 0.46756282875511396, 3401: 0.8793103448275862, 3402: 0.41144781144781145, 3403: 0.5858395989974937, 3404: 0.7047619047619048, 3405: 1.0, 3406: 0, 3407: 0.6666666666666666, 3408: 0.8333333333333334, 3409: 0, 3410: 0.3333333333333333, 3411: 0.660377358490566, 3412: 0.9, 3413: 0, 3414: 0.6961538461538461, 3415: 0.9960474308300395, 3416: 0, 3417: 1.0, 3418: 0, 3419: 0, 3420: 0.3788410886742757, 3421: 0.7090909090909091, 3422: 0.6, 3423: 0.46115288220551376, 3424: 0, 3425: 0, 3426: 1.0, 3427: 0, 3428: 0.43501006036217305, 3429: 0.8333333333333334, 3430: 0.8793103448275862, 3431: 0.7414141414141414, 3432: 0, 3433: 0.6885369532428356, 3434: 0, 3435: 1.0, 3436: 0, 3437: 0.6, 3438: 0, 3439: 0.7666666666666667, 3440: 0, 3441: 0, 3442: 0.5303030303030303, 3443: 0.8181818181818182, 3444: 0.5655913978494623, 3445: 1.0, 3446: 0, 3447: 0.5220588235294118, 3448: 0.6595365418894831, 3449: 0.375, 3450: 1.0, 3451: 0.4382513661202186, 3452: 0.7, 3453: 0.6666666666666666, 3454: 0.8333333333333334, 3455: 1.0, 3456: 1.0, 3457: 0, 3458: 0, 3459: 0, 3460: 0, 3461: 0, 3462: 0, 3463: 0, 3464: 0.7619047619047619, 3465: 0.4444444444444444, 3466: 0.5714285714285714, 3467: 1.0, 3468: 0.6571428571428571, 3469: 0.6052631578947368, 3470: 0.8235294117647058, 3471: 0.23809523809523808, 3472: 0.7666666666666667, 3473: 0.8628205128205129, 3474: 0.6748911465892597, 3475: 0.8192307692307692, 3476: 0.6631823461091754, 3477: 0.9126984126984127, 3478: 1.0, 3479: 1.0, 3480: 0, 3481: 0.49853886616014026, 3482: 1.0, 3483: 0.7666666666666667, 3484: 0, 3485: 0, 3486: 0.6111111111111112, 3487: 1.0, 3488: 0.3333333333333333, 3489: 0.9714285714285714, 3490: 0.5, 3491: 0.4, 3492: 0.36779026217228467, 3493: 0.38095238095238093, 3494: 0, 3495: 0.6666666666666666, 3496: 0, 3497: 0, 3498: 0, 3499: 0.7582417582417582, 3500: 0.4269005847953216, 3501: 0.5151515151515151, 3502: 1.0, 3503: 0.5757575757575758, 3504: 0.3333333333333333, 3505: 0.3352272727272727, 3506: 1.0, 3507: 0, 3508: 0.8583333333333333, 3509: 0.8583333333333333, 3510: 1.0, 3511: 0.7582417582417582, 3512: 0, 3513: 0.2967032967032967, 3514: 0.7142857142857143, 3515: 0.7142857142857143, 3516: 0.5163398692810458, 3517: 0.6, 3518: 0.4909090909090909, 3519: 0.4166666666666667, 3520: 0, 3521: 0.6442687747035574, 3522: 0.4124293785310734, 3523: 0, 3524: 0, 3525: 0.3333333333333333, 3526: 0.6666666666666666, 3527: 0.4678362573099415, 3528: 1.0, 3529: 0.3055555555555556, 3530: 0.3333333333333333, 3531: 0, 3532: 0.6531531531531531, 3533: 0.5367647058823529, 3534: 0.6666666666666666, 3535: 1.0, 3536: 0.6666666666666666, 3537: 0.2948717948717949, 3538: 0.5978260869565217, 3539: 1.0, 3540: 0.6071428571428571, 3541: 0.6666666666666666, 3542: 0.5862068965517241, 3543: 0.6666666666666666, 3544: 0.5241090146750524, 3545: 0.9047619047619048, 3546: 0.7142857142857143, 3547: 0, 3548: 0.34615384615384615, 3549: 0, 3550: 1.0, 3551: 0.3333333333333333, 3552: 0, 3553: 0.6, 3554: 0, 3555: 0, 3556: 0, 3557: 0.3976470588235294, 3558: 0.4416491963661775, 3559: 0.5357142857142857, 3560: 1.0, 3561: 0.5357142857142857, 3562: 0.7142857142857143, 3563: 0, 3564: 0.4166666666666667, 3565: 0.9, 3566: 0, 3567: 1.0, 3568: 0, 3569: 0.2932844932844933, 3570: 0.6666666666666666, 3571: 0, 3572: 0.8, 3573: 0.401010101010101, 3574: 0.8333333333333334, 3575: 0.5, 3576: 0.4, 3577: 0, 3578: 0, 3579: 0, 3580: 0, 3581: 1.0, 3582: 0.30833333333333335, 3583: 0.5947712418300654, 3584: 0.7435897435897436, 3585: 0, 3586: 0.6666666666666666, 3587: 0.3333333333333333, 3588: 0, 3589: 1.0, 3590: 0.8666666666666667, 3591: 0, 3592: 1.0, 3593: 1.0, 3594: 1.0, 3595: 0, 3596: 0, 3597: 0.5, 3598: 1.0, 3599: 0.5, 3600: 0.6666666666666666, 3601: 0.4, 3602: 1.0, 3603: 0.47619047619047616, 3604: 0.5238095238095238, 3605: 0.3, 3606: 1.0, 3607: 0.4, 3608: 0.6666666666666666, 3609: 1.0, 3610: 0.5238095238095238, 3611: 0, 3612: 0, 3613: 1.0, 3614: 1.0, 3615: 0.978021978021978, 3616: 0.9083333333333333, 3617: 1.0, 3618: 0.9083333333333333, 3619: 0.9083333333333333, 3620: 0.9083333333333333, 3621: 0.9083333333333333, 3622: 0.9428571428571428, 3623: 0.9083333333333333, 3624: 0.9083333333333333, 3625: 1.0, 3626: 0.9083333333333333, 3627: 0.978021978021978, 3628: 0.9083333333333333, 3629: 0.6909090909090909, 3630: 0, 3631: 0, 3632: 0.3, 3633: 0.30296495956873315, 3634: 0, 3635: 0.3333333333333333, 3636: 0.5, 3637: 0, 3638: 0.4, 3639: 0.3516483516483517, 3640: 0.4950213371266003, 3641: 0.7912087912087912, 3642: 0, 3643: 0.49411764705882355, 3644: 0.16666666666666666, 3645: 0.7479838709677419, 3646: 0.6666666666666666, 3647: 0.5, 3648: 0.6029411764705882, 3649: 0.6364477335800185, 3650: 0.14285714285714285, 3651: 0.4666666666666667, 3652: 0.7, 3653: 0.43283582089552236, 3654: 0.5201612903225806, 3655: 0.759469696969697, 3656: 0.8, 3657: 0.8021978021978022, 3658: 0, 3659: 0.6993464052287581, 3660: 0.6, 3661: 0.6666666666666666, 3662: 0.47619047619047616, 3663: 0.1, 3664: 0.39285714285714285, 3665: 1.0, 3666: 0.5403225806451613, 3667: 0.45454545454545453, 3668: 0, 3669: 0.5106382978723404, 3670: 0.819047619047619, 3671: 0.4996078431372549, 3672: 0.7912087912087912, 3673: 0, 3674: 0, 3675: 0, 3676: 0, 3677: 0, 3678: 0.8333333333333334, 3679: 0.4642857142857143, 3680: 0.36779026217228467, 3681: 0, 3682: 0, 3683: 1.0, 3684: 0, 3685: 0, 3686: 0, 3687: 0.6, 3688: 0.8333333333333334, 3689: 0.3333333333333333, 3690: 1.0, 3691: 1.0, 3692: 0.3333333333333333, 3693: 0.6050420168067226, 3694: 0.4090909090909091, 3695: 0.44343617664851787, 3696: 0.5303030303030303, 3697: 0.47368421052631576, 3698: 0.5707070707070707, 3699: 0.4083333333333333, 3700: 0.79, 3701: 0.5362731152204836, 3702: 0.4523809523809524, 3703: 0.7297895902547066, 3704: 0.48295454545454547, 3705: 0.5566502463054187, 3706: 0.8333333333333334, 3707: 0.8021978021978022, 3708: 0.4772727272727273, 3709: 0.4220408163265306, 3710: 0, 3711: 0.6043956043956044, 3712: 0, 3713: 0, 3714: 0, 3715: 0.3333333333333333, 3716: 0.525, 3717: 0, 3718: 0, 3719: 0, 3720: 0, 3721: 0, 3722: 0, 3723: 0.6666666666666666, 3724: 0.7387218045112782, 3725: 0, 3726: 0, 3727: 0, 3728: 0, 3729: 0, 3730: 0, 3731: 0.4889663182346109, 3732: 0, 3733: 0, 3734: 0, 3735: 1.0, 3736: 0, 3737: 0.7362637362637363, 3738: 0, 3739: 0.5, 3740: 0, 3741: 0.5886699507389163, 3742: 0, 3743: 0.4, 3744: 0.5106382978723404, 3745: 0, 3746: 0, 3747: 0.3333333333333333, 3748: 0, 3749: 0, 3750: 0, 3751: 0, 3752: 0, 3753: 0, 3754: 0, 3755: 0, 3756: 0.5333333333333333, 3757: 0, 3758: 0.594758064516129, 3759: 0.42609351432880843, 3760: 0.9444444444444444, 3761: 0.6666666666666666, 3762: 0.5, 3763: 0.5463414634146342, 3764: 1.0, 3765: 0.3333333333333333, 3766: 0.8939393939393939, 3767: 0.6081871345029239, 3768: 0.3670886075949367, 3769: 0.47058823529411764, 3770: 0, 3771: 0.5305832147937412, 3772: 0.8888888888888888, 3773: 0.9444444444444444, 3774: 0.401010101010101, 3775: 0.5621951219512196, 3776: 0, 3777: 0.5, 3778: 0.662083553675304, 3779: 1.0, 3780: 1.0, 3781: 0.4537205081669691, 3782: 0.79, 3783: 0.3670886075949367, 3784: 0.6279569892473118, 3785: 0, 3786: 0.5414141414141415, 3787: 0.6, 3788: 0.38192668371696503, 3789: 0.5238095238095238, 3790: 0, 3791: 0.3, 3792: 0.5359477124183006, 3793: 0.4666666666666667, 3794: 0, 3795: 0.4725274725274725, 3796: 0.5414141414141415, 3797: 1.0, 3798: 0.5204872646733112, 3799: 0.8, 3800: 0.5641025641025641, 3801: 0.9444444444444444, 3802: 0.3333333333333333, 3803: 0.5080213903743316, 3804: 0.6533333333333333, 3805: 0.6368421052631579, 3806: 0.5833333333333334, 3807: 0.47439613526570046, 3808: 1.0, 3809: 1.0, 3810: 0.47439613526570046, 3811: 0.6190476190476191, 3812: 0.6323529411764706, 3813: 1.0, 3814: 0.3333333333333333, 3815: 0.6785714285714286, 3816: 0.5714285714285714, 3817: 0.45182724252491696, 3818: 0, 3819: 0.4945054945054945, 3820: 0, 3821: 0.48383838383838385, 3822: 1.0, 3823: 0.7121212121212122, 3824: 0.5655913978494623, 3825: 0, 3826: 0.8571428571428571, 3827: 0.6666666666666666, 3828: 1.0, 3829: 0, 3830: 1.0, 3831: 0, 3832: 0.6947368421052632, 3833: 0, 3834: 1.0, 3835: 0, 3836: 0.4634146341463415, 3837: 0.5238095238095238, 3838: 0.45725490196078433, 3839: 0.8290598290598291, 3840: 0.8, 3841: 1.0, 3842: 0.34782608695652173, 3843: 1.0, 3844: 0.8290598290598291, 3845: 0.4996078431372549, 3846: 0.8571428571428571, 3847: 0.47368421052631576, 3848: 1.0, 3849: 0.8095238095238095, 3850: 0.7090909090909091, 3851: 0, 3852: 0.4734042553191489, 3853: 0.7619047619047619, 3854: 0.6023391812865497, 3855: 0, 3856: 0.9, 3857: 0.5991902834008097, 3858: 0.8888888888888888, 3859: 0.513978494623656, 3860: 0.7272727272727273, 3861: 0, 3862: 0, 3863: 0.8290598290598291, 3864: 0.6666666666666666, 3865: 0.36538461538461536, 3866: 1.0, 3867: 0.5548387096774193, 3868: 0, 3869: 0, 3870: 0.7, 3871: 0.7016129032258065, 3872: 0.5897435897435898, 3873: 0.4242937853107345, 3874: 0.4016938898971567, 3875: 0.7666666666666667, 3876: 0.553623188405797, 3877: 0.7948717948717948, 3878: 1.0, 3879: 0, 3880: 0.6666666666666666, 3881: 0.514102564102564, 3882: 0.4996078431372549, 3883: 0.7526881720430108, 3884: 0.9005847953216374, 3885: 0, 3886: 0, 3887: 0, 3888: 0, 3889: 0.48095238095238096, 3890: 0, 3891: 0.5938461538461538, 3892: 0.7758620689655172, 3893: 0.6666666666666666, 3894: 0.8545454545454545, 3895: 1.0, 3896: 0.8366666666666667, 3897: 0.6666666666666666, 3898: 0, 3899: 0, 3900: 0.8666666666666667, 3901: 0, 3902: 0.3, 3903: 0, 3904: 0, 3905: 0, 3906: 0, 3907: 0.5714285714285714, 3908: 0.6190476190476191, 3909: 0, 3910: 1.0, 3911: 0.47953216374269003, 3912: 0, 3913: 0, 3914: 0, 3915: 0, 3916: 1.0, 3917: 0.9523809523809523, 3918: 0.3333333333333333, 3919: 1.0, 3920: 0.3725266362252664, 3921: 0, 3922: 0, 3923: 0.39343116701607267, 3924: 0.8952380952380953, 3925: 0.7056451612903226, 3926: 0.8952380952380953, 3927: 0, 3928: 0.9523809523809523, 3929: 0, 3930: 1.0, 3931: 1.0, 3932: 0.7485380116959064, 3933: 0.7485380116959064, 3934: 0.34545454545454546, 3935: 1.0, 3936: 0.2857142857142857, 3937: 0.3055555555555556, 3938: 1.0, 3939: 0.5158562367864693, 3940: 0.3333333333333333, 3941: 0.5151515151515151, 3942: 0.4033401967513155, 3943: 0.34397344228804905, 3944: 0, 3945: 0, 3946: 0.8646153846153846, 3947: 0, 3948: 0, 3949: 0.16666666666666666, 3950: 0.6666666666666666, 3951: 0, 3952: 0.3523809523809524, 3953: 0, 3954: 0, 3955: 1.0, 3956: 0.3333333333333333, 3957: 0, 3958: 0, 3959: 0, 3960: 0.2727272727272727, 3961: 0.3333333333333333, 3962: 0, 3963: 0.7655913978494624, 3964: 0, 3965: 0.8578947368421053, 3966: 0.34408602150537637, 3967: 0.8095238095238095, 3968: 0.14285714285714285, 3969: 0, 3970: 0.3704206241519674, 3971: 0.4744897959183674, 3972: 1.0, 3973: 0, 3974: 0.8095238095238095, 3975: 0, 3976: 0.6666666666666666, 3977: 0, 3978: 0.5, 3979: 0, 3980: 0.7857142857142857, 3981: 0.4505030834144758, 3982: 0, 3983: 0}\n"
          ]
        }
      ]
    },
    {
      "cell_type": "code",
      "source": [
        "print(nx.average_clustering(g))"
      ],
      "metadata": {
        "colab": {
          "base_uri": "https://localhost:8080/"
        },
        "id": "L1UNGhkDQrIF",
        "outputId": "300baa97-605e-4991-9696-0270ecfd57f3"
      },
      "execution_count": null,
      "outputs": [
        {
          "output_type": "stream",
          "name": "stdout",
          "text": [
            "0.4842323536989113\n"
          ]
        }
      ]
    },
    {
      "cell_type": "code",
      "source": [
        "print(nx.modularity_matrix(g))"
      ],
      "metadata": {
        "colab": {
          "base_uri": "https://localhost:8080/"
        },
        "id": "yd6k1R-IQtD_",
        "outputId": "1f0f59ab-65cc-43fc-e63d-e616e77a3a4f"
      },
      "execution_count": null,
      "outputs": [
        {
          "output_type": "stream",
          "name": "stdout",
          "text": [
            "[[ 9.57734795e-01  9.89433699e-01 -7.68458281e-03 ... -7.68458281e-02\n",
            "  -1.92114570e-03 -1.92114570e-03]\n",
            " [ 9.89433699e-01  9.97358425e-01 -1.92114570e-03 ... -1.92114570e-02\n",
            "  -4.80286425e-04 -4.80286425e-04]\n",
            " [-7.68458281e-03 -1.92114570e-03  9.98602803e-01 ... -1.39719687e-02\n",
            "  -3.49299218e-04 -3.49299218e-04]\n",
            " ...\n",
            " [-7.68458281e-02 -1.92114570e-02 -1.39719687e-02 ...  8.60280313e-01\n",
            "  -3.49299218e-03 -3.49299218e-03]\n",
            " [-1.92114570e-03 -4.80286425e-04 -3.49299218e-04 ... -3.49299218e-03\n",
            "   9.99912675e-01  9.99912675e-01]\n",
            " [-1.92114570e-03 -4.80286425e-04 -3.49299218e-04 ... -3.49299218e-03\n",
            "   9.99912675e-01  9.99912675e-01]]\n"
          ]
        }
      ]
    },
    {
      "cell_type": "code",
      "source": [
        "print(nx.closeness_centrality(g))"
      ],
      "metadata": {
        "colab": {
          "base_uri": "https://localhost:8080/"
        },
        "id": "SckOW738QwPp",
        "outputId": "0e75774f-28fd-4cea-8c91-cccb56da608b"
      },
      "execution_count": null,
      "outputs": [
        {
          "output_type": "stream",
          "name": "stdout",
          "text": [
            "{0: 0.12544982843752614, 1: 0.11773316188940473, 2: 0.10903515239342, 3: 0.12205049023388072, 4: 0.11849979068078667, 5: 0.11513809449126079, 6: 0.0007532011046949536, 7: 0.0010042681395932714, 8: 0.11841895014348343, 9: 0.10918815086535154, 10: 0.12279433606868478, 11: 0.10261432012797148, 12: 0.10659383627464432, 13: 0.10691706215930163, 14: 0.10845347786486376, 15: 0.11178992935372141, 16: 0.10835453346462214, 17: 0.10153849504743612, 18: 0.1183940983176401, 19: 0.11939005946427281, 20: 0.0005706068974961769, 21: 0.09856693954460646, 22: 0.11367073916654344, 23: 0.12150503521075923, 24: 0.09491846193043746, 25: 0.0, 26: 0.1241181185817183, 27: 0.12149849318549617, 28: 0.11944061366295561, 29: 0.1090509599349645, 30: 0.10905623013407212, 31: 0.10495286330562394, 32: 0.10495286330562394, 33: 0.0973382010065229, 34: 0.11365928850278133, 35: 0.0, 36: 0.13926138693743645, 37: 0.12390684789886999, 38: 0.0, 39: 0.11583550710611469, 40: 0.10835453346462214, 41: 0.12150503521075923, 42: 0.11944061366295561, 43: 0.10545312930203375, 44: 0.09573186466715682, 45: 0.09573186466715682, 46: 0.11331114807603417, 47: 0.0008966679817797065, 48: 0.0008966679817797065, 49: 0.00041844505816386303, 50: 0.0, 51: 0.09823653797981022, 52: 0.09682448785438172, 53: 0.11894952896179539, 54: 0.10460743157492214, 55: 0.12520620950642072, 56: 0.10409112569464553, 57: 0.12771472714552154, 58: 0.12149849318549617, 59: 0.0, 60: 0.1231562251778759, 61: 0.1197257806628937, 62: 0.14433871779034285, 63: 0.00025106703489831785, 64: 0.1507711307499312, 65: 0.15071071354666535, 66: 0.10965506166160748, 67: 0.09026727124821875, 68: 0.0005021340697966357, 69: 0.0005021340697966357, 70: 0.1385176793281088, 71: 0.11076926732447577, 72: 0.0005021340697966357, 73: 0.0005021340697966357, 74: 0.0, 75: 0.00025106703489831785, 76: 0.07358850526444548, 77: 0.08774025094032506, 78: 0.0, 79: 0.11155230184063575, 80: 0.00033475604653109047, 81: 0.06671371807639973, 82: 0.06128378452920049, 83: 0.09573186466715682, 84: 0.09572374284950456, 85: 0.09475107129384533, 86: 0.1191882698956436, 87: 0.0999154976282586, 88: 0.12015929254175826, 89: 0.07319466474000066, 90: 0.0908158207475137, 91: 0.10319149048537682, 92: 0.08104408540203348, 93: 0.08104990711637887, 94: 0.11284650267211184, 95: 0.11783152388565715, 96: 0.10314903843919278, 97: 0.10659383627464432, 98: 0.11799171314688735, 99: 0.10200666820062473, 100: 0.08972174124027754, 101: 0.08104990711637887, 102: 0.08106155305460955, 103: 0.08332440417746918, 104: 0.08106446506211949, 105: 0.10264699390166578, 106: 0.00025106703489831785, 107: 0.00025106703489831785, 108: 0.09145625005812678, 109: 0.10362745747309977, 110: 0.0, 111: 0.10495286330562394, 112: 0.11750632753250471, 113: 0.08185546698832778, 114: 0.11929538559601502, 115: 0.11316908294554767, 116: 0.11841895014348343, 117: 0.11289731408516211, 118: 0.1242958696741515, 119: 0.12483909680981525, 120: 0.12265417512415591, 121: 0.0, 122: 0.1022053314884832, 123: 0.08999009068169646, 124: 0.07741839968211268, 125: 0.09887357113149982, 126: 0.10320092901921797, 127: 0.10730344811860297, 128: 0.09472720652901605, 129: 0.09311675802319964, 130: 0.0, 131: 0.10814681845750122, 132: 0.09203440246071293, 133: 0.09255533054157829, 134: 0.00025106703489831785, 135: 0.08539608378180588, 136: 0.10394728057184671, 137: 0.1049089499736969, 138: 0.09699512202597123, 139: 0.11323154769101412, 140: 0.0, 141: 0.00025106703489831785, 142: 0.0, 143: 0.12734715089922236, 144: 0.11811523234410994, 145: 0.1206281880544299, 146: 0.0007688927943760984, 147: 0.10090285789367825, 148: 0.10561600271151458, 149: 0.12962212154254812, 150: 0.12390684789886999, 151: 0.0, 152: 0.10887207574343707, 153: 0.11934585963265391, 154: 0.0911128321530351, 155: 0.11066605433447209, 156: 0.11491528817712586, 157: 0.10466565463516792, 158: 0.1156929768743512, 159: 0.11830719901091645, 160: 0.08260758919113446, 161: 0.10256301763177077, 162: 0.11645721803861384, 163: 0.11392899045459788, 164: 0.09896463090668452, 165: 0.09340969922734582, 166: 0.0894195400988358, 167: 0.10145176073075667, 168: 0.0, 169: 0.00025106703489831785, 170: 0.00025106703489831785, 171: 0.11173457684364332, 172: 0.11061180892771043, 173: 0.10909313579570801, 174: 0.10923572049250753, 175: 0.08620841663868507, 176: 0.09576436572458921, 177: 0.1030642390470071, 178: 0.11419997540152936, 179: 0.11472832955077636, 180: 0.10439450008948095, 181: 0.0960129138379875, 182: 0.09278748001374261, 183: 0.09823653797981022, 184: 0.10202972889334992, 185: 0.10506036193185066, 186: 0.1177884702961802, 187: 0.10382293599881391, 188: 0.09328613120852502, 189: 0.09529927420643695, 190: 0.11815852518243902, 191: 0.06859357754070826, 192: 0.07546876405251397, 193: 0.08386945342801681, 194: 0.08716073827478642, 195: 0.10149282692876767, 196: 0.11964960307180383, 197: 0.1134706850673415, 198: 0.1053891048913796, 199: 0.10725244838090402, 200: 0.1085630479137025, 201: 0.11205638662897112, 202: 0.11860567191917483, 203: 0.12035154740982508, 204: 0.1047920272097251, 205: 0.11064977512671474, 206: 0.12851480801493367, 207: 0.11410758059942457, 208: 0.11550348128854074, 209: 0.0988172847229909, 210: 0.0988172847229909, 211: 0.11178992935372141, 212: 0.11946590682059507, 213: 0.0, 214: 0.14431102602380383, 215: 0.0834414847631349, 216: 0.12264084314859892, 217: 0.11893699014042167, 218: 0.12110725669158055, 219: 0.1063928106522499, 220: 0.10597311514671835, 221: 0.08442483871204387, 222: 0.12590478792245832, 223: 0.11016899448001857, 224: 0.10587367523384725, 225: 0.07791290660270761, 226: 0.10269370683235735, 227: 0.0834970589038045, 228: 0.10404793037321193, 229: 0.12069270545725092, 230: 0.09390335458092548, 231: 0.11516159805737282, 232: 0.00025106703489831785, 233: 0.00025106703489831785, 234: 0.00025106703489831785, 235: 0.10849519274648879, 236: 0.13000296773442913, 237: 0.119700377357003, 238: 0.11748185724355582, 239: 0.00025106703489831785, 240: 0.11411912177274301, 241: 0.00025106703489831785, 242: 0.11618739130543818, 243: 0.09934804587189487, 244: 0.10897196802850205, 245: 0.0874681776012334, 246: 0.12390684789886999, 247: 0.11956718666530071, 248: 0.11913163942214235, 249: 0.11451291555537503, 250: 0.09928248114453872, 251: 0.09696178034349764, 252: 0.0, 253: 0.1175797996005742, 254: 0.10175368687984039, 255: 0.09917339869623892, 256: 0.10611264525224398, 257: 0.11802874177175691, 258: 0.12170162409309786, 259: 0.09784890789758999, 260: 0.10947419172047837, 261: 0.11709171408957142, 262: 0.11209535114670013, 263: 0.0010042681395932714, 264: 0.10478229540927844, 265: 0.00025106703489831785, 266: 0.00025106703489831785, 267: 0.09856693954460646, 268: 0.12453595551513356, 269: 0.11414798492256666, 270: 0.12187251641468029, 271: 0.10287629422996217, 272: 0.09255533054157829, 273: 0.10080369489565891, 274: 0.11155230184063575, 275: 0.12584159680650348, 276: 0.11910020129488681, 277: 0.11672830094838714, 278: 0.11545029744879876, 279: 0.00033475604653109047, 280: 0.00025106703489831785, 281: 0.11327133389891679, 282: 0.10699310198351052, 283: 0.0, 284: 0.1088983454268034, 285: 0.11978297754308724, 286: 0.11964960307180383, 287: 0.11929538559601502, 288: 0.1224611447297021, 289: 0.1211267586652829, 290: 0.10260965414397147, 291: 0.11964325931468217, 292: 0.11146964601532407, 293: 0.0799302746505462, 294: 0.09552114434194972, 295: 0.09183215374330446, 296: 0.08185546698832778, 297: 0.09661307162453313, 298: 0.09661307162453313, 299: 0.11803491546888903, 300: 0.10503591109356825, 301: 0.08185843631640079, 302: 0.11260998622357504, 303: 0.10454927325492125, 304: 0.09552114434194972, 305: 0.11410758059942457, 306: 0.0834970589038045, 307: 0.10262365336914912, 308: 0.08897529823886997, 309: 0.11066605433447209, 310: 0.09856693954460646, 311: 0.12419325888465715, 312: 0.13341560328332863, 313: 0.11191744849150526, 314: 0.08513190907813861, 315: 0.11822042717593359, 316: 0.10959115700714973, 317: 0.08185249787566544, 318: 0.1221099304076959, 319: 0.09784890789758999, 320: 0.10503591109356825, 321: 0.11171798177801971, 322: 0.11260998622357504, 323: 0.11229058090835092, 324: 0.09713708036391978, 325: 0.00025106703489831785, 326: 0.09084872635509562, 327: 0.10439450008948095, 328: 0.11175117684020305, 329: 0.10287629422996217, 330: 0.10287629422996217, 331: 0.08738350038468945, 332: 0.0, 333: 0.09923009163775649, 334: 0.0, 335: 0.12804082580198708, 336: 0.11306135146721881, 337: 0.11206195133009983, 338: 0.11905621578211567, 339: 0.09918211647038591, 340: 0.11422887947022121, 341: 0.11928277375696271, 342: 0.0, 343: 0.00033475604653109047, 344: 0.10038665038187732, 345: 0.08857715159107475, 346: 0.11209535114670013, 347: 0.11016899448001857, 348: 0.00025106703489831785, 349: 0.1187492245400316, 350: 0.10937337698401611, 351: 0.10979377774214083, 352: 0.08614259863850283, 353: 0.11550348128854074, 354: 0.09552114434194972, 355: 0.11335668427860654, 356: 0.10198822715060202, 357: 0.0, 358: 0.11175117684020305, 359: 0.10609767802596363, 360: 0.09988896082219557, 361: 0.11690972510279869, 362: 0.10849519274648879, 363: 0.10517298256591258, 364: 0.09940931779445905, 365: 0.10923043293161432, 366: 0.0005738675083390122, 367: 0.0, 368: 0.00025106703489831785, 369: 0.00025106703489831785, 370: 0.10659887164883652, 371: 0.0007532011046949536, 372: 0.0013390241861243619, 373: 0.10378950942572995, 374: 0.1102982312886368, 375: 0.10378950942572995, 376: 0.10824019157397449, 377: 0.09887357113149982, 378: 0.09887357113149982, 379: 0.09065893350746135, 380: 0.11681894258602372, 381: 0.10306894646634789, 382: 0.0005021340697966357, 383: 0.0005021340697966357, 384: 0.09688684530222921, 385: 0.08015741382261368, 386: 0.07596672324303048, 387: 0.00025106703489831785, 388: 0.0007532011046949536, 389: 0.00025106703489831785, 390: 0.0957156224098329, 391: 0.11916309415082749, 392: 0.0005021340697966357, 393: 0.0005738675083390122, 394: 0.0, 395: 0.0, 396: 0.0006695120930621809, 397: 0.0008034145116746172, 398: 0.0005021340697966357, 399: 0.09310907385435799, 400: 0.09883459679109234, 401: 0.07720121498235444, 402: 0.07340896271744374, 403: 0.10139705746727568, 404: 0.10085775962877538, 405: 0.12046719591790628, 406: 0.10088481374884747, 407: 0.11439101302449538, 408: 0.0007532011046949536, 409: 0.1177884702961802, 410: 0.12439865016175415, 411: 0.10621753419318523, 412: 0.0, 413: 0.0, 414: 0.0010042681395932714, 415: 0.0010042681395932714, 416: 0.0010042681395932714, 417: 0.0010042681395932714, 418: 0.0, 419: 0.00025106703489831785, 420: 0.00025106703489831785, 421: 0.08821702556427757, 422: 0.0, 423: 0.09529927420643695, 424: 0.08459574560203263, 425: 0.11316908294554767, 426: 0.10867283958267374, 427: 0.09753172468056448, 428: 0.10224237750596803, 429: 0.0, 430: 0.0983478541701556, 431: 0.105408796428168, 432: 0.07652575671236504, 433: 0.00025106703489831785, 434: 0.12037722788510725, 435: 0.0006474886689482933, 436: 0.0012302284710017572, 437: 0.00025106703489831785, 438: 0.00025106703489831785, 439: 0.0, 440: 0.00033475604653109047, 441: 0.10700832292935415, 442: 0.11511460051697293, 443: 0.11118953012733286, 444: 0.00025106703489831785, 445: 0.10342323268409277, 446: 0.09691181077664678, 447: 0.11457687301011527, 448: 0.11474583107567478, 449: 0.12490819849076831, 450: 0.0005021340697966357, 451: 0.12065398673657811, 452: 0.0, 453: 0.11737186694758248, 454: 0.0005021340697966357, 455: 0.10979911998512165, 456: 0.1084743312952084, 457: 0.0, 458: 0.10761559988240833, 459: 0.096357295953466, 460: 0.128588039998531, 461: 0.00025106703489831785, 462: 0.0, 463: 0.09985360033338735, 464: 0.10575459339836069, 465: 0.1115964350889778, 466: 0.0834970589038045, 467: 0.0, 468: 0.0, 469: 0.00025106703489831785, 470: 0.09311291578024429, 471: 0.10492358366737435, 472: 0.09620529987782318, 473: 0.11265496050792374, 474: 0.09617249888911611, 475: 0.12869070510032624, 476: 0.0, 477: 0.1122794066043497, 478: 0.0, 479: 0.11462925500021438, 480: 0.12299512257776314, 481: 0.11697032520911364, 482: 0.11305002324203298, 483: 0.11697032520911364, 484: 0.0005021340697966357, 485: 0.0, 486: 0.08651579626324504, 487: 0.11473416279917735, 488: 0.10301718849277426, 489: 0.0, 490: 0.0, 491: 0.10925158624711792, 492: 0.11469334251253978, 493: 0.10898775725352428, 494: 0.09663789619006553, 495: 0.0856099060637437, 496: 0.0965923942271304, 497: 0.098287883354424, 498: 0.0, 499: 0.09885624540825429, 500: 0.10494798223115152, 501: 0.0, 502: 0.11062807696510543, 503: 0.12110725669158055, 504: 0.12265417512415591, 505: 0.12419325888465715, 506: 0.10190992701685501, 507: 0.10269370683235735, 508: 0.11352777149138302, 509: 0.11759205387880252, 510: 0.11476333794101716, 511: 0.11173457684364332, 512: 0.00025106703489831785, 513: 0.00025106703489831785, 514: 0.0, 515: 0.11160195420050546, 516: 0.1128747255869458, 517: 0.11419997540152936, 518: 0.11192855086226974, 519: 0.11295947909767334, 520: 0.11550348128854074, 521: 0.0, 522: 0.11295947909767334, 523: 0.0, 524: 0.12419325888465715, 525: 0.0, 526: 0.12294821368280595, 527: 0.11138711258868753, 528: 0.11454779258549341, 529: 0.09917339869623892, 530: 0.11175117684020305, 531: 0.00025106703489831785, 532: 0.0950544024403631, 533: 0.09442200568786226, 534: 0.10224701014654373, 535: 0.09598840928726106, 536: 0.12453595551513356, 537: 0.12205049023388072, 538: 0.10946357089178851, 539: 0.10732386159679543, 540: 0.10694746511536589, 541: 0.1085630479137025, 542: 0.1100132368337666, 543: 0.10951138085675145, 544: 0.10108365498719854, 545: 0.11540896608879561, 546: 0.10557153281563604, 547: 0.10107912716390685, 548: 0.0, 549: 0.10933098420223936, 550: 0.00025106703489831785, 551: 0.1084586904707402, 552: 0.0006276675872457946, 553: 0.09744748948198043, 554: 0.10986326747488902, 555: 0.10966039041375354, 556: 0.10955923260349663, 557: 0.09471925427863585, 558: 0.09956722175848132, 559: 0.1039903923471991, 560: 0.08822737279329947, 561: 0.0005649008285212152, 562: 0.0, 563: 0.0, 564: 0.07897359536411494, 565: 0.0, 566: 0.1359064992733209, 567: 0.10730855076010368, 568: 0.10911423596219816, 569: 0.09451296339144834, 570: 0.09031062208085086, 571: 0.0006695120930621809, 572: 0.10556659402761136, 573: 0.11794854243854382, 574: 0.0006695120930621809, 575: 0.09548476765261373, 576: 0.09521884948454451, 577: 0.10966039041375354, 578: 0.10730855076010368, 579: 0.0, 580: 0.09576436572458921, 581: 0.11173457684364332, 582: 0.09969919209747373, 583: 0.09031062208085086, 584: 0.10934687764375735, 585: 0.0, 586: 0.09605378257073258, 587: 0.08496202989210166, 588: 0.1089772305951717, 589: 0.0, 590: 0.0010461126454096577, 591: 0.12117228770521507, 592: 0.0, 593: 0.10624253832082017, 594: 0.10593828993635136, 595: 0.12119831966991892, 596: 0.10551723155027684, 597: 0.0, 598: 0.1099971491072006, 599: 0.0, 600: 0.09471925427863585, 601: 0.09716635867784278, 602: 0.08606046733283325, 603: 0.09364615985119394, 604: 0.10218681854522575, 605: 0.0, 606: 0.11463507817801474, 607: 0.08067611147024491, 608: 0.09034316254040438, 609: 0.08067611147024491, 610: 0.08067611147024491, 611: 0.08067611147024491, 612: 0.11443161835366229, 613: 0.11172351291881474, 614: 0.11574638458833712, 615: 0.11076926732447577, 616: 0.1177884702961802, 617: 0.00025106703489831785, 618: 0.0007532011046949536, 619: 0.10729834596235178, 620: 0.00025106703489831785, 621: 0.12080901086429789, 622: 0.11393474270090984, 623: 0.10923572049250753, 624: 0.09255533054157829, 625: 0.11167927912175692, 626: 0.0799302746505462, 627: 0.00025106703489831785, 628: 0.11197853880181721, 629: 0.10244196086500003, 630: 0.0, 631: 0.0963161685916693, 632: 0.09975207823951111, 633: 0.0977344845568981, 634: 0.10411994250607763, 635: 0.11970672717278767, 636: 0.10752842437502241, 637: 0.12081547884860372, 638: 0.11860567191917483, 639: 0.11019589383407659, 640: 0.11827619445118824, 641: 0.11290296262241557, 642: 0.1005924982808461, 643: 0.09392680599101853, 644: 0.00025106703489831785, 645: 0.1039808088625113, 646: 0.0, 647: 0.0, 648: 0.0, 649: 0.0005021340697966357, 650: 0.0005021340697966357, 651: 0.0, 652: 0.0922149284432275, 653: 0.08279854384436121, 654: 0.0005021340697966357, 655: 0.10031970809701345, 656: 0.11495041077551935, 657: 0.0, 658: 0.08539608378180588, 659: 0.09147107879749576, 660: 0.10994891414608361, 661: 0.0009038413256339442, 662: 0.10417281478784139, 663: 0.09904281574500615, 664: 0.1047433862761892, 665: 0.10362745747309977, 666: 0.11757367341917471, 667: 0.0007845844840572432, 668: 0.12124390253246403, 669: 0.10227481480847628, 670: 0.10581906278706778, 671: 0.0, 672: 0.08620841663868507, 673: 0.1224279250181326, 674: 0.12218265818042234, 675: 0.08740719347461828, 676: 0.09035763249516379, 677: 0.09697011361498088, 678: 0.08740719347461828, 679: 0.0005021340697966357, 680: 0.12097091851260963, 681: 0.11334529679713799, 682: 0.10226091058749355, 683: 0.0, 684: 0.0, 685: 0.10858916866051779, 686: 0.0884209675927362, 687: 0.11588309525672574, 688: 0.14505312810530438, 689: 0.10196518521233656, 690: 0.11154127398221643, 691: 0.0908158207475137, 692: 0.0005021340697966357, 693: 0.10836494016203517, 694: 0.0950544024403631, 695: 0.07957512920284295, 696: 0.0884209675927362, 697: 0.10837534885862167, 698: 0.09690348752240392, 699: 0.12015929254175826, 700: 0.11571670755008566, 701: 0.0005021340697966357, 702: 0.09017709055044039, 703: 0.10187772071937791, 704: 0.10748744945861771, 705: 0.10743627470644736, 706: 0.09407560403277694, 707: 0.08362702023177515, 708: 0.09767103159341327, 709: 0.00033475604653109047, 710: 0.11452453887201687, 711: 0.1069221281181815, 712: 0.10362269889949122, 713: 0.10847954590588503, 714: 0.10005282938433184, 715: 0.10362269889949122, 716: 0.10918815086535154, 717: 0.11165717535547849, 718: 0.09144142612587002, 719: 0.11755529870463745, 720: 0.09364227379592581, 721: 0.09363061756500644, 722: 0.12185277358033482, 723: 0.1069221281181815, 724: 0.0, 725: 0.09656759303039286, 726: 0.0005021340697966357, 727: 0.0881618813070097, 728: 0.0, 729: 0.10434140259556203, 730: 0.11044398560758713, 731: 0.09936554442687012, 732: 0.0930284665842528, 733: 0.11110741082886363, 734: 0.09962876441210686, 735: 0.12274758017483792, 736: 0.09410306563528859, 737: 0.10735449638126643, 738: 0.1201209152525402, 739: 0.1181523385483125, 740: 0.11312936852329776, 741: 0.0, 742: 0.10437518565838207, 743: 0.09775565386996275, 744: 0.10826096305575804, 745: 0.10816236945473902, 746: 0.10839617225161977, 747: 0.0, 748: 0.09465171401930372, 749: 0.09401681167961921, 750: 0.12054441847939211, 751: 0.00025106703489831785, 752: 0.00025106703489831785, 753: 0.0, 754: 0.1043462274084075, 755: 0.0, 756: 0.10781612584492214, 757: 0.1084274223493283, 758: 0.08329364808556845, 759: 0.09365393292941358, 760: 0.08329364808556845, 761: 0.10567535421626957, 762: 0.10575954979304591, 763: 0.11063892498206611, 764: 0.09501037909705783, 765: 0.09814681254063241, 766: 0.0936383880631653, 767: 0.0, 768: 0.10918815086535154, 769: 0.10704385531683602, 770: 0.0, 771: 0.0, 772: 0.12366240212265564, 773: 0.12027457168394737, 774: 0.09087067667757501, 775: 0.12729686432753543, 776: 0.12500506946234327, 777: 0.12989819905216557, 778: 0.12500506946234327, 779: 0.13052935642840238, 780: 0.0, 781: 0.10730855076010368, 782: 0.11482757551059537, 783: 0.11704919933265316, 784: 0.13192584121217307, 785: 0.12530354344684438, 786: 0.12825915163886667, 787: 0.11037915838066036, 788: 0.0, 789: 0.00025106703489831785, 790: 0.00025106703489831785, 791: 0.10717094955994588, 792: 0.111381614705539, 793: 0.0, 794: 0.12671073692707172, 795: 0.0006695120930621809, 796: 0.0010042681395932714, 797: 0.07750881067301713, 798: 0.0, 799: 0.0008201523140011716, 800: 0.13488293568046744, 801: 0.10402394845960541, 802: 0.0011183895190925066, 803: 0.09833928243056698, 804: 0.10966039041375354, 805: 0.0007532011046949536, 806: 0.10457834432914173, 807: 0.0, 808: 0.12256756905840098, 809: 0.10214981277145536, 810: 0.11266620969265667, 811: 0.1243301109605631, 812: 0.11086722580005012, 813: 0.00025106703489831785, 814: 0.0973214091488429, 815: 0.08643295211943543, 816: 0.0, 817: 0.09602108480210292, 818: 0.09124177235703623, 819: 0.11165165078097176, 820: 0.11578795802423009, 821: 0.10197900912573302, 822: 0.10467050948254653, 823: 0.09802317509813736, 824: 0.12265417512415591, 825: 0.11821423405805544, 826: 0.11050347749543217, 827: 0.10923572049250753, 828: 0.11574638458833712, 829: 0.11458269086697576, 830: 0.0011955573090396087, 831: 0.00033475604653109047, 832: 0.11060638731174494, 833: 0.10616756122955635, 834: 0.10741070559922987, 835: 0.11906249743756768, 836: 0.09263131702041051, 837: 0.11368791948885185, 838: 0.0005021340697966357, 839: 0.0, 840: 0.11297078918319002, 841: 0.11059012565225289, 842: 0.11357919840619189, 843: 0.09642729313452784, 844: 0.0008034145116746172, 845: 0.0005738675083390122, 846: 0.12282106971829425, 847: 0.11853713893650368, 848: 0.12238808514666559, 849: 0.08640316705342192, 850: 0.10615257850852482, 851: 0.09759499671024222, 852: 0.0006695120930621809, 853: 0.10132421148283509, 854: 0.11643318270131676, 855: 0.00025106703489831785, 856: 0.09425242310309165, 857: 0.00025106703489831785, 858: 0.09869195337564927, 859: 0.10557153281563604, 860: 0.12037722788510725, 861: 0.10789345034349608, 862: 0.0, 863: 0.08248378952899409, 864: 0.10738003873110731, 865: 0.098709221553485, 866: 0.1049187053158927, 867: 0.12065398673657811, 868: 0.00025106703489831785, 869: 0.08067611147024491, 870: 0.00025106703489831785, 871: 0.00025106703489831785, 872: 0.10527602117724377, 873: 0.11775159225288147, 874: 0.0005021340697966357, 875: 0.0010042681395932714, 876: 0.0, 877: 0.0008216739323944947, 878: 0.0008216739323944947, 879: 0.10986326747488902, 880: 0.10302189161496624, 881: 0.00033475604653109047, 882: 0.10149282692876767, 883: 0.00025106703489831785, 884: 0.11039535805167165, 885: 0.10986326747488902, 886: 0.11495041077551935, 887: 0.12223560554326528, 888: 0.12266750999859863, 889: 0.06809473773904524, 890: 0.0, 891: 0.10281535966530984, 892: 0.09790409622691745, 893: 0.10879858801090693, 894: 0.10899302134535455, 895: 0.12187251641468029, 896: 0.09542016634674702, 897: 0.12092554064274263, 898: 0.12413177369130428, 899: 0.10754379802383933, 900: 0.09143031132993884, 901: 0.00025106703489831785, 902: 0.1286246872967522, 903: 0.10979911998512165, 904: 0.10989536933545438, 905: 0.00025106703489831785, 906: 0.11117857387467214, 907: 0.10859439431829743, 908: 0.10999178757721877, 909: 0.00025106703489831785, 910: 0.0007532011046949536, 911: 0.09704100429750667, 912: 0.0005021340697966357, 913: 0.09392680599101853, 914: 0.0, 915: 0.08808273211031736, 916: 0.0007532011046949536, 917: 0.0, 918: 0.09488254273784721, 919: 0.09576842990850996, 920: 0.08452919965291505, 921: 0.089518863612116, 922: 0.0006025608837559629, 923: 0.08629083071141526, 924: 0.09311675802319964, 925: 0.0906043328488806, 926: 0.09523090453807481, 927: 0.0, 928: 0.12405670774789557, 929: 0.09531940161925405, 930: 0.11118953012733286, 931: 0.10862053015327174, 932: 0.07594115813340806, 933: 0.08445959704821546, 934: 0.10836494016203517, 935: 0.09692013546081778, 936: 0.10931509538023643, 937: 0.0, 938: 0.0, 939: 0.0, 940: 0.08149481812691298, 941: 0.12208350540652566, 942: 0.11004542640857409, 943: 0.10885632001612254, 944: 0.09512251881862413, 945: 0.1124528586203329, 946: 0.08897529823886997, 947: 0.08325984259802312, 948: 0.07496981773867842, 949: 0.08268628903060424, 950: 0.09138587915337222, 951: 0.0004463413953747873, 952: 0.00025106703489831785, 953: 0.0, 954: 0.0, 955: 0.0, 956: 0.00025106703489831785, 957: 0.09692013546081778, 958: 0.0008034145116746172, 959: 0.10046709914670852, 960: 0.11362495034915511, 961: 0.11267183512753247, 962: 0.09504639516191646, 963: 0.0, 964: 0.11352777149138302, 965: 0.0005021340697966357, 966: 0.0005021340697966357, 967: 0.0005021340697966357, 968: 0.00025106703489831785, 969: 0.10305011936862819, 970: 0.08468781482902576, 971: 0.0008966679817797065, 972: 0.0, 973: 0.0, 974: 0.10114255362530682, 975: 0.08716410498413305, 976: 0.10911423596219816, 977: 0.13618536595861316, 978: 0.0911201903466271, 979: 0.09598432641149385, 980: 0.0, 981: 0.10405272808291698, 982: 0.0813244743381224, 983: 0.09893425901767812, 984: 0.10436070452454425, 985: 0.11499141428527417, 986: 0.11728646122319232, 987: 0.12211653844549057, 988: 0.0, 989: 0.0, 990: 0.0005021340697966357, 991: 0.0005021340697966357, 992: 0.0872045257925656, 993: 0.07340896271744374, 994: 0.1088458187311509, 995: 0.0, 996: 0.10585877534053667, 997: 0.09484266439432693, 998: 0.09835642740418517, 999: 0.10560611727509456, 1000: 0.1544341304362319, 1001: 0.14168340013400016, 1002: 0.12153121035837033, 1003: 0.0005021340697966357, 1004: 0.14283128767227168, 1005: 0.1141018108881135, 1006: 0.0009298779070308068, 1007: 0.13938181061977892, 1008: 0.15615469614104355, 1009: 0.13039359262303366, 1010: 0.14233578364666458, 1011: 0.12276761405441598, 1012: 0.12077668132809999, 1013: 0.1313958026047642, 1014: 0.12959234560008157, 1015: 0.11676454071893927, 1016: 0.0006276675872457946, 1017: 0.1256034461724491, 1018: 0.1342569915477285, 1019: 0.14086968686773335, 1020: 0.1396060080384942, 1021: 0.1506201784764531, 1022: 0.09606196049270872, 1023: 0.08304230197741298, 1024: 0.0005021340697966357, 1025: 0.15127649754871758, 1026: 0.12550564593627475, 1027: 0.10697281412345203, 1028: 0.0005021340697966357, 1029: 0.00025106703489831785, 1030: 0.12104878843118873, 1031: 0.10772348262049936, 1032: 0.14168340013400016, 1033: 0.15337398993639778, 1034: 0.10861530197989124, 1035: 0.11853091259240572, 1036: 0.118016396314744, 1037: 0.10727284245741682, 1038: 0.13942486956652583, 1039: 0.09109444186719766, 1040: 0.12149195186466138, 1041: 0.14168340013400016, 1042: 0.10339006294942824, 1043: 0.12498429875016452, 1044: 0.0005021340697966357, 1045: 0.12944367085035396, 1046: 0.11784383069268475, 1047: 0.1177761750487589, 1048: 0.11596646867435224, 1049: 0.0006276675872457946, 1050: 0.1313958026047642, 1051: 0.13573482790581776, 1052: 0.11784383069268475, 1053: 0.1442187968258593, 1054: 0.1442187968258593, 1055: 0.09485462437722658, 1056: 0.11891192042652791, 1057: 0.13621002679629507, 1058: 0.13028067166642923, 1059: 0.14789562943598245, 1060: 0.15683844272548098, 1061: 0.13404963252549723, 1062: 0.12254760040915719, 1063: 0.10810537098468047, 1064: 0.09453275999892004, 1065: 0.000698621314499667, 1066: 0.0, 1067: 0.12081547884860372, 1068: 0.00025106703489831785, 1069: 0.11579389952453924, 1070: 0.12053797948476151, 1071: 0.09074278244869795, 1072: 0.11430988875610254, 1073: 0.11759818197583095, 1074: 0.11840652292655161, 1075: 0.12308233412971639, 1076: 0.0007532011046949536, 1077: 0.0004519206628169721, 1078: 0.0005649008285212152, 1079: 0.08647932528298538, 1080: 0.13974433452651847, 1081: 0.0005649008285212152, 1082: 0.1199293959361299, 1083: 0.11634913709379843, 1084: 0.12974882209833374, 1085: 0.10917230352850607, 1086: 0.09529122562114017, 1087: 0.1128013753528728, 1088: 0.10185932625865399, 1089: 0.10504080035070616, 1090: 0.1138083273115907, 1091: 0.08270447183193037, 1092: 0.12128951969547005, 1093: 0.0834445702745339, 1094: 0.09643141378292468, 1095: 0.1402655093196308, 1096: 0.12160325019853535, 1097: 0.11534407656584647, 1098: 0.11669208366605753, 1099: 0.1074209317815119, 1100: 0.11591285771184612, 1101: 0.10678046249629586, 1102: 0.11563961842442454, 1103: 0.09544438159007826, 1104: 0.08470688866119445, 1105: 0.09921700289897205, 1106: 0.08969321173076117, 1107: 0.10951138085675145, 1108: 0.09561018193094739, 1109: 0.1055320354456447, 1110: 0.10234439266788609, 1111: 0.1060677562366261, 1112: 0.08870598348733127, 1113: 0.11151371387300951, 1114: 0.08870598348733127, 1115: 0.08870598348733127, 1116: 0.10195597135201827, 1117: 0.0, 1118: 0.0900224005239646, 1119: 0.09607832051493254, 1120: 0.09613972025963788, 1121: 0.08532182070229206, 1122: 0.00025106703489831785, 1123: 0.09936116921026024, 1124: 0.12665384261852278, 1125: 0.1344089292950277, 1126: 0.10652841967305011, 1127: 0.12129603923533758, 1128: 0.12424112282850963, 1129: 0.12781600192207423, 1130: 0.10633265073669873, 1131: 0.13865385646293213, 1132: 0.1245772062456785, 1133: 0.12625700855671798, 1134: 0.12146579362332975, 1135: 0.11160195420050546, 1136: 0.1215377559074821, 1137: 0.10704893329858729, 1138: 0.13400982920210347, 1139: 0.1373541611744002, 1140: 0.12472869300985077, 1141: 0.12221574490544954, 1142: 0.12654020714037012, 1143: 0.12723944256747788, 1144: 0.1328266239292613, 1145: 0.13838176942013983, 1146: 0.10925158624711792, 1147: 0.12051866662754862, 1148: 0.10920928780594397, 1149: 0.10901408279875462, 1150: 0.09602108480210292, 1151: 0.12451534039255202, 1152: 0.12079607697308604, 1153: 0.12174101823123762, 1154: 0.11903109578722547, 1155: 0.12284781501084546, 1156: 0.12454970272293962, 1157: 0.12477697063501356, 1158: 0.12649055571380158, 1159: 0.1252896293339748, 1160: 0.12254094563856749, 1161: 0.00025106703489831785, 1162: 0.12407034934760393, 1163: 0.1246942318579997, 1164: 0.12252763826541893, 1165: 0.12181988306706004, 1166: 0.11129372232857665, 1167: 0.12082194752552447, 1168: 0.10635770909809211, 1169: 0.10962842566722796, 1170: 0.1274334489459126, 1171: 0.11095990135881499, 1172: 0.1098204941568143, 1173: 0.11200076999872048, 1174: 0.10990072146954759, 1175: 0.11050888902714105, 1176: 0.0919556444145974, 1177: 0.0919556444145974, 1178: 0.0919556444145974, 1179: 0.09557373740774301, 1180: 0.10962842566722796, 1181: 0.09598432641149385, 1182: 0.1047239425438194, 1183: 0.1005521572914277, 1184: 0.0933247110808197, 1185: 0.10061492393143483, 1186: 0.10947950290773435, 1187: 0.08065016132717014, 1188: 0.08040876261168117, 1189: 0.10195597135201827, 1190: 0.10257700413356155, 1191: 0.09976530854300457, 1192: 0.09570750334779117, 1193: 0.10963907851201149, 1194: 0.1095326431382497, 1195: 0.00025106703489831785, 1196: 0.0005706068974961769, 1197: 0.12730404569187748, 1198: 0.10139250152472234, 1199: 0.09571156270663021, 1200: 0.1074209317815119, 1201: 0.0, 1202: 0.0836301194801994, 1203: 0.09706187422832037, 1204: 0.10549749948266575, 1205: 0.0, 1206: 0.0, 1207: 0.09760343918400606, 1208: 0.0005021340697966357, 1209: 0.10750281139222621, 1210: 0.1256034461724491, 1211: 0.10542849532490285, 1212: 0.1359064992733209, 1213: 0.12088019680384723, 1214: 0.11240804552598856, 1215: 0.0, 1216: 0.00025106703489831785, 1217: 0.0919556444145974, 1218: 0.10542849532490285, 1219: 0.12764248622287575, 1220: 0.14428334488070463, 1221: 0.10651333493506185, 1222: 0.10670472450984587, 1223: 0.10251642349328642, 1224: 0.11507937752737112, 1225: 0.10081270165896268, 1226: 0.15217422037455125, 1227: 0.10813645361003547, 1228: 0.0916568445952161, 1229: 0.1122794066043497, 1230: 0.10971370643398583, 1231: 0.11110741082886363, 1232: 0.10670977036620895, 1233: 0.11720726712378436, 1234: 0.11128823366051291, 1235: 0.11612162372944067, 1236: 0.11549165842336968, 1237: 0.11615150884981575, 1238: 0.10178581479180066, 1239: 0.11543258038437876, 1240: 0.12157704401348098, 1241: 0.10390420452777514, 1242: 0.10990607412498637, 1243: 0.108998285945719, 1244: 0.12203068970009844, 1245: 0.10815718529209263, 1246: 0.1097083724991113, 1247: 0.11546801995262858, 1248: 0.12212314719851827, 1249: 0.1158057843546249, 1250: 0.10886682332758686, 1251: 0.11575232182273508, 1252: 0.11578795802423009, 1253: 0.10690186716254775, 1254: 0.10772862528926434, 1255: 0.12252098566262463, 1256: 0.10681584369659285, 1257: 0.11575232182273508, 1258: 0.10841179504848523, 1259: 0.12474248280454507, 1260: 0.10657873300591415, 1261: 0.11613955295595577, 1262: 0.10648820319636734, 1263: 0.0, 1264: 0.10506525346560297, 1265: 0.09847660981602534, 1266: 0.08520905916754976, 1267: 0.00025106703489831785, 1268: 0.09607832051493254, 1269: 0.08742412497808076, 1270: 0.00025106703489831785, 1271: 0.10522202340456124, 1272: 0.0, 1273: 0.12215620169621719, 1274: 0.10176286421349359, 1275: 0.0767339334172409, 1276: 0.10897196802850205, 1277: 0.10918815086535154, 1278: 0.12215620169621719, 1279: 0.13542528439862092, 1280: 0.08342914499904688, 1281: 0.00025106703489831785, 1282: 0.11048183666752609, 1283: 0.13030324020869732, 1284: 0.0, 1285: 0.09529927420643695, 1286: 0.12231511268546914, 1287: 0.0899327081912251, 1288: 0.09424455036477698, 1289: 0.1426236578140703, 1290: 0.10522202340456124, 1291: 0.0, 1292: 0.1055320354456447, 1293: 0.10330486696274585, 1294: 0.09561018193094739, 1295: 0.0938252677200208, 1296: 0.09382916897855387, 1297: 0.10722696668729961, 1298: 0.11985932511468744, 1299: 0.14205801157911366, 1300: 0.100925422153684, 1301: 0.0, 1302: 0.10520240158201494, 1303: 0.08544135072258606, 1304: 0.0, 1305: 0.07573471318076992, 1306: 0.15070064872006278, 1307: 0.13858573444292946, 1308: 0.1505297521135495, 1309: 0.1362182490603779, 1310: 0.10142440172296374, 1311: 0.13685435829548306, 1312: 0.10196979276702306, 1313: 0.13434491361161044, 1314: 0.13101437029344057, 1315: 0.1211267586652829, 1316: 0.0, 1317: 0.09621760601774701, 1318: 0.11025511867563495, 1319: 0.10962842566722796, 1320: 0.12415226199021899, 1321: 0.0, 1322: 0.1505297521135495, 1323: 0.00033475604653109047, 1324: 0.09407952613750606, 1325: 0.0, 1326: 0.1268246790273827, 1327: 0.12556151312787783, 1328: 0.0, 1329: 0.13970107806192167, 1330: 0.14546454676298717, 1331: 0.0, 1332: 0.0, 1333: 0.12443980996659425, 1334: 0.00025106703489831785, 1335: 0.08625454911452565, 1336: 0.09699512202597123, 1337: 0.0005649008285212152, 1338: 0.12184619405692335, 1339: 0.15034922472744489, 1340: 0.10386116417058132, 1341: 0.0, 1342: 0.0, 1343: 0.11543258038437876, 1344: 0.00025106703489831785, 1345: 0.10701339754039078, 1346: 0.10510929777512788, 1347: 0.00025106703489831785, 1348: 0.00025106703489831785, 1349: 0.00025106703489831785, 1350: 0.0008201523140011716, 1351: 0.12517148402120148, 1352: 0.0, 1353: 0.00025106703489831785, 1354: 0.0, 1355: 0.10033308941061848, 1356: 0.09727106831907498, 1357: 0.0, 1358: 0.09676221062279579, 1359: 0.10506525346560297, 1360: 0.0933285708232028, 1361: 0.10423536948285005, 1362: 0.07962567092216727, 1363: 0.10512888487930214, 1364: 0.0, 1365: 0.1089772305951717, 1366: 0.1089772305951717, 1367: 0.1089772305951717, 1368: 0.09522688584775375, 1369: 0.10828174251123898, 1370: 0.12639136966137676, 1371: 0.11755529870463745, 1372: 0.11543258038437876, 1373: 0.08409762285000635, 1374: 0.08409762285000635, 1375: 0.10894040329893889, 1376: 0.0010251903925014645, 1377: 0.0010251903925014645, 1378: 0.00025106703489831785, 1379: 0.10827654689958352, 1380: 0.0, 1381: 0.0, 1382: 0.00033475604653109047, 1383: 0.0, 1384: 0.000723663806471622, 1385: 0.0005738675083390122, 1386: 0.08410702623683267, 1387: 0.0, 1388: 0.0, 1389: 0.0, 1390: 0.00025106703489831785, 1391: 0.09468348566836823, 1392: 0.0, 1393: 0.0005021340697966357, 1394: 0.0005021340697966357, 1395: 0.0005021340697966357, 1396: 0.09079755015226412, 1397: 0.0011183895190925066, 1398: 0.0005021340697966357, 1399: 0.00033475604653109047, 1400: 0.0013669205233352861, 1401: 0.13420110103682548, 1402: 0.13663063174704654, 1403: 0.12531050166227345, 1404: 0.11029284036824145, 1405: 0.12753427794360916, 1406: 0.11994852038134378, 1407: 0.1081675541143812, 1408: 0.0831095872839651, 1409: 0.117800768110995, 1410: 0.11225148057176643, 1411: 0.0, 1412: 0.14634186212284178, 1413: 0.12547075418038478, 1414: 0.1374378167936062, 1415: 0.10834412876580661, 1416: 0.11847490491595634, 1417: 0.10580913930389742, 1418: 0.09365393292941358, 1419: 0.11439101302449538, 1420: 0.0008966679817797065, 1421: 0.0918471046413863, 1422: 0.10874091720962897, 1423: 0.12035796650137182, 1424: 0.0006456009468813887, 1425: 0.0006456009468813887, 1426: 0.12036438627769472, 1427: 0.00025106703489831785, 1428: 0.00025106703489831785, 1429: 0.10727284245741682, 1430: 0.0006276675872457946, 1431: 0.00033475604653109047, 1432: 0.11510872852143544, 1433: 0.10621753419318523, 1434: 0.0011183895190925066, 1435: 0.0, 1436: 0.11448386758328956, 1437: 0.09657585868074213, 1438: 0.1334313809090717, 1439: 0.11964325931468217, 1440: 0.10808465915960438, 1441: 0.13464149844476256, 1442: 0.1029983802973308, 1443: 0.09620529987782318, 1444: 0.11644519912968782, 1445: 0.116946077629261, 1446: 0.12424796354664797, 1447: 0.112688714803207, 1448: 0.112688714803207, 1449: 0.12174101823123762, 1450: 0.08663869745581741, 1451: 0.11269434248572814, 1452: 0.07770364360504874, 1453: 0.1290070611670604, 1454: 0.12147887133582151, 1455: 0.11433305537489083, 1456: 0.12147887133582151, 1457: 0.12663252042279574, 1458: 0.10436553112266304, 1459: 0.1174329472280506, 1460: 0.11390598727647369, 1461: 0.1123576734681448, 1462: 0.12506742304130247, 1463: 0.10849519274648879, 1464: 0.09485462437722658, 1465: 0.10492846247252954, 1466: 0.1272322684897508, 1467: 0.13341560328332863, 1468: 0.10573477246435294, 1469: 0.1249496962311307, 1470: 0.00025106703489831785, 1471: 0.0005021340697966357, 1472: 0.0, 1473: 0.0013948168605462101, 1474: 0.11389448917045476, 1475: 0.10615757227897729, 1476: 0.00025106703489831785, 1477: 0.1203066329335299, 1478: 0.127968215602485, 1479: 0.12147233212758897, 1480: 0.13281098899030194, 1481: 0.09937429601612738, 1482: 0.11621132526183027, 1483: 0.12083488695765571, 1484: 0.09508243854271353, 1485: 0.12088667241304014, 1486: 0.00025106703489831785, 1487: 0.0, 1488: 0.09500637899689374, 1489: 0.08450387634564935, 1490: 0.10196979276702306, 1491: 0.11596646867435224, 1492: 0.10141984332288631, 1493: 0.1356450777791669, 1494: 0.00025106703489831785, 1495: 0.09862294103991175, 1496: 0.1177024574344993, 1497: 0.12073144903612543, 1498: 0.11683103877474607, 1499: 0.12302865085237272, 1500: 0.08326598700912219, 1501: 0.10688667648419006, 1502: 0.0936189642355717, 1503: 0.11414798492256666, 1504: 0.08154782863306664, 1505: 0.09784466521849805, 1506: 0.0005021340697966357, 1507: 0.0008034145116746172, 1508: 0.14634186212284178, 1509: 0.00025106703489831785, 1510: 0.12722509522096298, 1511: 0.09509445907855964, 1512: 0.0, 1513: 0.13663063174704654, 1514: 0.11810905024255314, 1515: 0.0, 1516: 0.09830501040880942, 1517: 0.12083488695765571, 1518: 0.0881618813070097, 1519: 0.06153613247345915, 1520: 0.13663063174704654, 1521: 0.13028067166642923, 1522: 0.13556358968726542, 1523: 0.11006689659224565, 1524: 0.09603334385625246, 1525: 0.12163602382137885, 1526: 0.10680573238991956, 1527: 0.10576450665233504, 1528: 0.1358983146000735, 1529: 0.0, 1530: 0.12402261686915197, 1531: 0.11615748771988575, 1532: 0.1284709088490874, 1533: 0.10302189161496624, 1534: 0.1177024574344993, 1535: 0.09854541743893709, 1536: 0.10376087520389095, 1537: 0.09392680599101853, 1538: 0.10309249001481202, 1539: 0.12073144903612543, 1540: 0.12663252042279574, 1541: 0.11490943649731238, 1542: 0.10700832292935415, 1543: 0.0961315290932189, 1544: 0.0010461126454096577, 1545: 0.0008966679817797065, 1546: 0.0007845844840572432, 1547: 0.09378627297012677, 1548: 0.08982531302978347, 1549: 0.09909065621280552, 1550: 0.00025106703489831785, 1551: 0.0867052760291332, 1552: 0.0006974084302731051, 1553: 0.07511705715303153, 1554: 0.0005021340697966357, 1555: 0.00025106703489831785, 1556: 0.0, 1557: 0.0008473512427818227, 1558: 0.09850670132417584, 1559: 0.08454186699888433, 1560: 0.0008473512427818227, 1561: 0.09091094649642335, 1562: 0.10371318659500967, 1563: 0.095206797482669, 1564: 0.11078558171408613, 1565: 0.10430282014949019, 1566: 0.09948382109660188, 1567: 0.12143311165765594, 1568: 0.10347065495594573, 1569: 0.10946357089178851, 1570: 0.00025106703489831785, 1571: 0.12090610340410524, 1572: 0.10815718529209263, 1573: 0.09025283021774269, 1574: 0.102544374894766, 1575: 0.00033475604653109047, 1576: 0.09288678331827696, 1577: 0.10651333493506185, 1578: 0.0, 1579: 0.06893934298518987, 1580: 0.11684918775550023, 1581: 0.07417386562581665, 1582: 0.11728036557009618, 1583: 0.11728036557009618, 1584: 0.09974325998648428, 1585: 0.10911951227921762, 1586: 0.10802774254077363, 1587: 0.0, 1588: 0.10859439431829743, 1589: 0.0, 1590: 0.1259821077453227, 1591: 0.0005021340697966357, 1592: 0.0013557619884509164, 1593: 0.001070338411934934, 1594: 0.00025106703489831785, 1595: 0.0913562816863374, 1596: 0.0013557619884509164, 1597: 0.07340896271744374, 1598: 0.0013557619884509164, 1599: 0.10126055705336418, 1600: 0.0, 1601: 0.09928684943392381, 1602: 0.09552114434194972, 1603: 0.10832852546369451, 1604: 0.0007532011046949536, 1605: 0.06817702993849423, 1606: 0.12205049023388072, 1607: 0.09218102589600573, 1608: 0.0, 1609: 0.10501147163359023, 1610: 0.00025106703489831785, 1611: 0.00025106703489831785, 1612: 0.0, 1613: 0.0962340191024871, 1614: 0.0005021340697966357, 1615: 0.0007532011046949536, 1616: 0.06475340795816868, 1617: 0.08662539400899118, 1618: 0.0014526021304831248, 1619: 0.07340896271744374, 1620: 0.07340896271744374, 1621: 0.09770063272001647, 1622: 0.10576450665233504, 1623: 0.0014526021304831248, 1624: 0.07340896271744374, 1625: 0.12049292577606902, 1626: 0.0, 1627: 0.128588039998531, 1628: 0.11530871302678694, 1629: 0.11364784014576049, 1630: 0.00025106703489831785, 1631: 0.0013948168605462101, 1632: 0.08481832414712348, 1633: 0.10341849284758114, 1634: 0.1064630833145037, 1635: 0.0933131337689377, 1636: 0.12302865085237272, 1637: 0.12151812137502532, 1638: 0.09906890481755291, 1639: 0.11191744849150526, 1640: 0.11640315247777881, 1641: 0.12128951969547005, 1642: 0.14235374173190893, 1643: 0.10859439431829743, 1644: 0.10184553477159454, 1645: 0.09850670132417584, 1646: 0.09707857663730782, 1647: 0.12919170515453257, 1648: 0.10339006294942824, 1649: 0.0, 1650: 0.00033475604653109047, 1651: 0.11602012925111672, 1652: 0.11602012925111672, 1653: 0.11602012925111672, 1654: 0.0, 1655: 0.0, 1656: 0.09052800232415535, 1657: 0.09696178034349764, 1658: 0.1220174929130648, 1659: 0.10887732866613047, 1660: 0.11335099025186962, 1661: 0.0, 1662: 0.00025106703489831785, 1663: 0.0015691689681144865, 1664: 0.0, 1665: 0.11872423391036041, 1666: 0.13101437029344057, 1667: 0.13361309218628814, 1668: 0.1277436464157498, 1669: 0.11847490491595634, 1670: 0.10158877746968985, 1671: 0.10918815086535154, 1672: 0.10186392425108204, 1673: 0.11164612675312786, 1674: 0.1259821077453227, 1675: 0.09785315094463468, 1676: 0.13544154095997962, 1677: 0.11270559953722008, 1678: 0.11628917876496883, 1679: 0.10721168348224157, 1680: 0.11481004904269755, 1681: 0.1077029168544397, 1682: 0.0, 1683: 0.00025106703489831785, 1684: 0.1031584692084215, 1685: 0.1135391956696463, 1686: 0.121760724865603, 1687: 0.1129368657191442, 1688: 0.11924495423452866, 1689: 0.00025106703489831785, 1690: 0.0, 1691: 0.00025106703489831785, 1692: 0.00025106703489831785, 1693: 0.10609767802596363, 1694: 0.06155963428360805, 1695: 0.00033475604653109047, 1696: 0.00033475604653109047, 1697: 0.08938058042279164, 1698: 0.0, 1699: 0.0, 1700: 0.1370122352115495, 1701: 0.10583395150240223, 1702: 0.13020549962115402, 1703: 0.0004463413953747873, 1704: 0.11821423405805544, 1705: 0.0, 1706: 0.11310668708005715, 1707: 0.10749769025982377, 1708: 0.11664382890179988, 1709: 0.11794854243854382, 1710: 0.11792388764288358, 1711: 0.11738407792000731, 1712: 0.103243423797146, 1713: 0.11664985856470511, 1714: 0.11516747544831174, 1715: 0.1141826399804797, 1716: 0.10913534429241285, 1717: 0.11861814097635724, 1718: 0.12147887133582151, 1719: 0.08701286010388758, 1720: 0.00025106703489831785, 1721: 0.0, 1722: 0.12138738644078646, 1723: 0.11707956386501091, 1724: 0.13285790485335416, 1725: 0.13032581657142478, 1726: 0.10632764048128071, 1727: 0.12088667241304014, 1728: 0.1202489349853043, 1729: 0.11955451729452823, 1730: 0.0, 1731: 0.0, 1732: 0.14037894332405723, 1733: 0.1040959273887914, 1734: 0.1076926369158261, 1735: 0.10647815382127214, 1736: 0.08448805698207422, 1737: 0.11898716129365781, 1738: 0.10338532615266507, 1739: 0.08409135509350552, 1740: 0.11337946610733157, 1741: 0.12268084777287269, 1742: 0.1231562251778759, 1743: 0.11906249743756768, 1744: 0.1259821077453227, 1745: 0.0008966679817797065, 1746: 0.10821942806129964, 1747: 0.08353105733608071, 1748: 0.09394635778244048, 1749: 0.07518964127463082, 1750: 0.07799908450915007, 1751: 0.11911277455445872, 1752: 0.11118953012733286, 1753: 0.12218927409217134, 1754: 0.10324814759947934, 1755: 0.0005021340697966357, 1756: 0.10974038389020184, 1757: 0.0005021340697966357, 1758: 0.0005021340697966357, 1759: 0.1191379290393443, 1760: 0.10980980603086231, 1761: 0.09578875600365992, 1762: 0.1137738990588999, 1763: 0.10286222599754857, 1764: 0.1147925279242151, 1765: 0.15028914511716418, 1766: 0.10991678100020556, 1767: 0.0005021340697966357, 1768: 0.13806849693674866, 1769: 0.00025106703489831785, 1770: 0.09509445907855964, 1771: 0.11983386511253892, 1772: 0.0004519206628169721, 1773: 0.09466362588867441, 1774: 0.0005021340697966357, 1775: 0.09463583618931518, 1776: 0.11793621375218043, 1777: 0.1113926110146224, 1778: 0.12032587788920872, 1779: 0.11769631846524907, 1780: 0.10198361792986942, 1781: 0.12800451040525385, 1782: 0.11713425974223828, 1783: 0.11417686267629125, 1784: 0.1161455305952041, 1785: 0.1161455305952041, 1786: 0.11729865443051359, 1787: 0.11646322842352501, 1788: 0.11894325922065256, 1789: 0.11642116875273283, 1790: 0.11624724469061509, 1791: 0.10289505786029912, 1792: 0.11603206056839882, 1793: 0.1288376542354679, 1794: 0.0, 1795: 0.12250768262400762, 1796: 0.10105196874005734, 1797: 0.12148541124814106, 1798: 0.06704074610618599, 1799: 0.11120596855579638, 1800: 0.00025106703489831785, 1801: 0.00025106703489831785, 1802: 0.11737797211621433, 1803: 0.11710386683623356, 1804: 0.11748797386027075, 1805: 0.12382525866627636, 1806: 0.11748185724355582, 1807: 0.11213991521811958, 1808: 0.00025106703489831785, 1809: 0.11640315247777881, 1810: 0.11646322842352501, 1811: 0.10245126277736404, 1812: 0.1060378513196852, 1813: 0.11957985872154206, 1814: 0.10734938936940298, 1815: 0.11832580955032354, 1816: 0.08553527078819727, 1817: 0.096497392086133, 1818: 0.11354490862102345, 1819: 0.11925755807706481, 1820: 0.10671986351072217, 1821: 0.09611515094702362, 1822: 0.11310668708005715, 1823: 0.09347935020440018, 1824: 0.09348322274883882, 1825: 0.10216368679528343, 1826: 0.09347935020440018, 1827: 0.1113211737918317, 1828: 0.09611515094702362, 1829: 0.10190532487058436, 1830: 0.09295182740594886, 1831: 0.10580417826023163, 1832: 0.10985791898808336, 1833: 0.00025106703489831785, 1834: 0.09837357835713066, 1835: 0.0, 1836: 0.08701286010388758, 1837: 0.10242801116309838, 1838: 0.11047642778489279, 1839: 0.07861866403979445, 1840: 0.0, 1841: 0.08778462280923599, 1842: 0.1171585854282862, 1843: 0.12151812137502532, 1844: 0.12126344854286746, 1845: 0.11727427055057793, 1846: 0.1182637971769939, 1847: 0.12102282065505848, 1848: 0.1370122352115495, 1849: 0.00025106703489831785, 1850: 0.11638514177802983, 1851: 0.11641516270812115, 1852: 0.116325146344359, 1853: 0.10204357031447141, 1854: 0.00025106703489831785, 1855: 0.08981816247151013, 1856: 0.10134241316451342, 1857: 0.1054777747935973, 1858: 0.0, 1859: 0.11692789854055757, 1860: 0.09062980496944538, 1861: 0.10146544577042357, 1862: 0.0894195400988358, 1863: 0.0894195400988358, 1864: 0.12148541124814106, 1865: 0.1218396152440052, 1866: 0.11594263545877925, 1867: 0.11690972510279869, 1868: 0.10461228102240139, 1869: 0.0, 1870: 0.0, 1871: 0.0, 1872: 0.11601416451258138, 1873: 0.1122291497455722, 1874: 0.00025106703489831785, 1875: 0.10822980882178515, 1876: 0.00025106703489831785, 1877: 0.0005021340697966357, 1878: 0.00025106703489831785, 1879: 0.11444322517163101, 1880: 0.09491846193043746, 1881: 0.09209449920149453, 1882: 0.12403625097203431, 1883: 0.0, 1884: 0.11352206026432339, 1885: 0.09464377443837689, 1886: 0.11067148180158021, 1887: 0.11390023793328388, 1888: 0.0, 1889: 0.08155077568335876, 1890: 0.00025106703489831785, 1891: 0.1008532520194065, 1892: 0.0, 1893: 0.001793335963559413, 1894: 0.0843901089728579, 1895: 0.12088667241304014, 1896: 0.0, 1897: 0.10416800599797905, 1898: 0.12091258178932757, 1899: 0.12045433510911821, 1900: 0.10690186716254775, 1901: 0.11547392866309591, 1902: 0.10707433043578743, 1903: 0.104201676853261, 1904: 0.10707433043578743, 1905: 0.10719640463323454, 1906: 0.08352487374372508, 1907: 0.11360778905171527, 1908: 0.11373949162974901, 1909: 0.11502658344042312, 1910: 0.11352206026432339, 1911: 0.11376816304180593, 1912: 0.1135163496118628, 1913: 0.11374522475599678, 1914: 0.11346497958237231, 1915: 0.11690972510279869, 1916: 0.12044790573441262, 1917: 0.11353348329312841, 1918: 0.12134169564629887, 1919: 0.00025106703489831785, 1920: 0.0, 1921: 0.11718900674772643, 1922: 0.11628318633073383, 1923: 0.09542420136731311, 1924: 0.1114421212866917, 1925: 0.11668001623237954, 1926: 0.10924629715018494, 1927: 0.0, 1928: 0.00025106703489831785, 1929: 0.00025106703489831785, 1930: 0.1171585854282862, 1931: 0.11668001623237954, 1932: 0.0, 1933: 0.0, 1934: 0.10154763360337596, 1935: 0.12544982843752614, 1936: 0.1288376542354679, 1937: 0.12236817493271626, 1938: 0.11815852518243902, 1939: 0.1123241171694485, 1940: 0.0, 1941: 0.1299281157262909, 1942: 0.0, 1943: 0.121760724865603, 1944: 0.1438510559019711, 1945: 0.09492245463064065, 1946: 0.09492245463064065, 1947: 0.11968767974616634, 1948: 0.12944367085035396, 1949: 0.10565061631790909, 1950: 0.1138083273115907, 1951: 0.10158877746968985, 1952: 0.1134706850673415, 1953: 0.11381980802654193, 1954: 0.09282183019761509, 1955: 0.10596813871491996, 1956: 0.1197893361256089, 1957: 0.11957985872154206, 1958: 0.11707348969827344, 1959: 0.11707348969827344, 1960: 0.12116578146124465, 1961: 0.11640315247777881, 1962: 0.11192299940155839, 1963: 0.09394244677299948, 1964: 0.09462789927178346, 1965: 0.00025106703489831785, 1966: 0.1163131546793578, 1967: 0.1163131546793578, 1968: 0.10263298830828309, 1969: 0.10906150084259922, 1970: 0.10558635195275222, 1971: 0.10231191122298787, 1972: 0.10926745661118634, 1973: 0.10106554612747315, 1974: 0.09953647893494863, 1975: 0.10184553477159454, 1976: 0.10946357089178851, 1977: 0.10958583498126555, 1978: 0.10452021833877817, 1979: 0.11386000877613504, 1980: 0.09570750334779117, 1981: 0.08491407390156991, 1982: 0.10723715791162004, 1983: 0.1004939440629802, 1984: 0.09889957110637772, 1985: 0.09387991487848818, 1986: 0.10295138984142618, 1987: 0.10959115700714973, 1988: 0.10178581479180066, 1989: 0.08663869745581741, 1990: 0.10839096565321199, 1991: 0.1044476516516649, 1992: 0.1116627004767292, 1993: 0.10954327737544758, 1994: 0.09727106831907498, 1995: 0.11296513385733982, 1996: 0.10557647206579117, 1997: 0.10675520455739523, 1998: 0.10362269889949122, 1999: 0.10424981585208447, 2000: 0.10469479047667349, 2001: 0.10378950942572995, 2002: 0.09570344433327199, 2003: 0.10378950942572995, 2004: 0.10513378279604083, 2005: 0.12776534446462576, 2006: 0.11112382498321861, 2007: 0.10315375360825656, 2008: 0.11291991162601184, 2009: 0.10900881667234533, 2010: 0.11823901042359028, 2011: 0.11621132526183027, 2012: 0.10720659004865886, 2013: 0.09657585868074213, 2014: 0.11401533518261016, 2015: 0.11883677465554901, 2016: 0.10317261859611469, 2017: 0.11233530037506076, 2018: 0.12327732935996832, 2019: 0.1102066572540643, 2020: 0.11125531301751321, 2021: 0.11156333187987445, 2022: 0.10880908018391534, 2023: 0.10480662830032142, 2024: 0.11691578228766492, 2025: 0.10503591109356825, 2026: 0.09458427001149386, 2027: 0.10697281412345203, 2028: 0.10409112569464553, 2029: 0.0, 2030: 0.0, 2031: 0.11233530037506076, 2032: 0.09967277005009807, 2033: 0.10711499093056535, 2034: 0.10520730635154181, 2035: 0.09937429601612738, 2036: 0.10962842566722796, 2037: 0.11081822491451261, 2038: 0.10402394845960541, 2039: 0.14017837706138778, 2040: 0.0, 2041: 0.0, 2042: 0.00025106703489831785, 2043: 0.12919170515453257, 2044: 0.10317261859611469, 2045: 0.10884056884841654, 2046: 0.00025106703489831785, 2047: 0.10371318659500967, 2048: 0.0007532011046949536, 2049: 0.0005649008285212152, 2050: 0.09866606243427135, 2051: 0.10825057631844097, 2052: 0.12479767248834313, 2053: 0.0, 2054: 0.09290207961853522, 2055: 0.00025106703489831785, 2056: 0.08695585965605258, 2057: 0.00025106703489831785, 2058: 0.10264232494583672, 2059: 0.13175637963065454, 2060: 0.0, 2061: 0.09745169778606928, 2062: 0.11213434277152755, 2063: 0.1286246872967522, 2064: 0.0, 2065: 0.11761044008621568, 2066: 0.11081822491451261, 2067: 0.10585380964134629, 2068: 0.0927226656504179, 2069: 0.11674037837217902, 2070: 0.10412955165586361, 2071: 0.00025106703489831785, 2072: 0.09671244648927357, 2073: 0.11883677465554901, 2074: 0.11328270652280223, 2075: 0.0, 2076: 0.11676454071893927, 2077: 0.11543258038437876, 2078: 0.10461228102240139, 2079: 0.11440261160629761, 2080: 0.09499837980694706, 2081: 0.08216842711773005, 2082: 0.10947419172047837, 2083: 0.10139250152472234, 2084: 0.09499837980694706, 2085: 0.12190543535920373, 2086: 0.12116578146124465, 2087: 0.11691578228766492, 2088: 0.11554488038577677, 2089: 0.11968767974616634, 2090: 0.10182715193060875, 2091: 0.11108553283126024, 2092: 0.11059012565225289, 2093: 0.1081675541143812, 2094: 0.0980316918169434, 2095: 0.10531532710758484, 2096: 0.1249496962311307, 2097: 0.11328270652280223, 2098: 0.07652835194947673, 2099: 0.10105196874005734, 2100: 0.111326665709631, 2101: 0.09282183019761509, 2102: 0.08025148525673817, 2103: 0.10599800431839075, 2104: 0.09558993154294153, 2105: 0.0, 2106: 0.0, 2107: 0.0005021340697966357, 2108: 0.08367663578812742, 2109: 0.09299779575249208, 2110: 0.11828239406301606, 2111: 0.09552114434194972, 2112: 0.11788076654308209, 2113: 0.10985791898808336, 2114: 0.1254289096734045, 2115: 0.10985791898808336, 2116: 0.11651734981846545, 2117: 0.11480420807561154, 2118: 0.10193754862602071, 2119: 0.11509111612863876, 2120: 0.11500313494721336, 2121: 0.10739536997592901, 2122: 0.10963375183084197, 2123: 0.11331114807603417, 2124: 0.09931306724470647, 2125: 0.09637375673432501, 2126: 0.1063978270514508, 2127: 0.10889309047600348, 2128: 0.09703265883790077, 2129: 0.0958090907287488, 2130: 0.08663869745581741, 2131: 0.0992737457188078, 2132: 0.09413839697693964, 2133: 0.09889090292888471, 2134: 0.0, 2135: 0.0958090907287488, 2136: 0.10358940111706852, 2137: 0.0958090907287488, 2138: 0.10249314229614483, 2139: 0.10348489011896819, 2140: 0.10249314229614483, 2141: 0.10947419172047837, 2142: 0.10941580265390906, 2143: 0.09665031325741907, 2144: 0.09850670132417584, 2145: 0.11621132526183027, 2146: 0.11626521273297029, 2147: 0.0005021340697966357, 2148: 0.08418546964873048, 2149: 0.0, 2150: 0.09082313104460357, 2151: 0.10824019157397449, 2152: 0.10815718529209263, 2153: 0.00025106703489831785, 2154: 0.10331432624916309, 2155: 0.09477494808627554, 2156: 0.0, 2157: 0.08326598700912219, 2158: 0.0, 2159: 0.12762804784425205, 2160: 0.11529103938763707, 2161: 0.09821515990312589, 2162: 0.09671244648927357, 2163: 0.0, 2164: 0.0005649008285212152, 2165: 0.10799155407418742, 2166: 0.11208421566255503, 2167: 0.10689173956393447, 2168: 0.10520730635154181, 2169: 0.0, 2170: 0.10158877746968985, 2171: 0.0, 2172: 0.0007532011046949536, 2173: 0.08270447183193037, 2174: 0.11191744849150526, 2175: 0.0, 2176: 0.0007532011046949536, 2177: 0.0007532011046949536, 2178: 0.0007532011046949536, 2179: 0.0007532011046949536, 2180: 0.0, 2181: 0.11788692476931463, 2182: 0.11296513385733982, 2183: 0.10127419055444845, 2184: 0.10716585999592632, 2185: 0.11208421566255503, 2186: 0.1111950090634779, 2187: 0.11129921153806266, 2188: 0.10546791521472333, 2189: 0.0005021340697966357, 2190: 0.10409112569464553, 2191: 0.1274910459849842, 2192: 0.13341560328332863, 2193: 0.11707956386501091, 2194: 0.11944693594824372, 2195: 0.0, 2196: 0.1157285765390133, 2197: 0.11237445913720534, 2198: 0.0005021340697966357, 2199: 0.0831095872839651, 2200: 0.09933929890536275, 2201: 0.10917230352850607, 2202: 0.1086100743097762, 2203: 0.10412955165586361, 2204: 0.10409112569464553, 2205: 0.09847231252985776, 2206: 0.11286907987466716, 2207: 0.11415953427096778, 2208: 0.09318597265998597, 2209: 0.1186805256092469, 2210: 0.09933929890536275, 2211: 0.0, 2212: 0.11402109615149414, 2213: 0.00025106703489831785, 2214: 0.10070023267143649, 2215: 0.00025106703489831785, 2216: 0.00025106703489831785, 2217: 0.09620529987782318, 2218: 0.0012553351744915891, 2219: 0.0012553351744915891, 2220: 0.10070023267143649, 2221: 0.10333798204580392, 2222: 0.10333798204580392, 2223: 0.1180966879806479, 2224: 0.1053841831566908, 2225: 0.1154266759045637, 2226: 0.09072454122680096, 2227: 0.11312936852329776, 2228: 0.09515861996855107, 2229: 0.09134149014103302, 2230: 0.08148893232465046, 2231: 0.11038455774270998, 2232: 0.10751817771746809, 2233: 0.1274910459849842, 2234: 0.10529075746240298, 2235: 0.11702491904445472, 2236: 0.0012553351744915891, 2237: 0.11048183666752609, 2238: 0.11757367341917471, 2239: 0.08754962226708905, 2240: 0.11764722975518586, 2241: 0.11676454071893927, 2242: 0.10900881667234533, 2243: 0.09485462437722658, 2244: 0.0842483298090058, 2245: 0.10549749948266575, 2246: 0.11462343241398996, 2247: 0.08439957788585932, 2248: 0.1154266759045637, 2249: 0.12179358343772778, 2250: 0.10363221648377591, 2251: 0.11252014529714387, 2252: 0.11252014529714387, 2253: 0.11968767974616634, 2254: 0.09889957110637772, 2255: 0.12762804784425205, 2256: 0.11182870875336838, 2257: 0.1157285765390133, 2258: 0.07589263179976527, 2259: 0.0, 2260: 0.11439101302449538, 2261: 0.11788692476931463, 2262: 0.0, 2263: 0.09569938566302885, 2264: 0.09322061857868469, 2265: 0.10378950942572995, 2266: 0.0012553351744915891, 2267: 0.10235367686915318, 2268: 0.0, 2269: 0.0005021340697966357, 2270: 0.08292633815721816, 2271: 0.07354773202314778, 2272: 0.06153613247345915, 2273: 0.0, 2274: 0.1156455447104095, 2275: 0.09064072597743494, 2276: 0.10702862426172549, 2277: 0.09884758482343599, 2278: 0.11672226317354886, 2279: 0.09318597265998597, 2280: 0.10431728522255086, 2281: 0.10807430622290329, 2282: 0.10257700413356155, 2283: 0.1156455447104095, 2284: 0.10900881667234533, 2285: 0.11867428419322747, 2286: 0.11062265375431249, 2287: 0.0964066951738463, 2288: 0.11680684890181792, 2289: 0.11270559953722008, 2290: 0.0, 2291: 0.10571495895878481, 2292: 0.0, 2293: 0.11788692476931463, 2294: 0.10120605973602818, 2295: 0.09917339869623892, 2296: 0.09367337127165713, 2297: 0.11108553283126024, 2298: 0.0, 2299: 0.0819059748805568, 2300: 0.1259188390120094, 2301: 0.12454970272293962, 2302: 0.0010042681395932714, 2303: 0.095246982691804, 2304: 0.09290207961853522, 2305: 0.0, 2306: 0.09328998776031337, 2307: 0.10441382167010088, 2308: 0.0, 2309: 0.10595321222341161, 2310: 0.0, 2311: 0.07720121498235444, 2312: 0.0005021340697966357, 2313: 0.14235374173190893, 2314: 0.12696739514624547, 2315: 0.11623526908077782, 2316: 0.00025106703489831785, 2317: 0.00025106703489831785, 2318: 0.0, 2319: 0.0007532011046949536, 2320: 0.0, 2321: 0.11696426237154514, 2322: 0.00025106703489831785, 2323: 0.12936204505470192, 2324: 0.10727284245741682, 2325: 0.08109359664837103, 2326: 0.10075868520870782, 2327: 0.0, 2328: 0.0013948168605462101, 2329: 0.09835642740418517, 2330: 0.0013948168605462101, 2331: 0.0012553351744915891, 2332: 0.001793335963559413, 2333: 0.0, 2334: 0.0010461126454096577, 2335: 0.0014768649111665756, 2336: 0.0010461126454096577, 2337: 0.11108553283126024, 2338: 0.10466565463516792, 2339: 0.00025106703489831785, 2340: 0.00025106703489831785, 2341: 0.10501635861570273, 2342: 0.0, 2343: 0.0883171505590474, 2344: 0.00025106703489831785, 2345: 0.09475902888780635, 2346: 0.10879858801090693, 2347: 0.0010461126454096577, 2348: 0.0011183895190925066, 2349: 0.0009463295930782748, 2350: 0.11579389952453924, 2351: 0.12375734967282112, 2352: 0.12523400377014376, 2353: 0.09190695694759175, 2354: 0.00025106703489831785, 2355: 0.09985360033338735, 2356: 0.0967041574430778, 2357: 0.07299341788562899, 2358: 0.06654256646420796, 2359: 0.0008034145116746172, 2360: 0.00025106703489831785, 2361: 0.0, 2362: 0.09962436598535254, 2363: 0.10923572049250753, 2364: 0.13536841715262268, 2365: 0.13446499308391255, 2366: 0.13658928115333335, 2367: 0.00025106703489831785, 2368: 0.09620529987782318, 2369: 0.12629233903818113, 2370: 0.12722509522096298, 2371: 0.09328998776031337, 2372: 0.00025106703489831785, 2373: 0.08190894787420037, 2374: 0.0963902231401572, 2375: 0.11054136935114238, 2376: 0.13536841715262268, 2377: 0.0, 2378: 0.13310083248402857, 2379: 0.00025106703489831785, 2380: 0.13134226843223445, 2381: 0.0005738675083390122, 2382: 0.09546860912697129, 2383: 0.0, 2384: 0.0005021340697966357, 2385: 0.1288891657490416, 2386: 0.11029284036824145, 2387: 0.09962436598535254, 2388: 0.12645511425801179, 2389: 0.0872045257925656, 2390: 0.00025106703489831785, 2391: 0.098627251483139, 2392: 0.10417762402170816, 2393: 0.0, 2394: 0.09750222580082182, 2395: 0.09632439125514237, 2396: 0.09062980496944538, 2397: 0.0005021340697966357, 2398: 0.09818951848987123, 2399: 0.09062980496944538, 2400: 0.12974882209833374, 2401: 0.0, 2402: 0.12523400377014376, 2403: 0.10738514865966596, 2404: 0.11809050782009631, 2405: 0.0, 2406: 0.10706417013494426, 2407: 0.11447225252037846, 2408: 0.12501199456729378, 2409: 0.00025106703489831785, 2410: 0.12086724766653564, 2411: 0.11824520613782333, 2412: 0.10581410081282099, 2413: 0.116946077629261, 2414: 0.12575744058929003, 2415: 0.0, 2416: 0.1258486149090525, 2417: 0.10992748996172157, 2418: 0.08268628903060424, 2419: 0.08202208178010398, 2420: 0.10279662508811135, 2421: 0.0, 2422: 0.0, 2423: 0.00025106703489831785, 2424: 0.12814989573139987, 2425: 0.00025106703489831785, 2426: 0.12771472714552154, 2427: 0.1221099304076959, 2428: 0.09937429601612738, 2429: 0.1053891048913796, 2430: 0.12176729516157028, 2431: 0.11027667076842206, 2432: 0.1088983454268034, 2433: 0.09821515990312589, 2434: 0.11983386511253892, 2435: 0.10711499093056535, 2436: 0.08418546964873048, 2437: 0.0, 2438: 0.11623526908077782, 2439: 0.00025106703489831785, 2440: 0.116325146344359, 2441: 0.13269384416877691, 2442: 0.1277870498858497, 2443: 0.12706748769267528, 2444: 0.1062625501005001, 2445: 0.0005021340697966357, 2446: 0.10875139826189013, 2447: 0.12254094563856749, 2448: 0.00033475604653109047, 2449: 0.10518278707626645, 2450: 0.09796785247608841, 2451: 0.09190321389322392, 2452: 0.11228499347834106, 2453: 0.09940931779445905, 2454: 0.10716585999592632, 2455: 0.0, 2456: 0.11989753540907606, 2457: 0.1362840629263329, 2458: 0.12995056227666113, 2459: 0.11924495423452866, 2460: 0.11931430835585155, 2461: 0.11348209775882424, 2462: 0.0, 2463: 0.10539402708580731, 2464: 0.10741070559922987, 2465: 0.09584978609073697, 2466: 0.10540387285413705, 2467: 0.11013135743944463, 2468: 0.12356760014972185, 2469: 0.09840789821351971, 2470: 0.10403833628096913, 2471: 0.11116761978098529, 2472: 0.1006598052428504, 2473: 0.0955777854271165, 2474: 0.0664680858301685, 2475: 0.061078100848108594, 2476: 0.10681584369659285, 2477: 0.09450900506488338, 2478: 0.061078100848108594, 2479: 0.00025106703489831785, 2480: 0.08408822156559176, 2481: 0.0, 2482: 0.0, 2483: 0.0, 2484: 0.0, 2485: 0.13502821409371832, 2486: 0.10681078780395797, 2487: 0.10069573913137975, 2488: 0.08628423178733684, 2489: 0.09558588249467216, 2490: 0.12490819849076831, 2491: 0.0, 2492: 0.08672860271087361, 2493: 0.10989001772263064, 2494: 0.0, 2495: 0.0, 2496: 0.0005706068974961769, 2497: 0.12980853163450418, 2498: 0.12980853163450418, 2499: 0.10950075281124905, 2500: 0.12474937884538782, 2501: 0.0992737457188078, 2502: 0.10801223022851907, 2503: 0.1245428287396777, 2504: 0.0953073241514643, 2505: 0.1098258390000594, 2506: 0.0, 2507: 0.1286246872967522, 2508: 0.0005706068974961769, 2509: 0.0, 2510: 0.0, 2511: 0.12260752588612989, 2512: 0.14480181685922872, 2513: 0.0, 2514: 0.0, 2515: 0.09163451286990255, 2516: 0.09744328154133433, 2517: 0.0, 2518: 0.12249438247390187, 2519: 0.11238005547481177, 2520: 0.0962340191024871, 2521: 0.10685124835144753, 2522: 0.10744138998877399, 2523: 0.0, 2524: 0.09523894293636449, 2525: 0.11593667868548194, 2526: 0.0866420239560077, 2527: 0.1338429130447343, 2528: 0.10409112569464553, 2529: 0.09124546172553558, 2530: 0.0, 2531: 0.11047642778489279, 2532: 0.10826096305575804, 2533: 0.0946596549324309, 2534: 0.09425242310309165, 2535: 0.10080819807613225, 2536: 0.08409762285000635, 2537: 0.10963375183084197, 2538: 0.0, 2539: 0.0015691689681144865, 2540: 0.1088195743807793, 2541: 0.12656859688901342, 2542: 0.0912491513924068, 2543: 0.11117857387467214, 2544: 0.10871472341543674, 2545: 0.09165312188514765, 2546: 0.1038277129812377, 2547: 0.10435587837283668, 2548: 0.10796572001024929, 2549: 0.11718900674772643, 2550: 0.09144883749125549, 2551: 0.11389448917045476, 2552: 0.12385244313579695, 2553: 0.0, 2554: 0.0, 2555: 0.0, 2556: 0.10744650575822401, 2557: 0.13519810160770598, 2558: 0.0011183895190925066, 2559: 0.1175675478761186, 2560: 0.09198188211528228, 2561: 0.10334744739794917, 2562: 0.0005649008285212152, 2563: 0.12379808612761796, 2564: 0.09998633142515045, 2565: 0.0, 2566: 0.0005021340697966357, 2567: 0.0912491513924068, 2568: 0.07367499800627576, 2569: 0.1016986576201821, 2570: 0.10941580265390906, 2571: 0.09552114434194972, 2572: 0.10558141177814159, 2573: 0.08148010521517314, 2574: 0.08148010521517314, 2575: 0.0913082266704791, 2576: 0.10417281478784139, 2577: 0.11969402821483162, 2578: 0.12449473209391043, 2579: 0.13481846779389536, 2580: 0.12397492110395673, 2581: 0.12506742304130247, 2582: 0.12273422788720878, 2583: 0.12104229544248353, 2584: 0.12734715089922236, 2585: 0.1400044368987604, 2586: 0.11686734237579473, 2587: 0.10987931606048695, 2588: 0.11703705792926822, 2589: 0.13086241672084323, 2590: 0.12212314719851827, 2591: 0.1194279710999852, 2592: 0.09583350379811527, 2593: 0.11833201436466807, 2594: 0.1128521461259362, 2595: 0.09556968973124769, 2596: 0.10741581844698307, 2597: 0.12031946221989978, 2598: 0.125018920439569, 2599: 0.0913895801852511, 2600: 0.0007532011046949536, 2601: 0.00025106703489831785, 2602: 0.10071371569821566, 2603: 0.1006822609170669, 2604: 0.10656363401653855, 2605: 0.08481832414712348, 2606: 0.10339480018026209, 2607: 0.08843482830796019, 2608: 0.11905621578211567, 2609: 0.10301718849277426, 2610: 0.1102982312886368, 2611: 0.09428786670848704, 2612: 0.07210018256547449, 2613: 0.10433657822888018, 2614: 0.0, 2615: 0.0, 2616: 0.0007532011046949536, 2617: 0.08358365486088674, 2618: 0.0010042681395932714, 2619: 0.0005021340697966357, 2620: 0.0, 2621: 0.10286691498081874, 2622: 0.1229348177126945, 2623: 0.10674005552879337, 2624: 0.0008034145116746172, 2625: 0.09290207961853522, 2626: 0.098287883354424, 2627: 0.09558183378941168, 2628: 0.07386793394003799, 2629: 0.10745673875877239, 2630: 0.0, 2631: 0.0004519206628169721, 2632: 0.09273790794124114, 2633: 0.0, 2634: 0.00025106703489831785, 2635: 0.11117309655799687, 2636: 0.13397800355840528, 2637: 0.09568721171751772, 2638: 0.09398940038878005, 2639: 0.08409135509350552, 2640: 0.0, 2641: 0.12947337850331173, 2642: 0.14782780962556308, 2643: 0.09603743090327362, 2644: 0.0, 2645: 0.1354578014247086, 2646: 0.09266935706682355, 2647: 0.08109359664837103, 2648: 0.00025106703489831785, 2649: 0.08798656817305028, 2650: 0.0, 2651: 0.0, 2652: 0.0, 2653: 0.10016385609366683, 2654: 0.00025106703489831785, 2655: 0.10429799934989001, 2656: 0.09951892012940333, 2657: 0.10878285354484286, 2658: 0.09508243854271353, 2659: 0.08987181942467722, 2660: 0.10401915340343967, 2661: 0.0009451935431466084, 2662: 0.0009451935431466084, 2663: 0.11919456549409574, 2664: 0.11467585699431955, 2665: 0.0, 2666: 0.00025106703489831785, 2667: 0.0, 2668: 0.09165312188514765, 2669: 0.0008966679817797065, 2670: 0.0, 2671: 0.11804108981190671, 2672: 0.00025106703489831785, 2673: 0.00025106703489831785, 2674: 0.1080639552693334, 2675: 0.09913418767008832, 2676: 0.0005021340697966357, 2677: 0.09568315442394082, 2678: 0.11253697954988133, 2679: 0.09651802882524466, 2680: 0.10431728522255086, 2681: 0.0842483298090058, 2682: 0.0, 2683: 0.1062625501005001, 2684: 0.11464090194748121, 2685: 0.0, 2686: 0.00025106703489831785, 2687: 0.0, 2688: 0.0, 2689: 0.0831095872839651, 2690: 0.09426423467706338, 2691: 0.0006695120930621809, 2692: 0.12391365185515459, 2693: 0.12226209643681098, 2694: 0.10875663954572366, 2695: 0.1139922971274106, 2696: 0.10725244838090402, 2697: 0.10549256761882196, 2698: 0.10549256761882196, 2699: 0.07354773202314778, 2700: 0.1031584692084215, 2701: 0.1290218132609617, 2702: 0.12753427794360916, 2703: 0.11252575615509228, 2704: 0.10322925498326717, 2705: 0.11192855086226974, 2706: 0.0831095872839651, 2707: 0.1098258390000594, 2708: 0.09209074085595087, 2709: 0.00025106703489831785, 2710: 0.11363639409478397, 2711: 0.1109981069323276, 2712: 0.12372342310073034, 2713: 0.11190079906447586, 2714: 0.10299367932150709, 2715: 0.08270144080972734, 2716: 0.0, 2717: 0.09467554075662767, 2718: 0.0005021340697966357, 2719: 0.0005021340697966357, 2720: 0.09479883691540163, 2721: 0.0, 2722: 0.118232815358599, 2723: 0.11079646064389553, 2724: 0.0, 2725: 0.00025106703489831785, 2726: 0.09589459093720128, 2727: 0.08892971483484613, 2728: 0.09131192141521549, 2729: 0.0, 2730: 0.0, 2731: 0.10390898899176776, 2732: 0.0, 2733: 0.10840137935025317, 2734: 0.09475902888780635, 2735: 0.06884679848473686, 2736: 0.06307909414474815, 2737: 0.10083973160846459, 2738: 0.07576522676384033, 2739: 0.10212207602544329, 2740: 0.09215843804354408, 2741: 0.09404815845353923, 2742: 0.10412955165586361, 2743: 0.08865370919832719, 2744: 0.0, 2745: 0.111260798438725, 2746: 0.10281535966530984, 2747: 0.11651734981846545, 2748: 0.09968157584301707, 2749: 0.0, 2750: 0.09556968973124769, 2751: 0.10013274378479857, 2752: 0.00025106703489831785, 2753: 0.00033475604653109047, 2754: 0.08690897415498634, 2755: 0.10980446274800353, 2756: 0.13697896770269638, 2757: 0.09365781995244543, 2758: 0.13876469769611488, 2759: 0.0950503986325016, 2760: 0.00025106703489831785, 2761: 0.00025106703489831785, 2762: 0.00025106703489831785, 2763: 0.00025106703489831785, 2764: 0.11383703344267872, 2765: 0.10987931606048695, 2766: 0.11402685770258819, 2767: 0.09536774211538417, 2768: 0.10011053253778537, 2769: 0.09345999229381736, 2770: 0.1044815035620993, 2771: 0.00025106703489831785, 2772: 0.00025106703489831785, 2773: 0.10048499416370041, 2774: 0.115050041497615, 2775: 0.09523090453807481, 2776: 0.11390598727647369, 2777: 0.0, 2778: 0.0962340191024871, 2779: 0.09913418767008832, 2780: 0.0016737802326554521, 2781: 0.1130386972866914, 2782: 0.09119752319488443, 2783: 0.10961245028096471, 2784: 0.09400506202600377, 2785: 0.0, 2786: 0.0011183895190925066, 2787: 0.0, 2788: 0.08884918158651155, 2789: 0.0888701761946369, 2790: 0.08308816649855372, 2791: 0.0853766983441497, 2792: 0.08312489460839946, 2793: 0.08097719574888651, 2794: 0.08097719574888651, 2795: 0.07486535445339461, 2796: 0.10430282014949019, 2797: 0.0010461126454096577, 2798: 0.0, 2799: 0.11116761978098529, 2800: 0.10985257102201443, 2801: 0.10399997759859067, 2802: 0.0005021340697966357, 2803: 0.0005021340697966357, 2804: 0.0, 2805: 0.00025106703489831785, 2806: 0.00025106703489831785, 2807: 0.11110741082886363, 2808: 0.0, 2809: 0.11049806649369408, 2810: 0.0008034145116746172, 2811: 0.0005021340697966357, 2812: 0.0999951927121115, 2813: 0.0, 2814: 0.0005021340697966357, 2815: 0.10924100856533961, 2816: 0.11318611194935148, 2817: 0.07770364360504874, 2818: 0.00025106703489831785, 2819: 0.00025106703489831785, 2820: 0.08663537121105004, 2821: 0.10736471186288993, 2822: 0.08454503442861715, 2823: 0.0, 2824: 0.0010042681395932714, 2825: 0.10775434600010603, 2826: 0.07770364360504874, 2827: 0.0, 2828: 0.09317058273882, 2829: 0.10204357031447141, 2830: 0.08314020757255251, 2831: 0.0, 2832: 0.0005021340697966357, 2833: 0.11513809449126079, 2834: 0.0005021340697966357, 2835: 0.00025106703489831785, 2836: 0.0005021340697966357, 2837: 0.00025106703489831785, 2838: 0.10203434228315338, 2839: 0.10038218478355072, 2840: 0.09524296264441905, 2841: 0.10944764351218451, 2842: 0.107191312651255, 2843: 0.09524296264441905, 2844: 0.0005649008285212152, 2845: 0.09348709561414452, 2846: 0.0, 2847: 0.0007845844840572432, 2848: 0.09383697246898788, 2849: 0.0, 2850: 0.0, 2851: 0.0007532011046949536, 2852: 0.07603583509448819, 2853: 0.0005021340697966357, 2854: 0.0, 2855: 0.09774718504436544, 2856: 0.1030642390470071, 2857: 0.0, 2858: 0.0007532011046949536, 2859: 0.0011955573090396087, 2860: 0.00025106703489831785, 2861: 0.09626275547880815, 2862: 0.00025106703489831785, 2863: 0.11644519912968782, 2864: 0.0, 2865: 0.1177024574344993, 2866: 0.00025106703489831785, 2867: 0.1274910459849842, 2868: 0.09264272575475081, 2869: 0.08457038241330511, 2870: 0.10143807938210107, 2871: 0.0, 2872: 0.10143807938210107, 2873: 0.0, 2874: 0.0, 2875: 0.00025106703489831785, 2876: 0.11861814097635724, 2877: 0.0, 2878: 0.0, 2879: 0.0, 2880: 0.0006276675872457946, 2881: 0.07799908450915007, 2882: 0.10225627668724942, 2883: 0.09951892012940333, 2884: 0.09561828448873815, 2885: 0.10731365388692317, 2886: 0.0, 2887: 0.00025106703489831785, 2888: 0.0, 2889: 0.0, 2890: 0.00025106703489831785, 2891: 0.00033475604653109047, 2892: 0.0006276675872457946, 2893: 0.10731365388692317, 2894: 0.00025106703489831785, 2895: 0.09639434062085521, 2896: 0.00033475604653109047, 2897: 0.00025106703489831785, 2898: 0.0, 2899: 0.09561828448873815, 2900: 0.0, 2901: 0.0, 2902: 0.09984918203248762, 2903: 0.07603583509448819, 2904: 0.0, 2905: 0.08963976777366411, 2906: 0.0, 2907: 0.09436672579493248, 2908: 0.08386010308574159, 2909: 0.08386010308574159, 2910: 0.00025106703489831785, 2911: 0.0012360223256532572, 2912: 0.11903109578722547, 2913: 0.10772348262049936, 2914: 0.1086100743097762, 2915: 0.13886717008825972, 2916: 0.1002528550328411, 2917: 0.11888686127886941, 2918: 0.10374179449863094, 2919: 0.11517335343919871, 2920: 0.1019744007381364, 2921: 0.10125147009172256, 2922: 0.10880908018391534, 2923: 0.12058951071096138, 2924: 0.120712074137917, 2925: 0.10706925004432626, 2926: 0.12055729853265415, 2927: 0.11840652292655161, 2928: 0.13747130758051906, 2929: 0.12018489102760015, 2930: 0.11999316781528344, 2931: 0.0, 2932: 0.10253505606753091, 2933: 0.11711602210578266, 2934: 0.1327953577316672, 2935: 0.12278097360760762, 2936: 0.11754917507601294, 2937: 0.1442187968258593, 2938: 0.10727284245741682, 2939: 0.10633265073669873, 2940: 0.1422639965914904, 2941: 0.0, 2942: 0.10433657822888018, 2943: 0.11007226544725723, 2944: 0.0, 2945: 0.08129517666741913, 2946: 0.11731694899580038, 2947: 0.1177024574344993, 2948: 0.093274563466053, 2949: 0.11883677465554901, 2950: 0.10863098801011989, 2951: 0.10950075281124905, 2952: 0.0012553351744915891, 2953: 0.09354910512951747, 2954: 0.11151371387300951, 2955: 0.00025106703489831785, 2956: 0.09360343097454042, 2957: 0.10287160439160378, 2958: 0.0, 2959: 0.0, 2960: 0.0961315290932189, 2961: 0.09940931779445905, 2962: 0.0, 2963: 0.10192373595005513, 2964: 0.10751817771746809, 2965: 0.0, 2966: 0.08715737182550772, 2967: 0.0005021340697966357, 2968: 0.0, 2969: 0.0, 2970: 0.08883868800181963, 2971: 0.11651734981846545, 2972: 0.11651734981846545, 2973: 0.0, 2974: 0.0, 2975: 0.12370307608454228, 2976: 0.11497383777114284, 2977: 0.10281535966530984, 2978: 0.10942641421463584, 2979: 0.09393853608917743, 2980: 0.09523492356759741, 2981: 0.12461160273533715, 2982: 0.10732896617998669, 2983: 0.09394244677299948, 2984: 0.12461160273533715, 2985: 0.1138083273115907, 2986: 0.11387149992098805, 2987: 0.12404306914765943, 2988: 0.14432948602073684, 2989: 0.09774295118180015, 2990: 0.0, 2991: 0.0913895801852511, 2992: 0.0005021340697966357, 2993: 0.00033475604653109047, 2994: 0.00033475604653109047, 2995: 0.10048051981183632, 2996: 0.0005649008285212152, 2997: 0.0005021340697966357, 2998: 0.0008034145116746172, 2999: 0.09301312863996622, 3000: 0.0, 3001: 0.10317733592127568, 3002: 0.0, 3003: 0.0, 3004: 0.09151930542783876, 3005: 0.00025106703489831785, 3006: 0.0846465176463566, 3007: 0.1266609516128323, 3008: 0.10416800599797905, 3009: 0.11504417608637371, 3010: 0.10382293599881391, 3011: 0.11872423391036041, 3012: 0.10749256961531083, 3013: 0.0, 3014: 0.12026175196835537, 3015: 0.10829733233835104, 3016: 0.11051971368078266, 3017: 0.11461761041925135, 3018: 0.10789860925381181, 3019: 0.10744650575822401, 3020: 0.00025106703489831785, 3021: 0.0915267294234119, 3022: 0.00025106703489831785, 3023: 0.10751817771746809, 3024: 0.11298210153378162, 3025: 0.0, 3026: 0.08454503442861715, 3027: 0.0971161780828981, 3028: 0.07791290660270761, 3029: 0.09991107384814576, 3030: 0.09342130051476798, 3031: 0.00025106703489831785, 3032: 0.09598840928726106, 3033: 0.10094348082908612, 3034: 0.07479339478088962, 3035: 0.1002528550328411, 3036: 0.00025106703489831785, 3037: 0.10083973160846459, 3038: 0.08082347829277294, 3039: 0.10066429557631354, 3040: 0.0005021340697966357, 3041: 0.0004519206628169721, 3042: 0.0, 3043: 0.0913895801852511, 3044: 0.0, 3045: 0.09032146629579813, 3046: 0.10564072440120875, 3047: 0.10950075281124905, 3048: 0.0, 3049: 0.08454503442861715, 3050: 0.09396591771535374, 3051: 0.08695250901411145, 3052: 0.0, 3053: 0.08513833291583552, 3054: 0.0840600303197698, 3055: 0.08966113771194455, 3056: 0.09479087263438714, 3057: 0.08742412497808076, 3058: 0.0, 3059: 0.07652575671236504, 3060: 0.07652835194947673, 3061: 0.09596799838114402, 3062: 0.0851768963097505, 3063: 0.08966113771194455, 3064: 0.0, 3065: 0.10688667648419006, 3066: 0.09933492599965754, 3067: 0.09704517756565692, 3068: 0.08014887280888724, 3069: 0.0, 3070: 0.11905621578211567, 3071: 0.10308307130483853, 3072: 0.00025106703489831785, 3073: 0.10212207602544329, 3074: 0.07588497541561759, 3075: 0.11387149992098805, 3076: 0.06946992315778162, 3077: 0.09818951848987123, 3078: 0.1221099304076959, 3079: 0.10916702210508542, 3080: 0.11563369274579659, 3081: 0.09485861170853001, 3082: 0.00025106703489831785, 3083: 0.00025106703489831785, 3084: 0.09462393131223669, 3085: 0.1068006774544096, 3086: 0.08684876703745605, 3087: 0.0, 3088: 0.0, 3089: 0.0, 3090: 0.00025106703489831785, 3091: 0.0700239407290455, 3092: 0.09969478745015332, 3093: 0.00025106703489831785, 3094: 0.00025106703489831785, 3095: 0.10925687585621287, 3096: 0.09571968245744308, 3097: 0.11969402821483162, 3098: 0.10229799691437601, 3099: 0.10229335965250319, 3100: 0.0927302861694769, 3101: 0.11145312954680794, 3102: 0.10464623974838715, 3103: 0.10015941029446163, 3104: 0.08992912421528794, 3105: 0.08689893383911816, 3106: 0.10176286421349359, 3107: 0.09968157584301707, 3108: 0.09968157584301707, 3109: 0.09864880935231564, 3110: 0.09965956427744647, 3111: 0.08128053574664915, 3112: 0.116325146344359, 3113: 0.09113122986569018, 3114: 0.10002621958928282, 3115: 0.09727106831907498, 3116: 0.10417281478784139, 3117: 0.10302189161496624, 3118: 0.10302189161496624, 3119: 0.09854541743893709, 3120: 0.08531536914685144, 3121: 0.0, 3122: 0.09714126189988034, 3123: 0.0971161780828981, 3124: 0.0, 3125: 0.10046262638831005, 3126: 0.10371318659500967, 3127: 0.11133765117101936, 3128: 0.07339702435954532, 3129: 0.09209074085595087, 3130: 0.09968157584301707, 3131: 0.1072779421884583, 3132: 0.0, 3133: 0.12189226564761088, 3134: 0.00033475604653109047, 3135: 0.08836556815343306, 3136: 0.08690228035330305, 3137: 0.11791772555438262, 3138: 0.10302189161496624, 3139: 0.08128053574664915, 3140: 0.09113122986569018, 3141: 0.00025106703489831785, 3142: 0.11969402821483162, 3143: 0.0010042681395932714, 3144: 0.08539608378180588, 3145: 0.11217336153175028, 3146: 0.0013214054468332517, 3147: 0.0, 3148: 0.09584978609073697, 3149: 0.1006328716524358, 3150: 0.1006328716524358, 3151: 0.1006328716524358, 3152: 0.0005021340697966357, 3153: 0.0007532011046949536, 3154: 0.0917500107312145, 3155: 0.10935217648450381, 3156: 0.10641287908772142, 3157: 0.09181720771185338, 3158: 0.0, 3159: 0.10150652305043499, 3160: 0.11007226544725723, 3161: 0.10092090849437481, 3162: 0.09743065989958208, 3163: 0.0912491513924068, 3164: 0.0, 3165: 0.0016737802326554521, 3166: 0.00025106703489831785, 3167: 0.12251433378219341, 3168: 0.09854541743893709, 3169: 0.09854541743893709, 3170: 0.10192373595005513, 3171: 0.10302189161496624, 3172: 0.09938304914710738, 3173: 0.0007532011046949536, 3174: 0.09743065989958208, 3175: 0.00025106703489831785, 3176: 0.08312183269243481, 3177: 0.0785393120539545, 3178: 0.0, 3179: 0.08768229382709902, 3180: 0.0, 3181: 0.11925125582276704, 3182: 0.09968157584301707, 3183: 0.09965956427744647, 3184: 0.0012553351744915891, 3185: 0.0, 3186: 0.0005738675083390122, 3187: 0.00025106703489831785, 3188: 0.00025106703489831785, 3189: 0.08139781098489414, 3190: 0.0, 3191: 0.0, 3192: 0.0, 3193: 0.1026003234488597, 3194: 0.08539608378180588, 3195: 0.07064432000545409, 3196: 0.077958664890977, 3197: 0.10562094612376412, 3198: 0.08358365486088674, 3199: 0.09965956427744647, 3200: 0.0007532011046949536, 3201: 0.0007532011046949536, 3202: 0.00025106703489831785, 3203: 0.0007532011046949536, 3204: 0.0, 3205: 0.00025106703489831785, 3206: 0.0005021340697966357, 3207: 0.0010042681395932714, 3208: 0.08635026648047375, 3209: 0.0010042681395932714, 3210: 0.0010042681395932714, 3211: 0.0005021340697966357, 3212: 0.08915457761187706, 3213: 0.0010042681395932714, 3214: 0.08358365486088674, 3215: 0.0005021340697966357, 3216: 0.09204941929162637, 3217: 0.08358365486088674, 3218: 0.08358365486088674, 3219: 0.09028532903633753, 3220: 0.0, 3221: 0.1026003234488597, 3222: 0.0005021340697966357, 3223: 0.0, 3224: 0.10791408894525466, 3225: 0.0016737802326554521, 3226: 0.09621760601774701, 3227: 0.0012553351744915891, 3228: 0.0011955573090396087, 3229: 0.10938928275409475, 3230: 0.07973539853482987, 3231: 0.09373562822689294, 3232: 0.10527602117724377, 3233: 0.08091331757804943, 3234: 0.0, 3235: 0.14007396113806458, 3236: 0.0005706068974961769, 3237: 0.0, 3238: 0.0906043328488806, 3239: 0.09381746617612025, 3240: 0.0, 3241: 0.0, 3242: 0.0960169991462097, 3243: 0.07306431969999094, 3244: 0.09857555101931768, 3245: 0.07306431969999094, 3246: 0.10294199689495098, 3247: 0.0938252677200208, 3248: 0.10739536997592901, 3249: 0.00025106703489831785, 3250: 0.00025106703489831785, 3251: 0.08514154519824255, 3252: 0.08015741382261368, 3253: 0.08601126368098111, 3254: 0.08015741382261368, 3255: 0.07650240749683766, 3256: 0.06944854319189427, 3257: 0.0764998140190596, 3258: 0.00025106703489831785, 3259: 0.00025106703489831785, 3260: 0.07720385623641658, 3261: 0.00025106703489831785, 3262: 0.00033475604653109047, 3263: 0.11264933675789839, 3264: 0.07652575671236504, 3265: 0.0, 3266: 0.00033475604653109047, 3267: 0.08270144080972734, 3268: 0.06701287384730714, 3269: 0.1229348177126945, 3270: 0.00025106703489831785, 3271: 0.09126022218361388, 3272: 0.0785393120539545, 3273: 0.09356074107277335, 3274: 0.07908707510371221, 3275: 0.1092198593453473, 3276: 0.11737797211621433, 3277: 0.11793621375218043, 3278: 0.08836556815343306, 3279: 0.0915675829384118, 3280: 0.08310346593261474, 3281: 0.0011955573090396087, 3282: 0.09361508043701391, 3283: 0.09583757385263826, 3284: 0.08855282007354787, 3285: 0.0876040030255142, 3286: 0.0, 3287: 0.0, 3288: 0.000865748396201096, 3289: 0.00025106703489831785, 3290: 0.10199744684208192, 3291: 0.0, 3292: 0.10725244838090402, 3293: 0.11625323342095824, 3294: 0.0, 3295: 0.11363639409478397, 3296: 0.0, 3297: 0.10371318659500967, 3298: 0.10650830763837354, 3299: 0.10651836270635924, 3300: 0.09450900506488338, 3301: 0.09450900506488338, 3302: 0.09451296339144834, 3303: 0.09801465985902012, 3304: 0.11628917876496883, 3305: 0.0008034145116746172, 3306: 0.00025106703489831785, 3307: 0.1092198593453473, 3308: 0.11389448917045476, 3309: 0.08311877100203398, 3310: 0.098287883354424, 3311: 0.0015691689681144865, 3312: 0.10070023267143649, 3313: 0.13618536595861316, 3314: 0.10071371569821566, 3315: 0.09785315094463468, 3316: 0.10071371569821566, 3317: 0.10376087520389095, 3318: 0.11190079906447586, 3319: 0.09583757385263826, 3320: 0.0, 3321: 0.11389448917045476, 3322: 0.09109444186719766, 3323: 0.08139781098489414, 3324: 0.1006328716524358, 3325: 0.0, 3326: 0.06646025546133652, 3327: 0.08139487497959243, 3328: 0.0, 3329: 0.08097719574888651, 3330: 0.08871644574360042, 3331: 0.08311877100203398, 3332: 0.08311877100203398, 3333: 0.0779102166114563, 3334: 0.12166225544178458, 3335: 0.09583757385263826, 3336: 0.08190002954067507, 3337: 0.08310346593261474, 3338: 0.08813777736727026, 3339: 0.0806847652293414, 3340: 0.09349096880035715, 3341: 0.10701847263275255, 3342: 0.08311877100203398, 3343: 0.0005021340697966357, 3344: 0.0, 3345: 0.0, 3346: 0.08871644574360042, 3347: 0.12051223038366998, 3348: 0.000865748396201096, 3349: 0.07289438621100948, 3350: 0.08031146394527085, 3351: 0.0006695120930621809, 3352: 0.11177331784309379, 3353: 0.09558183378941168, 3354: 0.11103633882469223, 3355: 0.10016385609366683, 3356: 0.11111288167483481, 3357: 0.11968767974616634, 3358: 0.10965506166160748, 3359: 0.10205280001511488, 3360: 0.09779378175229557, 3361: 0.0, 3362: 0.0011962605780449264, 3363: 0.12049292577606902, 3364: 0.12049292577606902, 3365: 0.0006974084302731051, 3366: 0.0005706068974961769, 3367: 0.0006974084302731051, 3368: 0.0, 3369: 0.11940269400149323, 3370: 0.12077668132809999, 3371: 0.11104180267366501, 3372: 0.11961155061667657, 3373: 0.10763099847058191, 3374: 0.11104180267366501, 3375: 0.0, 3376: 0.0957765593113289, 3377: 0.09576842990850996, 3378: 0.08497482730585255, 3379: 0.0, 3380: 0.09830501040880942, 3381: 0.11665588885102463, 3382: 0.09830501040880942, 3383: 0.14217436453718627, 3384: 0.12244121073978406, 3385: 0.08195654514179634, 3386: 0.08109359664837103, 3387: 0.12356760014972185, 3388: 0.08109359664837103, 3389: 0.0, 3390: 0.08418546964873048, 3391: 0.0, 3392: 0.12547075418038478, 3393: 0.0856456472572575, 3394: 0.1109871883697728, 3395: 0.00041844505816386303, 3396: 0.0005649008285212152, 3397: 0.10900881667234533, 3398: 0.12027457168394737, 3399: 0.0, 3400: 0.13457726108863433, 3401: 0.13336829278571044, 3402: 0.13671340809004123, 3403: 0.14566172953357995, 3404: 0.1337318664178156, 3405: 0.10986861648250744, 3406: 0.0, 3407: 0.0008034145116746172, 3408: 0.09574811243780636, 3409: 0.08473869748157042, 3410: 0.10825057631844097, 3411: 0.15030916631813898, 3412: 0.10989001772263064, 3413: 0.11966863838013579, 3414: 0.13674654671762332, 3415: 0.13607860543533862, 3416: 0.0849780272616916, 3417: 0.10987396601101473, 3418: 0.00025106703489831785, 3419: 0.0, 3420: 0.1402655093196308, 3421: 0.12679617429534307, 3422: 0.10989001772263064, 3423: 0.10966571968383246, 3424: 0.0, 3425: 0.09050621721951711, 3426: 0.09491446956610812, 3427: 0.0, 3428: 0.12620052088441477, 3429: 0.09401681167961921, 3430: 0.13336829278571044, 3431: 0.13490712703618224, 3432: 0.00033475604653109047, 3433: 0.1448389931921836, 3434: 0.0, 3435: 0.10482123346034097, 3436: 0.09189198655919781, 3437: 0.0013214054468332517, 3438: 0.0, 3439: 0.11415953427096778, 3440: 0.08422317448341807, 3441: 0.06307909414474815, 3442: 0.12855141357720296, 3443: 0.11275065024154195, 3444: 0.11361922934062839, 3445: 0.10376087520389095, 3446: 0.00025106703489831785, 3447: 0.10382293599881391, 3448: 0.12090610340410524, 3449: 0.12189226564761088, 3450: 0.10828174251123898, 3451: 0.12275425740816083, 3452: 0.0016737802326554521, 3453: 0.0012553351744915891, 3454: 0.0012553351744915891, 3455: 0.0009298779070308068, 3456: 0.0011955573090396087, 3457: 0.0, 3458: 0.0005649008285212152, 3459: 0.0003766005523474768, 3460: 0.0003766005523474768, 3461: 0.0, 3462: 0.0005649008285212152, 3463: 0.0, 3464: 0.11546211184681848, 3465: 0.1096763797780909, 3466: 0.10979911998512165, 3467: 0.10790892855462032, 3468: 0.1107203529725833, 3469: 0.11788076654308209, 3470: 0.12722509522096298, 3471: 0.12642677538989414, 3472: 0.11415953427096778, 3473: 0.144357184872967, 3474: 0.1506201784764531, 3475: 0.13990027984713083, 3476: 0.1370288750263675, 3477: 0.13061246246074087, 3478: 0.09829644613556739, 3479: 0.0005021340697966357, 3480: 0.0, 3481: 0.12244121073978406, 3482: 0.09588644148611457, 3483: 0.11415953427096778, 3484: 0.00025106703489831785, 3485: 0.00025106703489831785, 3486: 0.12356760014972185, 3487: 0.09576842990850996, 3488: 0.09630794733192012, 3489: 0.11500313494721336, 3490: 0.104370358167255, 3491: 0.10662405565744756, 3492: 0.12479767248834313, 3493: 0.11331114807603417, 3494: 0.00025106703489831785, 3495: 0.0957765593113289, 3496: 0.0, 3497: 0.00033475604653109047, 3498: 0.0005021340697966357, 3499: 0.09854541743893709, 3500: 0.12695310908209398, 3501: 0.10382293599881391, 3502: 0.1031584692084215, 3503: 0.11802874177175691, 3504: 0.11702491904445472, 3505: 0.13341560328332863, 3506: 0.09862294103991175, 3507: 0.1108073417104945, 3508: 0.11480420807561154, 3509: 0.11480420807561154, 3510: 0.07603583509448819, 3511: 0.09854541743893709, 3512: 0.0, 3513: 0.11933323711973666, 3514: 0.11651734981846545, 3515: 0.11651734981846545, 3516: 0.12366240212265564, 3517: 0.09607422998698145, 3518: 0.09784466521849805, 3519: 0.11006689659224565, 3520: 0.0, 3521: 0.09922572834114064, 3522: 0.11180100643748615, 3523: 0.0, 3524: 0.07539312131015403, 3525: 0.08377604373085165, 3526: 0.09682033354503884, 3527: 0.10678046249629586, 3528: 0.08329057372510318, 3529: 0.09530329900896277, 3530: 0.08548990430119034, 3531: 0.06967584258913208, 3532: 0.11925125582276704, 3533: 0.10845347786486376, 3534: 0.09788286258064634, 3535: 0.1079295730789277, 3536: 0.1098204941568143, 3537: 0.10825576943795732, 3538: 0.11550939362890153, 3539: 0.08056378129004714, 3540: 0.10130146857309302, 3541: 0.09012306857039899, 3542: 0.11672830094838714, 3543: 0.09012306857039899, 3544: 0.11579984163463952, 3545: 0.085418711254986, 3546: 0.08548990430119034, 3547: 0.08065016132717014, 3548: 0.09032508161286557, 3549: 0.11051971368078266, 3550: 0.07677831696554116, 3551: 0.076780929361491, 3552: 0.09709110721685828, 3553: 0.1082713517864994, 3554: 0.0854640021941456, 3555: 0.10887732866613047, 3556: 0.0, 3557: 0.12481147754060955, 3558: 0.12423428286358844, 3559: 0.10054319702077259, 3560: 0.08870249661691118, 3561: 0.10054319702077259, 3562: 0.08548990430119034, 3563: 0.0, 3564: 0.11820184976869835, 3565: 0.10380383246396892, 3566: 0.11238005547481177, 3567: 0.10512398741890526, 3568: 0.09778530631946182, 3569: 0.12130908041792389, 3570: 0.10042685865305832, 3571: 0.0, 3572: 0.106927194557156, 3573: 0.1232100198708283, 3574: 0.09358790286721219, 3575: 0.09356849997654021, 3576: 0.08971104054759563, 3577: 0.00025106703489831785, 3578: 0.0011517202077081564, 3579: 0.0, 3580: 0.0, 3581: 0.001649053933763951, 3582: 0.09622170876403804, 3583: 0.09614791282208013, 3584: 0.087255104552402, 3585: 0.0, 3586: 0.002340592680181092, 3587: 0.09479883691540163, 3588: 0.0, 3589: 0.08526379180587244, 3590: 0.002267449158925433, 3591: 0.08420431784522632, 3592: 0.0016874040252468337, 3593: 0.001506402209389907, 3594: 0.0016874040252468337, 3595: 0.0015437951720343374, 3596: 0.0015116327726169554, 3597: 0.001769716416722289, 3598: 0.001506402209389907, 3599: 0.001769716416722289, 3600: 0.002502012865021167, 3601: 0.0020730963738746816, 3602: 0.001506402209389907, 3603: 0.002198738578351935, 3604: 0.002340592680181092, 3605: 0.002267449158925433, 3606: 0.001506402209389907, 3607: 0.002198738578351935, 3608: 0.002502012865021167, 3609: 0.001506402209389907, 3610: 0.002198738578351935, 3611: 0.00025106703489831785, 3612: 0.00025106703489831785, 3613: 0.001506402209389907, 3614: 0.001506402209389907, 3615: 0.0853089185669976, 3616: 0.08716073827478642, 3617: 0.07815035546092537, 3618: 0.08716073827478642, 3619: 0.08716073827478642, 3620: 0.08716073827478642, 3621: 0.08716073827478642, 3622: 0.08715737182550772, 3623: 0.08716073827478642, 3624: 0.08716073827478642, 3625: 0.07815035546092537, 3626: 0.08716073827478642, 3627: 0.0853089185669976, 3628: 0.08716073827478642, 3629: 0.1020020573129422, 3630: 0.0, 3631: 0.06853108339207424, 3632: 0.09514658320758192, 3633: 0.1262782044730957, 3634: 0.08598504473152799, 3635: 0.09707022471433821, 3636: 0.09709946273383048, 3637: 0.08602765864565669, 3638: 0.10387550699384185, 3639: 0.11142011128890635, 3640: 0.11152473628220917, 3641: 0.11035756621352799, 3642: 0.0, 3643: 0.11470500248737968, 3644: 0.10645806076021232, 3645: 0.12242128323844303, 3646: 0.1038133833525427, 3647: 0.1035989125853558, 3648: 0.12038364971641613, 3649: 0.12241464217935447, 3650: 0.10510440213946065, 3651: 0.12053797948476151, 3652: 0.10773891209998665, 3653: 0.12462536665014746, 3654: 0.1128521461259362, 3655: 0.11291991162601184, 3656: 0.10704385531683602, 3657: 0.11224031404795924, 3658: 0.09781073702631964, 3659: 0.1124136452094361, 3660: 0.10830772805059852, 3661: 0.10534974388114941, 3662: 0.10866237366659702, 3663: 0.10704893329858729, 3664: 0.11835684013082032, 3665: 0.0857921725253477, 3666: 0.11662574365260325, 3667: 0.11095444556663488, 3668: 0.0, 3669: 0.12363530100450473, 3670: 0.10532515817662638, 3671: 0.118462465952765, 3672: 0.11035756621352799, 3673: 0.1009841364868084, 3674: 0.09726687560061295, 3675: 0.0, 3676: 0.10139250152472234, 3677: 0.00025106703489831785, 3678: 0.0012553351744915891, 3679: 0.10452990151631557, 3680: 0.12479767248834313, 3681: 0.0, 3682: 0.00033475604653109047, 3683: 0.0005021340697966357, 3684: 0.00025106703489831785, 3685: 0.10355137270256151, 3686: 0.00025106703489831785, 3687: 0.09466759717809374, 3688: 0.10127419055444845, 3689: 0.09466759717809374, 3690: 0.0005649008285212152, 3691: 0.0005649008285212152, 3692: 0.0007532011046949536, 3693: 0.11196187119495016, 3694: 0.12267417852319763, 3695: 0.12266084219895747, 3696: 0.10977241396771029, 3697: 0.12145271872627666, 3698: 0.11192299940155839, 3699: 0.11169586269040342, 3700: 0.10945826125020472, 3701: 0.11151922480524933, 3702: 0.11255381884055167, 3703: 0.12166225544178458, 3704: 0.1267463218340946, 3705: 0.11042236807272561, 3706: 0.09401681167961921, 3707: 0.10754892355038702, 3708: 0.1212308753590964, 3709: 0.12481838121213674, 3710: 0.08606046733283325, 3711: 0.10784188836005831, 3712: 0.00025106703489831785, 3713: 0.00025106703489831785, 3714: 0.07003915434787611, 3715: 0.11000251115990155, 3716: 0.10986326747488902, 3717: 0.00025106703489831785, 3718: 0.00025106703489831785, 3719: 0.0964149333020389, 3720: 0.0, 3721: 0.0, 3722: 0.0, 3723: 0.09424455036477698, 3724: 0.12417275705355309, 3725: 0.0, 3726: 0.00025106703489831785, 3727: 0.09778530631946182, 3728: 0.0, 3729: 0.0, 3730: 0.0, 3731: 0.10672491079900777, 3732: 0.0, 3733: 0.0, 3734: 0.00025106703489831785, 3735: 0.08376982381521347, 3736: 0.0, 3737: 0.09810840893588194, 3738: 0.09372394874503553, 3739: 0.08379159756170287, 3740: 0.07540067876016507, 3741: 0.10477256541620487, 3742: 0.0889051892653936, 3743: 0.09426423467706338, 3744: 0.12363530100450473, 3745: 0.08378226457021684, 3746: 0.07539312131015403, 3747: 0.09436277970787908, 3748: 0.09421307255904394, 3749: 0.09564260040409513, 3750: 0.0, 3751: 0.0, 3752: 0.09421307255904394, 3753: 0.00025106703489831785, 3754: 0.00025106703489831785, 3755: 0.0, 3756: 0.10705909070757286, 3757: 0.0, 3758: 0.10884056884841654, 3759: 0.11792388764288358, 3760: 0.10474824833747483, 3761: 0.08448805698207422, 3762: 0.08448805698207422, 3763: 0.11158539850339813, 3764: 0.10978843601898514, 3765: 0.09740963109445827, 3766: 0.10415358229180377, 3767: 0.10465109279479759, 3768: 0.1123856523698501, 3769: 0.10800706044772031, 3770: 0.06407858683366141, 3771: 0.11018513251631935, 3772: 0.09781073702631964, 3773: 0.10474824833747483, 3774: 0.1232100198708283, 3775: 0.11876797441759056, 3776: 0.0, 3777: 0.10878809786116861, 3778: 0.12649055571380158, 3779: 0.08329057372510318, 3780: 0.10816236945473902, 3781: 0.1223018543132741, 3782: 0.10945826125020472, 3783: 0.1123856523698501, 3784: 0.10829213523055094, 3785: 0.00025106703489831785, 3786: 0.10809501408000671, 3787: 0.10454927325492125, 3788: 0.11202301002453437, 3789: 0.10745162201486692, 3790: 0.09198188211528228, 3791: 0.104539586488197, 3792: 0.10472880280012162, 3793: 0.09454860325697491, 3794: 0.0, 3795: 0.09797210584527506, 3796: 0.10809501408000671, 3797: 0.09205317426508201, 3798: 0.10790892855462032, 3799: 0.09481476949303448, 3800: 0.11024434578798281, 3801: 0.10452021833877817, 3802: 0.09204566462449912, 3803: 0.11360778905171527, 3804: 0.10490407298285623, 3805: 0.11183425086402123, 3806: 0.09570344433327199, 3807: 0.10835453346462214, 3808: 0.08491407390156991, 3809: 0.09468745862429592, 3810: 0.10835453346462214, 3811: 0.10460743157492214, 3812: 0.10477256541620487, 3813: 0.09440225543566853, 3814: 0.10477743018685148, 3815: 0.1138083273115907, 3816: 0.11094899031094058, 3817: 0.12351349282617516, 3818: 0.0, 3819: 0.11090536756938224, 3820: 0.0966668743117812, 3821: 0.13432891921746654, 3822: 0.0005021340697966357, 3823: 0.10392813125474235, 3824: 0.11361922934062839, 3825: 0.09713289918793992, 3826: 0.10461228102240139, 3827: 0.09570344433327199, 3828: 0.0835867508958114, 3829: 0.10293730106442024, 3830: 0.0005021340697966357, 3831: 0.0, 3832: 0.10542356991049849, 3833: 0.0, 3834: 0.0005021340697966357, 3835: 0.0005021340697966357, 3836: 0.11068233833304986, 3837: 0.10872519941865673, 3838: 0.11073665295584555, 3839: 0.10627756388330525, 3840: 0.09767103159341327, 3841: 0.10781612584492214, 3842: 0.10483584269148527, 3843: 0.1047239425438194, 3844: 0.10627756388330525, 3845: 0.118462465952765, 3846: 0.10461228102240139, 3847: 0.12145271872627666, 3848: 0.09723334686031629, 3849: 0.108998285945719, 3850: 0.10959647954998641, 3851: 0.08547047624930765, 3852: 0.11365928850278133, 3853: 0.10415358229180377, 3854: 0.1042209271168585, 3855: 0.09653867439290782, 3856: 0.10482610275162449, 3857: 0.12168849837867883, 3858: 0.09780225865445413, 3859: 0.10561600271151458, 3860: 0.11022280632707568, 3861: 0.09372394874503553, 3862: 0.00025106703489831785, 3863: 0.10627756388330525, 3864: 0.09466362588867441, 3865: 0.12175415527863497, 3866: 0.09889090292888471, 3867: 0.10897196802850205, 3868: 0.0, 3869: 0.0, 3870: 0.09762455176007875, 3871: 0.10576946397629343, 3872: 0.10875139826189013, 3873: 0.12059595521238886, 3874: 0.12358790261976123, 3875: 0.10544327432990143, 3876: 0.11069862712456319, 3877: 0.1039712271440389, 3878: 0.09724172687814447, 3879: 0.09584571499890505, 3880: 0.09781497676351195, 3881: 0.12214958936528204, 3882: 0.118462465952765, 3883: 0.12070561722033808, 3884: 0.11908134638175305, 3885: 0.0, 3886: 0.09697428078789086, 3887: 0.0, 3888: 0.0, 3889: 0.11292556242477207, 3890: 0.0, 3891: 0.10479689378787074, 3892: 0.11923865331224413, 3893: 0.10691706215930163, 3894: 0.0978234573406546, 3895: 0.10512398741890526, 3896: 0.11963057381828027, 3897: 0.10423055491613029, 3898: 0.0, 3899: 0.0, 3900: 0.09744748948198043, 3901: 0.07721706521811594, 3902: 0.11240244640038953, 3903: 0.00025106703489831785, 3904: 0.0, 3905: 0.0, 3906: 0.00033475604653109047, 3907: 0.10656363401653855, 3908: 0.10805878053604465, 3909: 0.09179479778441281, 3910: 0.10687655176348491, 3911: 0.1122794066043497, 3912: 0.0, 3913: 0.0, 3914: 0.00025106703489831785, 3915: 0.00025106703489831785, 3916: 0.10709465682379671, 3917: 0.09708692999760016, 3918: 0.10626755422341515, 3919: 0.10816236945473902, 3920: 0.1259821077453227, 3921: 0.0, 3922: 0.0, 3923: 0.12254760040915719, 3924: 0.11014210825528213, 3925: 0.11162955794876182, 3926: 0.11014210825528213, 3927: 0.09132300744371591, 3928: 0.0927302861694769, 3929: 0.0, 3930: 0.10816236945473902, 3931: 0.09588644148611457, 3932: 0.10960712618681856, 3933: 0.10960712618681856, 3934: 0.11133765117101936, 3935: 0.09133039962498869, 3936: 0.11114024398809202, 3937: 0.10827654689958352, 3938: 0.08625454911452565, 3939: 0.12207029719432112, 3940: 0.09661307162453313, 3941: 0.11150820348540892, 3942: 0.1280626249324227, 3943: 0.124556577465045, 3944: 0.0, 3945: 0.0, 3946: 0.11912535046899754, 3947: 0.0004519206628169721, 3948: 0.0, 3949: 0.10393291792254146, 3950: 0.09682033354503884, 3951: 0.11025511867563495, 3952: 0.12403625097203431, 3953: 0.09617249888911611, 3954: 0.0, 3955: 0.09133039962498869, 3956: 0.10524656097822958, 3957: 0.00033475604653109047, 3958: 0.09464774406233624, 3959: 0.09445757697506155, 3960: 0.10825576943795732, 3961: 0.09743065989958208, 3962: 0.00033475604653109047, 3963: 0.12089962571305761, 3964: 0.09500637899689374, 3965: 0.11595455084190023, 3966: 0.12545680290955805, 3967: 0.10991678100020556, 3968: 0.1076874976823775, 3969: 0.0, 3970: 0.12428217843995265, 3971: 0.1114036094951728, 3972: 0.10690693168155299, 3973: 0.00025106703489831785, 3974: 0.10676025518920473, 3975: 0.07596416595752442, 3976: 0.09411483980206949, 3977: 0.0, 3978: 0.10612262574935198, 3979: 0.00025106703489831785, 3980: 0.11753080801740733, 3981: 0.1335656415468612, 3982: 0.00025106703489831785, 3983: 0.00025106703489831785}\n"
          ]
        }
      ]
    },
    {
      "cell_type": "code",
      "source": [
        ""
      ],
      "metadata": {
        "id": "We0lO1_aP-al"
      },
      "execution_count": null,
      "outputs": []
    }
  ],
  "metadata": {
    "colab": {
      "collapsed_sections": [],
      "name": "Part B and C.ipynb",
      "provenance": []
    },
    "interpreter": {
      "hash": "916dbcbb3f70747c44a77c7bcd40155683ae19c65e1c03b4aa3499c5328201f1"
    },
    "kernelspec": {
      "display_name": "Python 3 (ipykernel)",
      "language": "python",
      "name": "python3"
    },
    "language_info": {
      "codemirror_mode": {
        "name": "ipython",
        "version": 3
      },
      "file_extension": ".py",
      "mimetype": "text/x-python",
      "name": "python",
      "nbconvert_exporter": "python",
      "pygments_lexer": "ipython3",
      "version": "3.9.7"
    }
  },
  "nbformat": 4,
  "nbformat_minor": 0
}